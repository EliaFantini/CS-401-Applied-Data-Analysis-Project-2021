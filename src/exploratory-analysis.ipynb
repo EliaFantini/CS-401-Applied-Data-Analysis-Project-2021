{
 "cells": [
  {
   "cell_type": "code",
   "execution_count": 1,
   "metadata": {},
   "outputs": [],
   "source": [
    "# imports\n",
    "import numpy as np\n",
    "import pandas as pd\n",
    "import json\n",
    "from tqdm import tqdm\n",
    "import bz2"
   ]
  },
  {
   "cell_type": "code",
   "execution_count": 5,
   "metadata": {},
   "outputs": [],
   "source": [
    "# dataset loading\n",
    "DATASET_PATH_JSON_BZ2 = \"../data/raw/quotes-2020.json.bz2\"\n",
    "DATASET_PATH_JSON = \"../data/raw/quotes-2020.json\"\n",
    "DATASET_PATH_PICKLE =\"../data/binary/data.pickle\"\n",
    "\n",
    "data = [] \n",
    "columns = ['quoteID', 'quotation', 'speaker']\n",
    "\n",
    "def save_pickle(json_path_bz2, pickle_path):\n",
    "    with bz2.open(json_path_bz2, 'rb') as s_file:\n",
    "        count = 0\n",
    "        for instance in tqdm(s_file):\n",
    "            count += 1\n",
    "            instance = json.loads(instance) # loading a sample\n",
    "            if instance['speaker'] == \"None\":\n",
    "                continue\n",
    "            row = dict((k, instance[k]) for k in columns)\n",
    "            data.append(row)\n",
    "            if count % 100000 == 0:\n",
    "                print(count)\n",
    "        df = pd.DataFrame(data)\n",
    "        df.to_pickle(pickle_path)\n",
    "\n",
    "save = False\n",
    "if save:\n",
    "    df = save_pickle(DATASET_PATH_JSON_BZ2, DATASET_PATH_PICKLE)"
   ]
  },
  {
   "cell_type": "code",
   "execution_count": 6,
   "metadata": {},
   "outputs": [
    {
     "data": {
      "text/html": [
       "<div>\n",
       "<style scoped>\n",
       "    .dataframe tbody tr th:only-of-type {\n",
       "        vertical-align: middle;\n",
       "    }\n",
       "\n",
       "    .dataframe tbody tr th {\n",
       "        vertical-align: top;\n",
       "    }\n",
       "\n",
       "    .dataframe thead th {\n",
       "        text-align: right;\n",
       "    }\n",
       "</style>\n",
       "<table border=\"1\" class=\"dataframe\">\n",
       "  <thead>\n",
       "    <tr style=\"text-align: right;\">\n",
       "      <th></th>\n",
       "      <th>quoteID</th>\n",
       "      <th>quotation</th>\n",
       "      <th>speaker</th>\n",
       "    </tr>\n",
       "  </thead>\n",
       "  <tbody>\n",
       "    <tr>\n",
       "      <th>0</th>\n",
       "      <td>2020-01-16-000088</td>\n",
       "      <td>[ Department of Homeland Security ] was livid ...</td>\n",
       "      <td>Sue Myrick</td>\n",
       "    </tr>\n",
       "    <tr>\n",
       "      <th>1</th>\n",
       "      <td>2020-01-24-000168</td>\n",
       "      <td>[ I met them ] when they just turned 4 and 7. ...</td>\n",
       "      <td>Meghan King Edmonds</td>\n",
       "    </tr>\n",
       "    <tr>\n",
       "      <th>2</th>\n",
       "      <td>2020-01-17-000357</td>\n",
       "      <td>[ The delay ] will have an impact [ on Slough ...</td>\n",
       "      <td>Dexter Smith</td>\n",
       "    </tr>\n",
       "    <tr>\n",
       "      <th>3</th>\n",
       "      <td>2020-04-02-000239</td>\n",
       "      <td>[ The scheme ] treats addiction as an illness ...</td>\n",
       "      <td>Barry Coppinger</td>\n",
       "    </tr>\n",
       "    <tr>\n",
       "      <th>4</th>\n",
       "      <td>2020-03-19-000276</td>\n",
       "      <td>[ These ] actions will allow households who ha...</td>\n",
       "      <td>Ben Carson</td>\n",
       "    </tr>\n",
       "    <tr>\n",
       "      <th>...</th>\n",
       "      <td>...</td>\n",
       "      <td>...</td>\n",
       "      <td>...</td>\n",
       "    </tr>\n",
       "    <tr>\n",
       "      <th>3443600</th>\n",
       "      <td>2020-03-03-079268</td>\n",
       "      <td>you're going to take care of the gun problem w...</td>\n",
       "      <td>Joe Biden</td>\n",
       "    </tr>\n",
       "    <tr>\n",
       "      <th>3443601</th>\n",
       "      <td>2020-02-24-080186</td>\n",
       "      <td>you're seeing a young team that's maturing, th...</td>\n",
       "      <td>Brendan Whittet</td>\n",
       "    </tr>\n",
       "    <tr>\n",
       "      <th>3443602</th>\n",
       "      <td>2020-02-07-122251</td>\n",
       "      <td>You're talking about African-Americans, right?...</td>\n",
       "      <td>Barry Michael Cooper</td>\n",
       "    </tr>\n",
       "    <tr>\n",
       "      <th>3443603</th>\n",
       "      <td>2020-02-04-118820</td>\n",
       "      <td>You've got to sometimes take that leap of fait...</td>\n",
       "      <td>Brad Gushue</td>\n",
       "    </tr>\n",
       "    <tr>\n",
       "      <th>3443604</th>\n",
       "      <td>2020-02-24-080256</td>\n",
       "      <td>You've got to think that long term, it augurs ...</td>\n",
       "      <td>John Colley</td>\n",
       "    </tr>\n",
       "  </tbody>\n",
       "</table>\n",
       "<p>3443605 rows × 3 columns</p>\n",
       "</div>"
      ],
      "text/plain": [
       "                   quoteID                                          quotation  \\\n",
       "0        2020-01-16-000088  [ Department of Homeland Security ] was livid ...   \n",
       "1        2020-01-24-000168  [ I met them ] when they just turned 4 and 7. ...   \n",
       "2        2020-01-17-000357  [ The delay ] will have an impact [ on Slough ...   \n",
       "3        2020-04-02-000239  [ The scheme ] treats addiction as an illness ...   \n",
       "4        2020-03-19-000276  [ These ] actions will allow households who ha...   \n",
       "...                    ...                                                ...   \n",
       "3443600  2020-03-03-079268  you're going to take care of the gun problem w...   \n",
       "3443601  2020-02-24-080186  you're seeing a young team that's maturing, th...   \n",
       "3443602  2020-02-07-122251  You're talking about African-Americans, right?...   \n",
       "3443603  2020-02-04-118820  You've got to sometimes take that leap of fait...   \n",
       "3443604  2020-02-24-080256  You've got to think that long term, it augurs ...   \n",
       "\n",
       "                      speaker  \n",
       "0                  Sue Myrick  \n",
       "1         Meghan King Edmonds  \n",
       "2                Dexter Smith  \n",
       "3             Barry Coppinger  \n",
       "4                  Ben Carson  \n",
       "...                       ...  \n",
       "3443600             Joe Biden  \n",
       "3443601       Brendan Whittet  \n",
       "3443602  Barry Michael Cooper  \n",
       "3443603           Brad Gushue  \n",
       "3443604           John Colley  \n",
       "\n",
       "[3443605 rows x 3 columns]"
      ]
     },
     "execution_count": 6,
     "metadata": {},
     "output_type": "execute_result"
    }
   ],
   "source": [
    "df = pd.read_pickle(DATASET_PATH_PICKLE)\n",
    "df"
   ]
  },
  {
   "cell_type": "code",
   "execution_count": 7,
   "metadata": {},
   "outputs": [
    {
     "data": {
      "text/plain": [
       "President Donald Trump    28023\n",
       "Bernie Sanders            13189\n",
       "Joe Biden                 12817\n",
       "President Trump           12415\n",
       "Andrew Cuomo              11088\n",
       "                          ...  \n",
       "Gail Peck                     1\n",
       "Huy Pham                      1\n",
       "Prince Johnson                1\n",
       "Ahmad Zubi                    1\n",
       "Tjungkara Ken                 1\n",
       "Name: speaker, Length: 218414, dtype: int64"
      ]
     },
     "execution_count": 7,
     "metadata": {},
     "output_type": "execute_result"
    }
   ],
   "source": [
    "df['speaker'].value_counts()"
   ]
  },
  {
   "cell_type": "code",
   "execution_count": 17,
   "metadata": {},
   "outputs": [],
   "source": [
    "# extra speaker info\n",
    "PARQUET_PATH = \"../data/raw/speaker_attributes.parquet\"\n",
    "df_meta = pd.read_parquet(PARQUET_PATH)"
   ]
  },
  {
   "cell_type": "code",
   "execution_count": 50,
   "metadata": {},
   "outputs": [],
   "source": [
    "df_meta.head()\n",
    "df_meta = df_meta[[\"aliases\", \"US_congress_bio_ID\", \"party\", \"label\"]]"
   ]
  },
  {
   "cell_type": "code",
   "execution_count": 51,
   "metadata": {},
   "outputs": [],
   "source": [
    "df_meta_notna = df_meta[df_meta['US_congress_bio_ID'].notna() & df_meta['party'].notna()]"
   ]
  },
  {
   "cell_type": "code",
   "execution_count": 52,
   "metadata": {},
   "outputs": [
    {
     "data": {
      "text/html": [
       "<div>\n",
       "<style scoped>\n",
       "    .dataframe tbody tr th:only-of-type {\n",
       "        vertical-align: middle;\n",
       "    }\n",
       "\n",
       "    .dataframe tbody tr th {\n",
       "        vertical-align: top;\n",
       "    }\n",
       "\n",
       "    .dataframe thead th {\n",
       "        text-align: right;\n",
       "    }\n",
       "</style>\n",
       "<table border=\"1\" class=\"dataframe\">\n",
       "  <thead>\n",
       "    <tr style=\"text-align: right;\">\n",
       "      <th></th>\n",
       "      <th>aliases</th>\n",
       "      <th>US_congress_bio_ID</th>\n",
       "      <th>party</th>\n",
       "      <th>label</th>\n",
       "    </tr>\n",
       "  </thead>\n",
       "  <tbody>\n",
       "    <tr>\n",
       "      <th>0</th>\n",
       "      <td>[Washington, President Washington, G. Washingt...</td>\n",
       "      <td>W000178</td>\n",
       "      <td>[Q327591]</td>\n",
       "      <td>George Washington</td>\n",
       "    </tr>\n",
       "    <tr>\n",
       "      <th>57</th>\n",
       "      <td>[Elisha Meredith, Elisha Edward Meredith]</td>\n",
       "      <td>M000647</td>\n",
       "      <td>[Q29552]</td>\n",
       "      <td>Elisha E. Meredith</td>\n",
       "    </tr>\n",
       "    <tr>\n",
       "      <th>79</th>\n",
       "      <td>[Willard Mitt Romney, Pierre Delecto]</td>\n",
       "      <td>R000615</td>\n",
       "      <td>[Q29468]</td>\n",
       "      <td>Mitt Romney</td>\n",
       "    </tr>\n",
       "    <tr>\n",
       "      <th>196</th>\n",
       "      <td>[Richard Milhous Nixon, Nixon, President Nixon...</td>\n",
       "      <td>N000116</td>\n",
       "      <td>[Q29468]</td>\n",
       "      <td>Richard Nixon</td>\n",
       "    </tr>\n",
       "    <tr>\n",
       "      <th>234</th>\n",
       "      <td>[President Jefferson, T. Jefferson]</td>\n",
       "      <td>J000069</td>\n",
       "      <td>[Q42186]</td>\n",
       "      <td>Thomas Jefferson</td>\n",
       "    </tr>\n",
       "  </tbody>\n",
       "</table>\n",
       "</div>"
      ],
      "text/plain": [
       "                                               aliases US_congress_bio_ID  \\\n",
       "0    [Washington, President Washington, G. Washingt...            W000178   \n",
       "57           [Elisha Meredith, Elisha Edward Meredith]            M000647   \n",
       "79               [Willard Mitt Romney, Pierre Delecto]            R000615   \n",
       "196  [Richard Milhous Nixon, Nixon, President Nixon...            N000116   \n",
       "234                [President Jefferson, T. Jefferson]            J000069   \n",
       "\n",
       "         party               label  \n",
       "0    [Q327591]   George Washington  \n",
       "57    [Q29552]  Elisha E. Meredith  \n",
       "79    [Q29468]         Mitt Romney  \n",
       "196   [Q29468]       Richard Nixon  \n",
       "234   [Q42186]    Thomas Jefferson  "
      ]
     },
     "execution_count": 52,
     "metadata": {},
     "output_type": "execute_result"
    }
   ],
   "source": [
    "df_meta_notna.head()"
   ]
  },
  {
   "cell_type": "code",
   "execution_count": 53,
   "metadata": {},
   "outputs": [
    {
     "name": "stderr",
     "output_type": "stream",
     "text": [
      "C:\\Users\\mstyc\\AppData\\Local\\Temp/ipykernel_16880/23628598.py:1: SettingWithCopyWarning: \n",
      "A value is trying to be set on a copy of a slice from a DataFrame.\n",
      "Try using .loc[row_indexer,col_indexer] = value instead\n",
      "\n",
      "See the caveats in the documentation: https://pandas.pydata.org/pandas-docs/stable/user_guide/indexing.html#returning-a-view-versus-a-copy\n",
      "  df_meta_notna[\"party\"] = df_meta_notna[\"party\"].apply(lambda x: x[0])\n"
     ]
    }
   ],
   "source": [
    "df_meta_notna[\"party\"] = df_meta_notna[\"party\"].apply(lambda x: x[0])"
   ]
  },
  {
   "cell_type": "code",
   "execution_count": 54,
   "metadata": {},
   "outputs": [
    {
     "data": {
      "text/html": [
       "<div>\n",
       "<style scoped>\n",
       "    .dataframe tbody tr th:only-of-type {\n",
       "        vertical-align: middle;\n",
       "    }\n",
       "\n",
       "    .dataframe tbody tr th {\n",
       "        vertical-align: top;\n",
       "    }\n",
       "\n",
       "    .dataframe thead th {\n",
       "        text-align: right;\n",
       "    }\n",
       "</style>\n",
       "<table border=\"1\" class=\"dataframe\">\n",
       "  <thead>\n",
       "    <tr style=\"text-align: right;\">\n",
       "      <th></th>\n",
       "      <th>aliases</th>\n",
       "      <th>US_congress_bio_ID</th>\n",
       "      <th>party</th>\n",
       "      <th>label</th>\n",
       "    </tr>\n",
       "  </thead>\n",
       "  <tbody>\n",
       "    <tr>\n",
       "      <th>0</th>\n",
       "      <td>[Washington, President Washington, G. Washingt...</td>\n",
       "      <td>W000178</td>\n",
       "      <td>Q327591</td>\n",
       "      <td>George Washington</td>\n",
       "    </tr>\n",
       "    <tr>\n",
       "      <th>57</th>\n",
       "      <td>[Elisha Meredith, Elisha Edward Meredith]</td>\n",
       "      <td>M000647</td>\n",
       "      <td>Q29552</td>\n",
       "      <td>Elisha E. Meredith</td>\n",
       "    </tr>\n",
       "    <tr>\n",
       "      <th>79</th>\n",
       "      <td>[Willard Mitt Romney, Pierre Delecto]</td>\n",
       "      <td>R000615</td>\n",
       "      <td>Q29468</td>\n",
       "      <td>Mitt Romney</td>\n",
       "    </tr>\n",
       "    <tr>\n",
       "      <th>196</th>\n",
       "      <td>[Richard Milhous Nixon, Nixon, President Nixon...</td>\n",
       "      <td>N000116</td>\n",
       "      <td>Q29468</td>\n",
       "      <td>Richard Nixon</td>\n",
       "    </tr>\n",
       "    <tr>\n",
       "      <th>234</th>\n",
       "      <td>[President Jefferson, T. Jefferson]</td>\n",
       "      <td>J000069</td>\n",
       "      <td>Q42186</td>\n",
       "      <td>Thomas Jefferson</td>\n",
       "    </tr>\n",
       "  </tbody>\n",
       "</table>\n",
       "</div>"
      ],
      "text/plain": [
       "                                               aliases US_congress_bio_ID  \\\n",
       "0    [Washington, President Washington, G. Washingt...            W000178   \n",
       "57           [Elisha Meredith, Elisha Edward Meredith]            M000647   \n",
       "79               [Willard Mitt Romney, Pierre Delecto]            R000615   \n",
       "196  [Richard Milhous Nixon, Nixon, President Nixon...            N000116   \n",
       "234                [President Jefferson, T. Jefferson]            J000069   \n",
       "\n",
       "       party               label  \n",
       "0    Q327591   George Washington  \n",
       "57    Q29552  Elisha E. Meredith  \n",
       "79    Q29468         Mitt Romney  \n",
       "196   Q29468       Richard Nixon  \n",
       "234   Q42186    Thomas Jefferson  "
      ]
     },
     "execution_count": 54,
     "metadata": {},
     "output_type": "execute_result"
    }
   ],
   "source": [
    "df_meta_notna.head()"
   ]
  },
  {
   "cell_type": "code",
   "execution_count": 55,
   "metadata": {},
   "outputs": [
    {
     "data": {
      "text/plain": [
       "Q29552       5617\n",
       "Q29468       4541\n",
       "Q42186        540\n",
       "Q42183        528\n",
       "Q42189        323\n",
       "             ... \n",
       "Q19867638       1\n",
       "Q7054998        1\n",
       "Q6542163        1\n",
       "Q1128321        1\n",
       "Q581259         1\n",
       "Name: party, Length: 81, dtype: int64"
      ]
     },
     "execution_count": 55,
     "metadata": {},
     "output_type": "execute_result"
    }
   ],
   "source": [
    "df_meta_notna[\"party\"].value_counts()"
   ]
  },
  {
   "cell_type": "code",
   "execution_count": 56,
   "metadata": {},
   "outputs": [],
   "source": [
    "democrats = df_meta_notna[df_meta_notna[\"party\"] == \"Q29552\"]\n",
    "republican = df_meta_notna[df_meta_notna[\"party\"] == \"Q29468\"]"
   ]
  },
  {
   "cell_type": "code",
   "execution_count": 61,
   "metadata": {},
   "outputs": [
    {
     "data": {
      "text/html": [
       "<div>\n",
       "<style scoped>\n",
       "    .dataframe tbody tr th:only-of-type {\n",
       "        vertical-align: middle;\n",
       "    }\n",
       "\n",
       "    .dataframe tbody tr th {\n",
       "        vertical-align: top;\n",
       "    }\n",
       "\n",
       "    .dataframe thead th {\n",
       "        text-align: right;\n",
       "    }\n",
       "</style>\n",
       "<table border=\"1\" class=\"dataframe\">\n",
       "  <thead>\n",
       "    <tr style=\"text-align: right;\">\n",
       "      <th></th>\n",
       "      <th>aliases</th>\n",
       "      <th>US_congress_bio_ID</th>\n",
       "      <th>party</th>\n",
       "      <th>label</th>\n",
       "    </tr>\n",
       "  </thead>\n",
       "  <tbody>\n",
       "    <tr>\n",
       "      <th>235</th>\n",
       "      <td>[J. Tyler, President Tyler, John Tyler, Jr., J...</td>\n",
       "      <td>T000450</td>\n",
       "      <td>Q42183</td>\n",
       "      <td>John Tyler</td>\n",
       "    </tr>\n",
       "    <tr>\n",
       "      <th>5885</th>\n",
       "      <td>None</td>\n",
       "      <td>C000104</td>\n",
       "      <td>Q42183</td>\n",
       "      <td>William B. Campbell</td>\n",
       "    </tr>\n",
       "    <tr>\n",
       "      <th>6868</th>\n",
       "      <td>None</td>\n",
       "      <td>M000284</td>\n",
       "      <td>Q42183</td>\n",
       "      <td>Horace Maynard</td>\n",
       "    </tr>\n",
       "    <tr>\n",
       "      <th>7063</th>\n",
       "      <td>None</td>\n",
       "      <td>B001058</td>\n",
       "      <td>Q42183</td>\n",
       "      <td>Samuel Bunch</td>\n",
       "    </tr>\n",
       "    <tr>\n",
       "      <th>7387</th>\n",
       "      <td>None</td>\n",
       "      <td>R000135</td>\n",
       "      <td>Q42183</td>\n",
       "      <td>David Addison Reese</td>\n",
       "    </tr>\n",
       "  </tbody>\n",
       "</table>\n",
       "</div>"
      ],
      "text/plain": [
       "                                                aliases US_congress_bio_ID  \\\n",
       "235   [J. Tyler, President Tyler, John Tyler, Jr., J...            T000450   \n",
       "5885                                               None            C000104   \n",
       "6868                                               None            M000284   \n",
       "7063                                               None            B001058   \n",
       "7387                                               None            R000135   \n",
       "\n",
       "       party                label  \n",
       "235   Q42183           John Tyler  \n",
       "5885  Q42183  William B. Campbell  \n",
       "6868  Q42183       Horace Maynard  \n",
       "7063  Q42183         Samuel Bunch  \n",
       "7387  Q42183  David Addison Reese  "
      ]
     },
     "execution_count": 61,
     "metadata": {},
     "output_type": "execute_result"
    }
   ],
   "source": [
    "df_meta_notna[df_meta_notna[\"party\"] == \"Q42183\"].head()"
   ]
  }
 ],
 "metadata": {
  "interpreter": {
   "hash": "5ca7bf982d50e176929d33c65df232637f1d4c63720dcda24aee19eb37e3e0c5"
  },
  "kernelspec": {
   "display_name": "Python 3.8.12 64-bit ('ada': conda)",
   "name": "python3"
  },
  "language_info": {
   "codemirror_mode": {
    "name": "ipython",
    "version": 3
   },
   "file_extension": ".py",
   "mimetype": "text/x-python",
   "name": "python",
   "nbconvert_exporter": "python",
   "pygments_lexer": "ipython3",
   "version": "3.8.12"
  },
  "orig_nbformat": 4
 },
 "nbformat": 4,
 "nbformat_minor": 2
}
