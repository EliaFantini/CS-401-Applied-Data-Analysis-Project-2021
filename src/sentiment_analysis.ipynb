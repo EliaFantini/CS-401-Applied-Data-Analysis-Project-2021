{
 "cells": [
  {
   "cell_type": "markdown",
   "metadata": {},
   "source": [
    "## Sentiment analysis\n",
    "Emotions are one of the important aspects of politicians' speeches. It would be interesting to identify whether a certain quotation carries negative or positive emotions. This notebook aims to achieve that by performing sentiment analysis on the quotations.\n"
   ]
  },
  {
   "cell_type": "code",
   "execution_count": 3,
   "metadata": {},
   "outputs": [
    {
     "data": {
      "text/html": [
       "<div>\n",
       "<style scoped>\n",
       "    .dataframe tbody tr th:only-of-type {\n",
       "        vertical-align: middle;\n",
       "    }\n",
       "\n",
       "    .dataframe tbody tr th {\n",
       "        vertical-align: top;\n",
       "    }\n",
       "\n",
       "    .dataframe thead th {\n",
       "        text-align: right;\n",
       "    }\n",
       "</style>\n",
       "<table border=\"1\" class=\"dataframe\">\n",
       "  <thead>\n",
       "    <tr style=\"text-align: right;\">\n",
       "      <th></th>\n",
       "      <th>speaker_id</th>\n",
       "      <th>quote_id</th>\n",
       "      <th>quotation</th>\n",
       "      <th>speaker</th>\n",
       "      <th>party</th>\n",
       "      <th>Date-Time</th>\n",
       "    </tr>\n",
       "  </thead>\n",
       "  <tbody>\n",
       "    <tr>\n",
       "      <th>0</th>\n",
       "      <td>1282411</td>\n",
       "      <td>2015-06-11-000090</td>\n",
       "      <td>25-year cost estimate for the U.S. nuclear mod...</td>\n",
       "      <td>Ed Markey</td>\n",
       "      <td>29552</td>\n",
       "      <td>2015-06-11</td>\n",
       "    </tr>\n",
       "    <tr>\n",
       "      <th>1</th>\n",
       "      <td>1282411</td>\n",
       "      <td>2015-08-11-090504</td>\n",
       "      <td>The state is transitioning to a higher percent...</td>\n",
       "      <td>Ed Markey</td>\n",
       "      <td>29552</td>\n",
       "      <td>2015-08-11</td>\n",
       "    </tr>\n",
       "    <tr>\n",
       "      <th>2</th>\n",
       "      <td>1282411</td>\n",
       "      <td>2015-10-27-125840</td>\n",
       "      <td>This highly coveted TIGER grant funding would ...</td>\n",
       "      <td>Ed Markey</td>\n",
       "      <td>29552</td>\n",
       "      <td>2015-10-27</td>\n",
       "    </tr>\n",
       "    <tr>\n",
       "      <th>3</th>\n",
       "      <td>1282411</td>\n",
       "      <td>2015-01-19-008025</td>\n",
       "      <td>carefully cutting the Gordian knot that has ti...</td>\n",
       "      <td>Ed Markey</td>\n",
       "      <td>29552</td>\n",
       "      <td>2015-01-19</td>\n",
       "    </tr>\n",
       "    <tr>\n",
       "      <th>4</th>\n",
       "      <td>1282411</td>\n",
       "      <td>2015-12-09-094134</td>\n",
       "      <td>The amendments would improve the safety of agi...</td>\n",
       "      <td>Ed Markey</td>\n",
       "      <td>29552</td>\n",
       "      <td>2015-12-09</td>\n",
       "    </tr>\n",
       "  </tbody>\n",
       "</table>\n",
       "</div>"
      ],
      "text/plain": [
       "   speaker_id           quote_id  \\\n",
       "0     1282411  2015-06-11-000090   \n",
       "1     1282411  2015-08-11-090504   \n",
       "2     1282411  2015-10-27-125840   \n",
       "3     1282411  2015-01-19-008025   \n",
       "4     1282411  2015-12-09-094134   \n",
       "\n",
       "                                           quotation    speaker  party  \\\n",
       "0  25-year cost estimate for the U.S. nuclear mod...  Ed Markey  29552   \n",
       "1  The state is transitioning to a higher percent...  Ed Markey  29552   \n",
       "2  This highly coveted TIGER grant funding would ...  Ed Markey  29552   \n",
       "3  carefully cutting the Gordian knot that has ti...  Ed Markey  29552   \n",
       "4  The amendments would improve the safety of agi...  Ed Markey  29552   \n",
       "\n",
       "   Date-Time  \n",
       "0 2015-06-11  \n",
       "1 2015-08-11  \n",
       "2 2015-10-27  \n",
       "3 2015-01-19  \n",
       "4 2015-12-09  "
      ]
     },
     "execution_count": 3,
     "metadata": {},
     "output_type": "execute_result"
    }
   ],
   "source": [
    "# load the dataset\n",
    "import pandas as pd\n",
    "data = pd.read_pickle(\"../data/binary/us-politicians.pickle\")\n",
    "data.head()"
   ]
  },
  {
   "cell_type": "code",
   "execution_count": null,
   "metadata": {},
   "outputs": [],
   "source": [
    "democratic_party = 29552\n",
    "republican_party = 29468\n",
    "democrats = "
   ]
  }
 ],
 "metadata": {
  "interpreter": {
   "hash": "5ca7bf982d50e176929d33c65df232637f1d4c63720dcda24aee19eb37e3e0c5"
  },
  "kernelspec": {
   "display_name": "Python 3.8.12 64-bit ('ada': conda)",
   "language": "python",
   "name": "python3"
  },
  "language_info": {
   "codemirror_mode": {
    "name": "ipython",
    "version": 3
   },
   "file_extension": ".py",
   "mimetype": "text/x-python",
   "name": "python",
   "nbconvert_exporter": "python",
   "pygments_lexer": "ipython3",
   "version": "3.8.12"
  },
  "orig_nbformat": 4
 },
 "nbformat": 4,
 "nbformat_minor": 2
}
