{
 "cells": [
  {
   "cell_type": "code",
   "execution_count": 19,
   "metadata": {},
   "outputs": [],
   "source": [
    "import pandas as pd\n",
    "import numpy as np\n",
    "import matplotlib.pyplot as plt"
   ]
  },
  {
   "cell_type": "code",
   "execution_count": 20,
   "metadata": {},
   "outputs": [
    {
     "data": {
      "text/html": [
       "<div>\n",
       "<style scoped>\n",
       "    .dataframe tbody tr th:only-of-type {\n",
       "        vertical-align: middle;\n",
       "    }\n",
       "\n",
       "    .dataframe tbody tr th {\n",
       "        vertical-align: top;\n",
       "    }\n",
       "\n",
       "    .dataframe thead th {\n",
       "        text-align: right;\n",
       "    }\n",
       "</style>\n",
       "<table border=\"1\" class=\"dataframe\">\n",
       "  <thead>\n",
       "    <tr style=\"text-align: right;\">\n",
       "      <th></th>\n",
       "      <th>speaker_id</th>\n",
       "      <th>quote_id</th>\n",
       "      <th>quotation</th>\n",
       "      <th>speaker</th>\n",
       "      <th>party</th>\n",
       "    </tr>\n",
       "  </thead>\n",
       "  <tbody>\n",
       "    <tr>\n",
       "      <th>0</th>\n",
       "      <td>1282411</td>\n",
       "      <td>2015-06-11-000090</td>\n",
       "      <td>25-year cost estimate for the U.S. nuclear mod...</td>\n",
       "      <td>Ed Markey</td>\n",
       "      <td>1</td>\n",
       "    </tr>\n",
       "    <tr>\n",
       "      <th>1</th>\n",
       "      <td>1282411</td>\n",
       "      <td>2015-08-11-090504</td>\n",
       "      <td>The state is transitioning to a higher percent...</td>\n",
       "      <td>Ed Markey</td>\n",
       "      <td>1</td>\n",
       "    </tr>\n",
       "    <tr>\n",
       "      <th>2</th>\n",
       "      <td>1282411</td>\n",
       "      <td>2015-10-27-125840</td>\n",
       "      <td>This highly coveted TIGER grant funding would ...</td>\n",
       "      <td>Ed Markey</td>\n",
       "      <td>1</td>\n",
       "    </tr>\n",
       "    <tr>\n",
       "      <th>3</th>\n",
       "      <td>1282411</td>\n",
       "      <td>2015-01-19-008025</td>\n",
       "      <td>carefully cutting the Gordian knot that has ti...</td>\n",
       "      <td>Ed Markey</td>\n",
       "      <td>1</td>\n",
       "    </tr>\n",
       "    <tr>\n",
       "      <th>4</th>\n",
       "      <td>1282411</td>\n",
       "      <td>2015-12-09-094134</td>\n",
       "      <td>The amendments would improve the safety of agi...</td>\n",
       "      <td>Ed Markey</td>\n",
       "      <td>1</td>\n",
       "    </tr>\n",
       "  </tbody>\n",
       "</table>\n",
       "</div>"
      ],
      "text/plain": [
       "   speaker_id           quote_id  \\\n",
       "0     1282411  2015-06-11-000090   \n",
       "1     1282411  2015-08-11-090504   \n",
       "2     1282411  2015-10-27-125840   \n",
       "3     1282411  2015-01-19-008025   \n",
       "4     1282411  2015-12-09-094134   \n",
       "\n",
       "                                           quotation    speaker  party  \n",
       "0  25-year cost estimate for the U.S. nuclear mod...  Ed Markey      1  \n",
       "1  The state is transitioning to a higher percent...  Ed Markey      1  \n",
       "2  This highly coveted TIGER grant funding would ...  Ed Markey      1  \n",
       "3  carefully cutting the Gordian knot that has ti...  Ed Markey      1  \n",
       "4  The amendments would improve the safety of agi...  Ed Markey      1  "
      ]
     },
     "execution_count": 20,
     "metadata": {},
     "output_type": "execute_result"
    }
   ],
   "source": [
    "#load pickle of us politicians and \n",
    "POLITICIANS_PICKLE_PATH = \"../data/binary/us-politicians.pickle\"\n",
    "df = pd.read_pickle(POLITICIANS_PICKLE_PATH)\n",
    "df.loc[df['party'] == 29552, 'party'] = 1\n",
    "df.loc[df['party'] == 29468, 'party'] = 0\n",
    "df.head()"
   ]
  },
  {
   "cell_type": "code",
   "execution_count": 21,
   "metadata": {},
   "outputs": [
    {
     "data": {
      "text/html": [
       "<div>\n",
       "<style scoped>\n",
       "    .dataframe tbody tr th:only-of-type {\n",
       "        vertical-align: middle;\n",
       "    }\n",
       "\n",
       "    .dataframe tbody tr th {\n",
       "        vertical-align: top;\n",
       "    }\n",
       "\n",
       "    .dataframe thead th {\n",
       "        text-align: right;\n",
       "    }\n",
       "</style>\n",
       "<table border=\"1\" class=\"dataframe\">\n",
       "  <thead>\n",
       "    <tr style=\"text-align: right;\">\n",
       "      <th></th>\n",
       "      <th>sentence</th>\n",
       "      <th>label</th>\n",
       "    </tr>\n",
       "  </thead>\n",
       "  <tbody>\n",
       "    <tr>\n",
       "      <th>1</th>\n",
       "      <td>We were in the midst of the greatest economic ...</td>\n",
       "      <td>408</td>\n",
       "    </tr>\n",
       "    <tr>\n",
       "      <th>2</th>\n",
       "      <td>the previous administration had put two wars o...</td>\n",
       "      <td>305</td>\n",
       "    </tr>\n",
       "    <tr>\n",
       "      <th>3</th>\n",
       "      <td>and the American Dream had slipped out of reac...</td>\n",
       "      <td>601</td>\n",
       "    </tr>\n",
       "    <tr>\n",
       "      <th>4</th>\n",
       "      <td>Today, our economy is growing again,</td>\n",
       "      <td>408</td>\n",
       "    </tr>\n",
       "    <tr>\n",
       "      <th>5</th>\n",
       "      <td>al-Qaeda is weaker than at any point since 9/11,</td>\n",
       "      <td>104</td>\n",
       "    </tr>\n",
       "  </tbody>\n",
       "</table>\n",
       "</div>"
      ],
      "text/plain": [
       "                                            sentence  label\n",
       "1  We were in the midst of the greatest economic ...    408\n",
       "2  the previous administration had put two wars o...    305\n",
       "3  and the American Dream had slipped out of reac...    601\n",
       "4               Today, our economy is growing again,    408\n",
       "5   al-Qaeda is weaker than at any point since 9/11,    104"
      ]
     },
     "execution_count": 21,
     "metadata": {},
     "output_type": "execute_result"
    }
   ],
   "source": [
    "#load pickle of labels\n",
    "LABELS_CSV_PATH = \"../data/binary/manifesto_data/join_result.csv\"\n",
    "labels = pd.read_csv(LABELS_CSV_PATH)\n",
    "labels = labels.drop(labels[labels['label'] == 0].index)\n",
    "labels.head()"
   ]
  },
  {
   "cell_type": "code",
   "execution_count": 22,
   "metadata": {},
   "outputs": [
    {
     "data": {
      "text/plain": [
       "<function matplotlib.pyplot.show(close=None, block=None)>"
      ]
     },
     "execution_count": 22,
     "metadata": {},
     "output_type": "execute_result"
    },
    {
     "data": {
      "image/png": "[encoded data removed]",
      "text/plain": [
       "<Figure size 432x288 with 1 Axes>"
      ]
     },
     "metadata": {
      "needs_background": "light"
     },
     "output_type": "display_data"
    }
   ],
   "source": [
    "# Division by topic:\n",
    "# 1: External Relations\n",
    "# 2: Freedom and Democracy\n",
    "# 3: Political System\n",
    "# 4: Economy\n",
    "# 5: Fabric of Society\n",
    "# 6: Social Groups\n",
    "topics = labels.copy()\n",
    "\n",
    "for i in range(1, 8):\n",
    "    topics.loc[ topics['label']//100 == i , 'label'] = i \n",
    "\n",
    "plt.hist(topics['label'], bins = 7)\n",
    "plt.show"
   ]
  },
  {
   "cell_type": "code",
   "execution_count": 29,
   "metadata": {},
   "outputs": [
    {
     "data": {
      "text/plain": [
       "<function matplotlib.pyplot.show(close=None, block=None)>"
      ]
     },
     "execution_count": 29,
     "metadata": {},
     "output_type": "execute_result"
    },
    {
     "data": {
      "image/png": "[encoded data removed]",
      "text/plain": [
       "<Figure size 432x288 with 1 Axes>"
      ]
     },
     "metadata": {
      "needs_background": "light"
     },
     "output_type": "display_data"
    }
   ],
   "source": [
    "# Division by left/right:\n",
    "# 0. Left\n",
    "# 1. Right\n",
    "labelLeftRight = {\n",
    "    'right': [104,201,203,305,401,402,407,414,505,601,603,605,606],\n",
    "    'left': [103,105,106,107,403,404,406,412,413,504,506,701,202]\n",
    "    }\n",
    "leftRight = labels.copy()\n",
    "leftRight.loc[ leftRight['label'].isin(labelLeftRight['right']), 'label'] = 1\n",
    "leftRight.loc[ leftRight['label'].isin(labelLeftRight['left']), 'label'] = 0\n",
    "leftRight = leftRight.drop(leftRight[(leftRight['label'] != 0) & (leftRight['label'] != 1)].index)\n",
    "\n",
    "plt.hist(leftRight['label'], bins = 2)\n",
    "plt.show"
   ]
  },
  {
   "cell_type": "code",
   "execution_count": null,
   "metadata": {},
   "outputs": [],
   "source": []
  },
  {
   "cell_type": "code",
   "execution_count": null,
   "metadata": {},
   "outputs": [],
   "source": []
  }
 ],
 "metadata": {
  "interpreter": {
   "hash": "31f2aee4e71d21fbe5cf8b01ff0e069b9275f58929596ceb00d14d90e3e16cd6"
  },
  "kernelspec": {
   "display_name": "Python 3.8.9 64-bit",
   "language": "python",
   "name": "python3"
  },
  "language_info": {
   "codemirror_mode": {
    "name": "ipython",
    "version": 3
   },
   "file_extension": ".py",
   "mimetype": "text/x-python",
   "name": "python",
   "nbconvert_exporter": "python",
   "pygments_lexer": "ipython3",
   "version": "3.8.9"
  },
  "orig_nbformat": 4
 },
 "nbformat": 4,
 "nbformat_minor": 2
}
