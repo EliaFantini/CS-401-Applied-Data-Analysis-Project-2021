{
 "cells": [
  {
   "cell_type": "code",
   "execution_count": 1,
   "metadata": {},
   "outputs": [],
   "source": [
    "import pandas as pd"
   ]
  },
  {
   "cell_type": "code",
   "execution_count": 11,
   "metadata": {},
   "outputs": [
    {
     "data": {
      "text/html": [
       "<div>\n",
       "<style scoped>\n",
       "    .dataframe tbody tr th:only-of-type {\n",
       "        vertical-align: middle;\n",
       "    }\n",
       "\n",
       "    .dataframe tbody tr th {\n",
       "        vertical-align: top;\n",
       "    }\n",
       "\n",
       "    .dataframe thead th {\n",
       "        text-align: right;\n",
       "    }\n",
       "</style>\n",
       "<table border=\"1\" class=\"dataframe\">\n",
       "  <thead>\n",
       "    <tr style=\"text-align: right;\">\n",
       "      <th></th>\n",
       "      <th>speaker_id</th>\n",
       "      <th>quote_id</th>\n",
       "      <th>quotation</th>\n",
       "      <th>speaker</th>\n",
       "      <th>party</th>\n",
       "    </tr>\n",
       "  </thead>\n",
       "  <tbody>\n",
       "    <tr>\n",
       "      <th>0</th>\n",
       "      <td>270316</td>\n",
       "      <td>2015-08-31-000271</td>\n",
       "      <td>... a great day for veterans here in Littleton...</td>\n",
       "      <td>Jeanne Shaheen</td>\n",
       "      <td>29552</td>\n",
       "    </tr>\n",
       "    <tr>\n",
       "      <th>1</th>\n",
       "      <td>270316</td>\n",
       "      <td>2015-02-03-074650</td>\n",
       "      <td>The safety and security of our nation is at ri...</td>\n",
       "      <td>Jeanne Shaheen</td>\n",
       "      <td>29552</td>\n",
       "    </tr>\n",
       "    <tr>\n",
       "      <th>2</th>\n",
       "      <td>270316</td>\n",
       "      <td>2015-05-10-027625</td>\n",
       "      <td>It's been my experience that the faith communi...</td>\n",
       "      <td>Jeanne Shaheen</td>\n",
       "      <td>29552</td>\n",
       "    </tr>\n",
       "    <tr>\n",
       "      <th>3</th>\n",
       "      <td>270316</td>\n",
       "      <td>2015-09-01-113454</td>\n",
       "      <td>we need to bring the parents in so they can se...</td>\n",
       "      <td>Jeanne Shaheen</td>\n",
       "      <td>29552</td>\n",
       "    </tr>\n",
       "    <tr>\n",
       "      <th>4</th>\n",
       "      <td>270316</td>\n",
       "      <td>2015-11-11-069028</td>\n",
       "      <td>Listen, a month ago people were saying Hillary...</td>\n",
       "      <td>Jeanne Shaheen</td>\n",
       "      <td>29552</td>\n",
       "    </tr>\n",
       "  </tbody>\n",
       "</table>\n",
       "</div>"
      ],
      "text/plain": [
       "   speaker_id           quote_id  \\\n",
       "0      270316  2015-08-31-000271   \n",
       "1      270316  2015-02-03-074650   \n",
       "2      270316  2015-05-10-027625   \n",
       "3      270316  2015-09-01-113454   \n",
       "4      270316  2015-11-11-069028   \n",
       "\n",
       "                                           quotation         speaker  party  \n",
       "0  ... a great day for veterans here in Littleton...  Jeanne Shaheen  29552  \n",
       "1  The safety and security of our nation is at ri...  Jeanne Shaheen  29552  \n",
       "2  It's been my experience that the faith communi...  Jeanne Shaheen  29552  \n",
       "3  we need to bring the parents in so they can se...  Jeanne Shaheen  29552  \n",
       "4  Listen, a month ago people were saying Hillary...  Jeanne Shaheen  29552  "
      ]
     },
     "execution_count": 11,
     "metadata": {},
     "output_type": "execute_result"
    }
   ],
   "source": [
    "# load the data\n",
    "SPEAKER_WITH_AFFILIATION_PATH = \"../../project_data/data-2.pickle\"\n",
    "df = pd.read_pickle(SPEAKER_WITH_AFFILIATION_PATH)\n",
    "df.head()"
   ]
  },
  {
   "cell_type": "code",
   "execution_count": 12,
   "metadata": {},
   "outputs": [
    {
     "data": {
      "text/plain": [
       "(17388599, 5)"
      ]
     },
     "execution_count": 12,
     "metadata": {},
     "output_type": "execute_result"
    }
   ],
   "source": [
    "df.shape"
   ]
  },
  {
   "cell_type": "code",
   "execution_count": 13,
   "metadata": {},
   "outputs": [
    {
     "data": {
      "text/plain": [
       "Donald Trump          728233\n",
       "Barack Obama          156738\n",
       "Narendra Modi         147384\n",
       "Hillary Clinton       100493\n",
       "Bernie Sanders         85055\n",
       "Theresa May            67498\n",
       "Benjamin Netanyahu     65903\n",
       "Rodrigo Duterte        64604\n",
       "Joe Biden              58637\n",
       "Vladimir Putin         56213\n",
       "Name: speaker, dtype: int64"
      ]
     },
     "execution_count": 13,
     "metadata": {},
     "output_type": "execute_result"
    }
   ],
   "source": [
    "# ten most common speakers\n",
    "df[\"speaker\"].value_counts()[:10]"
   ]
  },
  {
   "cell_type": "code",
   "execution_count": 14,
   "metadata": {},
   "outputs": [
    {
     "data": {
      "text/plain": [
       "Bob Smith          3\n",
       "Wilson Lima        2\n",
       "Chen Chien-jen     2\n",
       "Bill Flynn         2\n",
       "Henry Stern        2\n",
       "                  ..\n",
       "Seth Whipper       1\n",
       "Patricia Hollis    1\n",
       "Aga Muhlach        1\n",
       "Thierry Saussez    1\n",
       "Robert Majka       1\n",
       "Name: speaker, Length: 62306, dtype: int64"
      ]
     },
     "execution_count": 14,
     "metadata": {},
     "output_type": "execute_result"
    }
   ],
   "source": [
    "# not that many repeating names anymore, makes more sense\n",
    "speakers = df[[\"speaker\", \"speaker_id\"]].drop_duplicates()\n",
    "speakers[\"speaker\"].value_counts()"
   ]
  },
  {
   "cell_type": "code",
   "execution_count": 15,
   "metadata": {},
   "outputs": [
    {
     "data": {
      "text/plain": [
       "29468       4685744\n",
       "29552       4097879\n",
       "10230        638957\n",
       "9626         543713\n",
       "9630         371477\n",
       "             ...   \n",
       "47391604          1\n",
       "3874898           1\n",
       "3825694           1\n",
       "852230            1\n",
       "3326783           1\n",
       "Name: party, Length: 3338, dtype: int64"
      ]
     },
     "execution_count": 15,
     "metadata": {},
     "output_type": "execute_result"
    }
   ],
   "source": [
    "df[\"party\"].value_counts()"
   ]
  },
  {
   "cell_type": "code",
   "execution_count": 20,
   "metadata": {},
   "outputs": [],
   "source": [
    "# US: Q29468 is the republican party, Q29552 is the Democratic party\n",
    "# UK: Q9626 is the Conservative party, Q9630 is the Labour party, Q622441 is the Liberal Party\n",
    "# AU: Q216082 is the Australian Labor party, Q241149 is the Liberal party of Australia, "
   ]
  },
  {
   "cell_type": "code",
   "execution_count": 21,
   "metadata": {},
   "outputs": [],
   "source": [
    "# split into democrats and republicans\n",
    "democrats = df[df[\"party\"] == 29552]\n",
    "republicans = df[df[\"party\"] == 29468]"
   ]
  },
  {
   "cell_type": "code",
   "execution_count": 23,
   "metadata": {},
   "outputs": [
    {
     "data": {
      "image/png": "[encoded data removed]",
      "text/plain": [
       "<Figure size 432x288 with 1 Axes>"
      ]
     },
     "metadata": {
      "needs_background": "light"
     },
     "output_type": "display_data"
    }
   ],
   "source": [
    "# example analysis\n",
    "import matplotlib.pyplot as plt\n",
    "\n",
    "democrats_lengths = democrats[\"quotation\"].apply(lambda x: len(x))\n",
    "republicans_lengths = republicans[\"quotation\"].apply(lambda x: len(x))\n",
    "\n",
    "plt.hist(democrats_lengths, log=True, alpha=0.5, label=\"Democrats\", bins = 100)\n",
    "plt.hist(republicans_lengths, log=True, alpha=0.5, label = \"Republicans\", bins = 100)\n",
    "plt.title(\"Length of politicans' quotations.\")\n",
    "plt.legend()\n",
    "plt.show()"
   ]
  },
  {
   "cell_type": "code",
   "execution_count": null,
   "metadata": {},
   "outputs": [],
   "source": []
  }
 ],
 "metadata": {
  "interpreter": {
   "hash": "5ca7bf982d50e176929d33c65df232637f1d4c63720dcda24aee19eb37e3e0c5"
  },
  "kernelspec": {
   "display_name": "Python 3",
   "language": "python",
   "name": "python3"
  },
  "language_info": {
   "codemirror_mode": {
    "name": "ipython",
    "version": 3
   },
   "file_extension": ".py",
   "mimetype": "text/x-python",
   "name": "python",
   "nbconvert_exporter": "python",
   "pygments_lexer": "ipython3",
   "version": "3.8.8"
  }
 },
 "nbformat": 4,
 "nbformat_minor": 2
}
