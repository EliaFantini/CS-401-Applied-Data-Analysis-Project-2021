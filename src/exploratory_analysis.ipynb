{
 "cells": [
  {
   "cell_type": "code",
   "execution_count": 1,
   "metadata": {},
   "outputs": [],
   "source": [
    "import pandas as pd"
   ]
  },
  {
   "cell_type": "code",
   "execution_count": 4,
   "metadata": {},
   "outputs": [
    {
     "data": {
      "text/html": [
       "<div>\n",
       "<style scoped>\n",
       "    .dataframe tbody tr th:only-of-type {\n",
       "        vertical-align: middle;\n",
       "    }\n",
       "\n",
       "    .dataframe tbody tr th {\n",
       "        vertical-align: top;\n",
       "    }\n",
       "\n",
       "    .dataframe thead th {\n",
       "        text-align: right;\n",
       "    }\n",
       "</style>\n",
       "<table border=\"1\" class=\"dataframe\">\n",
       "  <thead>\n",
       "    <tr style=\"text-align: right;\">\n",
       "      <th></th>\n",
       "      <th>quoteID</th>\n",
       "      <th>quotation</th>\n",
       "      <th>label</th>\n",
       "      <th>party</th>\n",
       "    </tr>\n",
       "  </thead>\n",
       "  <tbody>\n",
       "    <tr>\n",
       "      <th>0</th>\n",
       "      <td>2020-01-26-000499</td>\n",
       "      <td>a few of the candidates who will do better in ...</td>\n",
       "      <td>David Loebsack</td>\n",
       "      <td>Q29552</td>\n",
       "    </tr>\n",
       "    <tr>\n",
       "      <th>1</th>\n",
       "      <td>2020-01-26-040663</td>\n",
       "      <td>The generational thing is important, quite hon...</td>\n",
       "      <td>David Loebsack</td>\n",
       "      <td>Q29552</td>\n",
       "    </tr>\n",
       "    <tr>\n",
       "      <th>2</th>\n",
       "      <td>2020-02-01-035378</td>\n",
       "      <td>Once I could stand in front of audiences and s...</td>\n",
       "      <td>David Loebsack</td>\n",
       "      <td>Q29552</td>\n",
       "    </tr>\n",
       "    <tr>\n",
       "      <th>3</th>\n",
       "      <td>2020-01-22-024629</td>\n",
       "      <td>He knows we have a problem of gun violence. He...</td>\n",
       "      <td>David Loebsack</td>\n",
       "      <td>Q29552</td>\n",
       "    </tr>\n",
       "    <tr>\n",
       "      <th>4</th>\n",
       "      <td>2020-01-12-041928</td>\n",
       "      <td>They can't be solved with the same political w...</td>\n",
       "      <td>David Loebsack</td>\n",
       "      <td>Q29552</td>\n",
       "    </tr>\n",
       "  </tbody>\n",
       "</table>\n",
       "</div>"
      ],
      "text/plain": [
       "             quoteID                                          quotation  \\\n",
       "0  2020-01-26-000499  a few of the candidates who will do better in ...   \n",
       "1  2020-01-26-040663  The generational thing is important, quite hon...   \n",
       "2  2020-02-01-035378  Once I could stand in front of audiences and s...   \n",
       "3  2020-01-22-024629  He knows we have a problem of gun violence. He...   \n",
       "4  2020-01-12-041928  They can't be solved with the same political w...   \n",
       "\n",
       "            label   party  \n",
       "0  David Loebsack  Q29552  \n",
       "1  David Loebsack  Q29552  \n",
       "2  David Loebsack  Q29552  \n",
       "3  David Loebsack  Q29552  \n",
       "4  David Loebsack  Q29552  "
      ]
     },
     "execution_count": 4,
     "metadata": {},
     "output_type": "execute_result"
    }
   ],
   "source": [
    "# load the data\n",
    "SPEAKER_WITH_AFFILIATION_PATH = \"../data/binary/speaker_with_affiliation.pickle\"\n",
    "speaker_with_affiliation = pd.read_pickle(SPEAKER_WITH_AFFILIATION_PATH)\n",
    "speaker_with_affiliation.head()"
   ]
  },
  {
   "cell_type": "code",
   "execution_count": 9,
   "metadata": {},
   "outputs": [
    {
     "data": {
      "text/plain": [
       "Q29468     84042\n",
       "Q29552     49919\n",
       "Q9626       9249\n",
       "Q9630       9077\n",
       "Q216082     4316\n",
       "Q241149     3234\n",
       "Q622441     3055\n",
       "Q826977     2289\n",
       "Q42183      2225\n",
       "Q138345     2003\n",
       "Name: party, dtype: int64"
      ]
     },
     "execution_count": 9,
     "metadata": {},
     "output_type": "execute_result"
    }
   ],
   "source": [
    "# most common parties:\n",
    "speaker_with_affiliation[\"party\"].value_counts()[:10]\n"
   ]
  },
  {
   "cell_type": "code",
   "execution_count": null,
   "metadata": {},
   "outputs": [],
   "source": [
    "# US: Q29468 is the republican party, Q29468 is the Democratic party\n",
    "# UK: Q9626 is the Conservative party, Q9630 is the Labour party, Q622441 is the Liberal Party\n",
    "# AU: Q216082 is the Australian Labor party, Q241149 is the Liberal party of Australia, "
   ]
  },
  {
   "cell_type": "code",
   "execution_count": 3,
   "metadata": {},
   "outputs": [],
   "source": [
    "# Q29468 is the republican party, Q29468 is the Democratic party\n",
    "# split into democrats and republicans\n",
    "democrats = speaker_with_affiliation[speaker_with_affiliation[\"party\"] == \"Q29552\"]\n",
    "republicans = speaker_with_affiliation[speaker_with_affiliation[\"party\"] == \"Q29468\"]"
   ]
  },
  {
   "cell_type": "code",
   "execution_count": 17,
   "metadata": {},
   "outputs": [
    {
     "data": {
      "image/png": "[encoded data removed]",
      "text/plain": [
       "<Figure size 432x288 with 1 Axes>"
      ]
     },
     "metadata": {
      "needs_background": "light"
     },
     "output_type": "display_data"
    }
   ],
   "source": [
    "import matplotlib.pyplot as plt\n",
    "\n",
    "democrats_lengths = democrats[\"quotation\"].apply(lambda x: len(x))\n",
    "republicans_lengths = republicans[\"quotation\"].apply(lambda x: len(x))\n",
    "\n",
    "plt.hist(democrats_lengths, log=True,alpha=0.5, label=\"Democrats\")\n",
    "plt.hist(republicans_lengths, log=True, alpha=0.5, label = \"Republicans\")\n",
    "plt.title(\"Length of politicans' quotations.\")\n",
    "plt.legend()\n",
    "plt.show()"
   ]
  }
 ],
 "metadata": {
  "interpreter": {
   "hash": "5ca7bf982d50e176929d33c65df232637f1d4c63720dcda24aee19eb37e3e0c5"
  },
  "kernelspec": {
   "display_name": "Python 3.8.12 64-bit ('ada': conda)",
   "name": "python3"
  },
  "language_info": {
   "codemirror_mode": {
    "name": "ipython",
    "version": 3
   },
   "file_extension": ".py",
   "mimetype": "text/x-python",
   "name": "python",
   "nbconvert_exporter": "python",
   "pygments_lexer": "ipython3",
   "version": "3.8.12"
  },
  "orig_nbformat": 4
 },
 "nbformat": 4,
 "nbformat_minor": 2
}
