{
 "cells": [
  {
   "cell_type": "code",
   "execution_count": 1,
   "metadata": {},
   "outputs": [],
   "source": [
    "import pandas as pd"
   ]
  },
  {
   "cell_type": "code",
   "execution_count": 44,
   "metadata": {},
   "outputs": [],
   "source": [
    "# load the data\n",
    "SPEAKER_WITH_AFFILIATION_PATH = \"../data/binary/data-2020.pickle\"\n",
    "speaker_with_affiliation = pd.read_pickle(SPEAKER_WITH_AFFILIATION_PATH)\n",
    "speaker_with_affiliation.head()"
   ]
  },
  {
   "cell_type": "code",
   "execution_count": 46,
   "metadata": {},
   "outputs": [
    {
     "data": {
      "text/plain": [
       "(4403942, 5)"
      ]
     },
     "execution_count": 46,
     "metadata": {},
     "output_type": "execute_result"
    }
   ],
   "source": [
    "df.shape"
   ]
  },
  {
   "cell_type": "code",
   "execution_count": 55,
   "metadata": {},
   "outputs": [
    {
     "data": {
      "text/html": [
       "<div>\n",
       "<style scoped>\n",
       "    .dataframe tbody tr th:only-of-type {\n",
       "        vertical-align: middle;\n",
       "    }\n",
       "\n",
       "    .dataframe tbody tr th {\n",
       "        vertical-align: top;\n",
       "    }\n",
       "\n",
       "    .dataframe thead th {\n",
       "        text-align: right;\n",
       "    }\n",
       "</style>\n",
       "<table border=\"1\" class=\"dataframe\">\n",
       "  <thead>\n",
       "    <tr style=\"text-align: right;\">\n",
       "      <th></th>\n",
       "      <th>speaker_id</th>\n",
       "      <th>quote_id</th>\n",
       "      <th>quotation</th>\n",
       "      <th>speaker</th>\n",
       "      <th>party</th>\n",
       "    </tr>\n",
       "  </thead>\n",
       "  <tbody>\n",
       "    <tr>\n",
       "      <th>0</th>\n",
       "      <td>22686</td>\n",
       "      <td>2019-04-08-048753</td>\n",
       "      <td>It is immoral. It is harmful. It is hurtful.</td>\n",
       "      <td>Donald Trump</td>\n",
       "      <td>29468</td>\n",
       "    </tr>\n",
       "    <tr>\n",
       "      <th>1</th>\n",
       "      <td>22686</td>\n",
       "      <td>2019-05-26-025817</td>\n",
       "      <td>It is where they want to be and where they sho...</td>\n",
       "      <td>Donald Trump</td>\n",
       "      <td>29468</td>\n",
       "    </tr>\n",
       "    <tr>\n",
       "      <th>2</th>\n",
       "      <td>22686</td>\n",
       "      <td>2019-03-20-001438</td>\n",
       "      <td>a horrible, disgraceful thing and a horrible act.</td>\n",
       "      <td>Donald Trump</td>\n",
       "      <td>29468</td>\n",
       "    </tr>\n",
       "    <tr>\n",
       "      <th>3</th>\n",
       "      <td>22686</td>\n",
       "      <td>2019-03-29-004685</td>\n",
       "      <td>Allies expressed their support for the secreta...</td>\n",
       "      <td>Donald Trump</td>\n",
       "      <td>29468</td>\n",
       "    </tr>\n",
       "    <tr>\n",
       "      <th>4</th>\n",
       "      <td>22686</td>\n",
       "      <td>2019-07-23-003672</td>\n",
       "      <td>And if I can help, I would love to be a mediator.</td>\n",
       "      <td>Donald Trump</td>\n",
       "      <td>29468</td>\n",
       "    </tr>\n",
       "  </tbody>\n",
       "</table>\n",
       "</div>"
      ],
      "text/plain": [
       "   speaker_id           quote_id  \\\n",
       "0       22686  2019-04-08-048753   \n",
       "1       22686  2019-05-26-025817   \n",
       "2       22686  2019-03-20-001438   \n",
       "3       22686  2019-03-29-004685   \n",
       "4       22686  2019-07-23-003672   \n",
       "\n",
       "                                           quotation       speaker  party  \n",
       "0       It is immoral. It is harmful. It is hurtful.  Donald Trump  29468  \n",
       "1  It is where they want to be and where they sho...  Donald Trump  29468  \n",
       "2  a horrible, disgraceful thing and a horrible act.  Donald Trump  29468  \n",
       "3  Allies expressed their support for the secreta...  Donald Trump  29468  \n",
       "4  And if I can help, I would love to be a mediator.  Donald Trump  29468  "
      ]
     },
     "execution_count": 55,
     "metadata": {},
     "output_type": "execute_result"
    }
   ],
   "source": [
    "df.head()"
   ]
  },
  {
   "cell_type": "code",
   "execution_count": 47,
   "metadata": {},
   "outputs": [
    {
     "data": {
      "text/plain": [
       "Donald Trump        202822\n",
       "Narendra Modi        52326\n",
       "Joe Biden            37393\n",
       "Bernie Sanders       33695\n",
       "Boris Johnson        30615\n",
       "Elizabeth Warren     28862\n",
       "Nancy Pelosi         27043\n",
       "Mike Pompeo          25425\n",
       "Pete Buttigieg       22363\n",
       "Rahul Gandhi         18567\n",
       "Name: speaker, dtype: int64"
      ]
     },
     "execution_count": 47,
     "metadata": {},
     "output_type": "execute_result"
    }
   ],
   "source": [
    "# ten most common speakers\n",
    "df[\"speaker\"].value_counts()[:10]"
   ]
  },
  {
   "cell_type": "code",
   "execution_count": 57,
   "metadata": {},
   "outputs": [
    {
     "data": {
      "text/plain": [
       "Bob Smith                3\n",
       "José Javier Rodríguez    2\n",
       "Jim McGovern             2\n",
       "David Anderson           2\n",
       "Joan Hall                2\n",
       "                        ..\n",
       "Mette Bock               1\n",
       "Karen McPherson          1\n",
       "Pierre Moreau            1\n",
       "Thomas G. Saylor         1\n",
       "Taavi Rõivas             1\n",
       "Name: speaker, Length: 41186, dtype: int64"
      ]
     },
     "execution_count": 57,
     "metadata": {},
     "output_type": "execute_result"
    }
   ],
   "source": [
    "# not that many repeating names anymore, makes more sense\n",
    "speakers = df[[\"speaker\", \"speaker_id\"]].drop_duplicates()\n",
    "speakers[\"speaker\"].value_counts()"
   ]
  },
  {
   "cell_type": "code",
   "execution_count": 60,
   "metadata": {},
   "outputs": [
    {
     "data": {
      "text/plain": [
       "29552      1084689\n",
       "29468      1012986\n",
       "10230       185543\n",
       "9626        178604\n",
       "10225       121468\n",
       "            ...   \n",
       "563535           1\n",
       "3040266          1\n",
       "1851370          1\n",
       "1200751          1\n",
       "1523085          1\n",
       "Name: party, Length: 2583, dtype: int64"
      ]
     },
     "execution_count": 60,
     "metadata": {},
     "output_type": "execute_result"
    }
   ],
   "source": [
    "df[\"party\"].value_counts()"
   ]
  },
  {
   "cell_type": "code",
   "execution_count": 61,
   "metadata": {},
   "outputs": [],
   "source": [
    "# US: Q29468 is the republican party, Q29552 is the Democratic party\n",
    "# UK: Q9626 is the Conservative party, Q9630 is the Labour party, Q622441 is the Liberal Party\n",
    "# AU: Q216082 is the Australian Labor party, Q241149 is the Liberal party of Australia, "
   ]
  },
  {
   "cell_type": "code",
   "execution_count": 64,
   "metadata": {},
   "outputs": [],
   "source": [
    "# split into democrats and republicans\n",
    "democrats = speaker_with_affiliation[speaker_with_affiliation[\"party\"] == 29552]\n",
    "republicans = speaker_with_affiliation[speaker_with_affiliation[\"party\"] == 29468]"
   ]
  },
  {
   "cell_type": "code",
   "execution_count": 65,
   "metadata": {},
   "outputs": [
    {
     "data": {
      "image/png": "[encoded data removed]",
      "text/plain": [
       "<Figure size 432x288 with 1 Axes>"
      ]
     },
     "metadata": {
      "needs_background": "light"
     },
     "output_type": "display_data"
    }
   ],
   "source": [
    "# example analysis\n",
    "import matplotlib.pyplot as plt\n",
    "\n",
    "democrats_lengths = democrats[\"quotation\"].apply(lambda x: len(x))\n",
    "republicans_lengths = republicans[\"quotation\"].apply(lambda x: len(x))\n",
    "\n",
    "plt.hist(democrats_lengths, log=True,alpha=0.5, label=\"Democrats\")\n",
    "plt.hist(republicans_lengths, log=True, alpha=0.5, label = \"Republicans\")\n",
    "plt.title(\"Length of politicans' quotations.\")\n",
    "plt.legend()\n",
    "plt.show()"
   ]
  }
 ],
 "metadata": {
  "interpreter": {
   "hash": "5ca7bf982d50e176929d33c65df232637f1d4c63720dcda24aee19eb37e3e0c5"
  },
  "kernelspec": {
   "display_name": "Python 3.8.12 64-bit ('ada': conda)",
   "name": "python3"
  },
  "language_info": {
   "codemirror_mode": {
    "name": "ipython",
    "version": 3
   },
   "file_extension": ".py",
   "mimetype": "text/x-python",
   "name": "python",
   "nbconvert_exporter": "python",
   "pygments_lexer": "ipython3",
   "version": "3.8.12"
  },
  "orig_nbformat": 4
 },
 "nbformat": 4,
 "nbformat_minor": 2
}
