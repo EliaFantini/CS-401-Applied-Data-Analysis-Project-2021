{
 "cells": [
  {
   "cell_type": "code",
   "execution_count": 8,
   "metadata": {},
   "outputs": [],
   "source": [
    "import pandas as pd\n",
    "# load the data\n",
    "df = pd.read_pickle(\"../data/binary/us-politicians.pickle\")"
   ]
  },
  {
   "cell_type": "code",
   "execution_count": 9,
   "metadata": {},
   "outputs": [
    {
     "data": {
      "text/html": [
       "<div>\n",
       "<style scoped>\n",
       "    .dataframe tbody tr th:only-of-type {\n",
       "        vertical-align: middle;\n",
       "    }\n",
       "\n",
       "    .dataframe tbody tr th {\n",
       "        vertical-align: top;\n",
       "    }\n",
       "\n",
       "    .dataframe thead th {\n",
       "        text-align: right;\n",
       "    }\n",
       "</style>\n",
       "<table border=\"1\" class=\"dataframe\">\n",
       "  <thead>\n",
       "    <tr style=\"text-align: right;\">\n",
       "      <th></th>\n",
       "      <th>speaker_id</th>\n",
       "      <th>quote_id</th>\n",
       "      <th>quotation</th>\n",
       "      <th>speaker</th>\n",
       "      <th>party</th>\n",
       "    </tr>\n",
       "  </thead>\n",
       "  <tbody>\n",
       "    <tr>\n",
       "      <th>395812</th>\n",
       "      <td>22686</td>\n",
       "      <td>2017-02-16-060234</td>\n",
       "      <td>Let's go, set up a meeting. I would love to me...</td>\n",
       "      <td>Donald Trump</td>\n",
       "      <td>29468</td>\n",
       "    </tr>\n",
       "    <tr>\n",
       "      <th>557921</th>\n",
       "      <td>22686</td>\n",
       "      <td>2018-04-29-012323</td>\n",
       "      <td>Everyone is talking about the fact that the Wh...</td>\n",
       "      <td>Donald Trump</td>\n",
       "      <td>29468</td>\n",
       "    </tr>\n",
       "    <tr>\n",
       "      <th>964041</th>\n",
       "      <td>6294</td>\n",
       "      <td>2015-09-29-070971</td>\n",
       "      <td>Mrs. Clinton has never created a job. She has ...</td>\n",
       "      <td>Hillary Clinton</td>\n",
       "      <td>29552</td>\n",
       "    </tr>\n",
       "    <tr>\n",
       "      <th>1087229</th>\n",
       "      <td>170581</td>\n",
       "      <td>2019-10-02-122756</td>\n",
       "      <td>We must win thee hearts and minds of the Ameri...</td>\n",
       "      <td>Nancy Pelosi</td>\n",
       "      <td>29552</td>\n",
       "    </tr>\n",
       "  </tbody>\n",
       "</table>\n",
       "</div>"
      ],
      "text/plain": [
       "         speaker_id           quote_id  \\\n",
       "395812        22686  2017-02-16-060234   \n",
       "557921        22686  2018-04-29-012323   \n",
       "964041         6294  2015-09-29-070971   \n",
       "1087229      170581  2019-10-02-122756   \n",
       "\n",
       "                                                 quotation          speaker  \\\n",
       "395812   Let's go, set up a meeting. I would love to me...     Donald Trump   \n",
       "557921   Everyone is talking about the fact that the Wh...     Donald Trump   \n",
       "964041   Mrs. Clinton has never created a job. She has ...  Hillary Clinton   \n",
       "1087229  We must win thee hearts and minds of the Ameri...     Nancy Pelosi   \n",
       "\n",
       "         party  \n",
       "395812   29468  \n",
       "557921   29468  \n",
       "964041   29552  \n",
       "1087229  29552  "
      ]
     },
     "execution_count": 9,
     "metadata": {},
     "output_type": "execute_result"
    }
   ],
   "source": [
    "df.sample(4)"
   ]
  },
  {
   "cell_type": "code",
   "execution_count": 10,
   "metadata": {},
   "outputs": [],
   "source": [
    "import re, string, contractions\n",
    "from nltk.corpus import stopwords\n",
    "from nltk.tokenize import word_tokenize\n",
    "from nltk.stem import PorterStemmer\n",
    "\n",
    "STOPWORDS = set(stopwords.words('english')).union({'i', ''})\n",
    "STEMMER = PorterStemmer()\n",
    "\n",
    "def preprocess_quote(quote):\n",
    "    # to lowercase\n",
    "    quote = quote.lower()\n",
    "\n",
    "    # remove numbers and punctuation\n",
    "    quote = re.sub(r'\\d+', '', quote)\n",
    "    quote = quote.translate(str.maketrans('', '', string.punctuation))\n",
    "\n",
    "    # remove leading, trailing, and repeating spaces\n",
    "    quote = re.sub(' +', ' ', quote)\n",
    "    quote = quote.strip()\n",
    "\n",
    "    return quote\n",
    "    \n",
    "def remove_stopwords(quote):\n",
    "    quote = contractions.fix(quote)\n",
    "    tokens = word_tokenize(quote)\n",
    "    filtered_tokens = [token for token in tokens if token.lower() not in STOPWORDS]\n",
    "    return \" \".join(filtered_tokens)\n",
    "\n",
    "def stem_quote(quote):\n",
    "    stemmed_tokens = [STEMMER.stem(token) for token in word_tokenize(quote)]\n",
    "    return \" \".join(stemmed_tokens)"
   ]
  },
  {
   "cell_type": "code",
   "execution_count": 11,
   "metadata": {},
   "outputs": [
    {
     "name": "stdout",
     "output_type": "stream",
     "text": [
      "{'when', \"doesn't\", '', 'does', 'him', 'ours', 'were', 'out', 'all', 'you', 'yourselves', 'some', \"aren't\", 'needn', \"mustn't\", 'has', 'at', 'after', 'by', \"should've\", 'below', 'in', 'too', 'during', 'again', \"that'll\", 'those', 'between', 'his', 'i', 'am', 'now', 'no', 'weren', 've', 'they', 'very', 'them', 'ma', \"wasn't\", 'not', 'hadn', 'there', 'her', 'here', \"hadn't\", \"didn't\", 'for', 'being', \"isn't\", 'with', 're', 'yourself', 'down', 'same', 'isn', \"needn't\", 'up', 'shouldn', 'mightn', 'but', 'been', 'how', 'over', \"hasn't\", \"couldn't\", 'each', 'until', 'did', 's', 'theirs', 'ain', 'which', 'above', 'my', 'both', 'most', \"weren't\", \"you're\", 'of', 'as', \"you'd\", 'what', 'nor', 'doesn', 'was', 'haven', 'just', 'herself', 'then', 'that', \"shouldn't\", 'me', 'be', 'because', \"you'll\", 'before', 'd', \"she's\", 'about', 'it', 'into', 'own', 'other', 'your', 'hasn', 'myself', 'o', 'don', 'shan', 'against', 'where', 'or', 'our', 'the', 'its', 'few', 'didn', \"haven't\", 'who', 'having', 'themselves', 'will', 'through', 'himself', 'while', 'we', \"mightn't\", 'from', 'is', 'such', \"wouldn't\", \"it's\", 'an', 'under', 'once', 'should', 'and', 'are', 'so', 'ourselves', 'hers', 'm', 'have', \"won't\", 'y', 'wouldn', 'further', \"shan't\", 'their', 'whom', 'only', 'more', 'these', 'any', 'on', 'a', 'to', 'doing', \"don't\", 'couldn', 'aren', \"you've\", 'll', 'if', 'off', 'yours', 'than', 'can', 'this', 't', 'itself', 'he', 'won', 'had', 'do', 'why', 'she', 'wasn', 'mustn'}\n"
     ]
    }
   ],
   "source": [
    "print(STOPWORDS)"
   ]
  },
  {
   "cell_type": "code",
   "execution_count": 12,
   "metadata": {},
   "outputs": [
    {
     "data": {
      "text/plain": [
       "705032       I wouldn't charge it based on what we know now.\n",
       "1180824    They're just saying `hell, no' to anything tha...\n",
       "414810                  Who wrote @realDonaldTrump's speech?\n",
       "1482084    I think that the comments made by my Republica...\n",
       "556256                             It was all a show to him,\n",
       "                                 ...                        \n",
       "1203593                                    That's not civil?\n",
       "1165970    I think what you'll find, I know what you'll f...\n",
       "1068102    prevail unless we have the Affordable Care Act...\n",
       "10121      expensive domestic agenda aimed at improving t...\n",
       "101453     The high level of deceptive behaviors exhibite...\n",
       "Name: quotation, Length: 100000, dtype: object"
      ]
     },
     "execution_count": 12,
     "metadata": {},
     "output_type": "execute_result"
    }
   ],
   "source": [
    "sample = df.sample(100000)\n",
    "sample_quotes = sample[\"quotation\"]\n",
    "sample_quotes"
   ]
  },
  {
   "cell_type": "code",
   "execution_count": 13,
   "metadata": {},
   "outputs": [
    {
     "data": {
      "text/plain": [
       "705032                             would charge based know .\n",
       "1180824         saying ` hell , ' anything president wants ,\n",
       "414810                   wrote @ realDonaldTrump 's speech ?\n",
       "1482084    think comments made Republican colleagues outr...\n",
       "556256                                                show ,\n",
       "                                 ...                        \n",
       "1203593                                              civil ?\n",
       "1165970    think find , know find , starting next week go...\n",
       "1068102       prevail unless Affordable Care Act protected .\n",
       "10121      expensive domestic agenda aimed improving fort...\n",
       "101453     high level deceptive behaviors exhibited Presi...\n",
       "Name: quotation, Length: 100000, dtype: object"
      ]
     },
     "execution_count": 13,
     "metadata": {},
     "output_type": "execute_result"
    }
   ],
   "source": [
    "sample_quotes = sample_quotes.apply(lambda quote: remove_stopwords(quote))\n",
    "sample_quotes"
   ]
  },
  {
   "cell_type": "code",
   "execution_count": 14,
   "metadata": {},
   "outputs": [
    {
     "data": {
      "text/plain": [
       "705032                               would charge based know\n",
       "1180824                 saying hell anything president wants\n",
       "414810                        wrote realdonaldtrump s speech\n",
       "1482084    think comments made republican colleagues outr...\n",
       "556256                                                  show\n",
       "                                 ...                        \n",
       "1203593                                                civil\n",
       "1165970    think find know find starting next week going ...\n",
       "1068102         prevail unless affordable care act protected\n",
       "10121      expensive domestic agenda aimed improving fort...\n",
       "101453     high level deceptive behaviors exhibited presi...\n",
       "Name: quotation, Length: 100000, dtype: object"
      ]
     },
     "execution_count": 14,
     "metadata": {},
     "output_type": "execute_result"
    }
   ],
   "source": [
    "sample_quotes = sample_quotes.apply(lambda quote: preprocess_quote(quote))\n",
    "sample_quotes"
   ]
  },
  {
   "cell_type": "code",
   "execution_count": null,
   "metadata": {},
   "outputs": [],
   "source": [
    "tokenized = sample_quotes.apply(lambda quote: word_tokenize(quote))"
   ]
  },
  {
   "cell_type": "code",
   "execution_count": 15,
   "metadata": {},
   "outputs": [
    {
     "ename": "NameError",
     "evalue": "name 'tokenized' is not defined",
     "output_type": "error",
     "traceback": [
      "\u001B[1;31m---------------------------------------------------------------------------\u001B[0m",
      "\u001B[1;31mNameError\u001B[0m                                 Traceback (most recent call last)",
      "\u001B[1;32m~\\AppData\\Local\\Temp/ipykernel_22872/3001511528.py\u001B[0m in \u001B[0;36m<module>\u001B[1;34m\u001B[0m\n\u001B[1;32m----> 1\u001B[1;33m \u001B[0mtokenized\u001B[0m\u001B[1;33m.\u001B[0m\u001B[0mexplode\u001B[0m\u001B[1;33m(\u001B[0m\u001B[1;33m)\u001B[0m\u001B[1;33m.\u001B[0m\u001B[0mvalue_counts\u001B[0m\u001B[1;33m(\u001B[0m\u001B[1;33m)\u001B[0m\u001B[1;33m[\u001B[0m\u001B[1;33m:\u001B[0m\u001B[1;36m50\u001B[0m\u001B[1;33m]\u001B[0m\u001B[1;33m\u001B[0m\u001B[1;33m\u001B[0m\u001B[0m\n\u001B[0m",
      "\u001B[1;31mNameError\u001B[0m: name 'tokenized' is not defined"
     ]
    }
   ],
   "source": [
    "tokenized.explode().value_counts()[:50]"
   ]
  }
 ],
 "metadata": {
  "interpreter": {
   "hash": "81bcf44c442c9fd4345d1c17a1cedebe15e88cf7be69f0e38a05be80c87b3dbe"
  },
  "kernelspec": {
   "display_name": "Python 3.8.10 64-bit (windows store)",
   "language": "python",
   "name": "python3"
  },
  "language_info": {
   "codemirror_mode": {
    "name": "ipython",
    "version": 3
   },
   "file_extension": ".py",
   "mimetype": "text/x-python",
   "name": "python",
   "nbconvert_exporter": "python",
   "pygments_lexer": "ipython3",
   "version": "3.8.12"
  },
  "orig_nbformat": 4
 },
 "nbformat": 4,
 "nbformat_minor": 2
}