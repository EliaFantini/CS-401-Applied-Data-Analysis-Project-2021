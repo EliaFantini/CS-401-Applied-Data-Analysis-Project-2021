{
 "cells": [
  {
   "cell_type": "code",
   "execution_count": null,
   "metadata": {},
   "outputs": [],
   "source": [
    "import pandas as pd\n",
    "# load the data\n",
    "df = pd.read_pickle(\"../data/binary/us-politicians.pickle\")"
   ]
  },
  {
   "cell_type": "code",
   "execution_count": null,
   "metadata": {},
   "outputs": [],
   "source": [
    "df.sample(4)"
   ]
  },
  {
   "cell_type": "code",
   "execution_count": null,
   "metadata": {},
   "outputs": [],
   "source": [
    "import re, string, contractions\n",
    "from nltk.corpus import stopwords\n",
    "from nltk.tokenize import word_tokenize\n",
    "from nltk.stem import PorterStemmer\n",
    "\n",
    "STOPWORDS = set(stopwords.words('english')).union({'i', ''})\n",
    "STEMMER = PorterStemmer()\n",
    "\n",
    "def preprocess_quote(quote):\n",
    "    # to lowercase\n",
    "    quote = quote.lower()\n",
    "\n",
    "    # remove numbers and punctuation\n",
    "    quote = re.sub(r'\\d+', '', quote)\n",
    "    quote = quote.translate(str.maketrans('', '', string.punctuation))\n",
    "\n",
    "    # remove leading, trailing, and repeating spaces\n",
    "    quote = re.sub(' +', ' ', quote)\n",
    "    quote = quote.strip()\n",
    "\n",
    "    return quote\n",
    "    \n",
    "def remove_stopwords(quote):\n",
    "    quote = contractions.fix(quote)\n",
    "    tokens = word_tokenize(quote)\n",
    "    filtered_tokens = [token for token in tokens if token.lower() not in STOPWORDS]\n",
    "    return \" \".join(filtered_tokens)\n",
    "\n",
    "def stem_quote(quote):\n",
    "    stemmed_tokens = [STEMMER.stem(token) for token in word_tokenize(quote)]\n",
    "    return \" \".join(stemmed_tokens)"
   ]
  },
  {
   "cell_type": "code",
   "execution_count": null,
   "metadata": {},
   "outputs": [],
   "source": [
    "print(STOPWORDS)"
   ]
  },
  {
   "cell_type": "code",
   "execution_count": null,
   "metadata": {},
   "outputs": [],
   "source": [
    "sample = df.sample(100000)\n",
    "sample_quotes = sample[\"quotation\"]\n",
    "sample_quotes"
   ]
  },
  {
   "cell_type": "code",
   "execution_count": null,
   "metadata": {},
   "outputs": [],
   "source": [
    "sample_quotes = sample_quotes.apply(lambda quote: remove_stopwords(quote))\n",
    "sample_quotes"
   ]
  },
  {
   "cell_type": "code",
   "execution_count": null,
   "metadata": {},
   "outputs": [],
   "source": [
    "sample_quotes = sample_quotes.apply(lambda quote: preprocess_quote(quote))\n",
    "sample_quotes"
   ]
  },
  {
   "cell_type": "code",
   "execution_count": null,
   "metadata": {},
   "outputs": [],
   "source": [
    "tokenized = sample_quotes.apply(lambda quote: word_tokenize(quote))"
   ]
  },
  {
   "cell_type": "code",
   "execution_count": null,
   "metadata": {},
   "outputs": [],
   "source": [
    "tokenized.explode().value_counts()[:50]"
   ]
  }
 ],
 "metadata": {
  "interpreter": {
   "hash": "81bcf44c442c9fd4345d1c17a1cedebe15e88cf7be69f0e38a05be80c87b3dbe"
  },
  "kernelspec": {
   "display_name": "Python 3.8.10 64-bit (windows store)",
   "language": "python",
   "name": "python3"
  },
  "language_info": {
   "codemirror_mode": {
    "name": "ipython",
    "version": 3
   },
   "file_extension": ".py",
   "mimetype": "text/x-python",
   "name": "python",
   "nbconvert_exporter": "python",
   "pygments_lexer": "ipython3",
   "version": "3.8.12"
  },
  "orig_nbformat": 4
 },
 "nbformat": 4,
 "nbformat_minor": 2
}
