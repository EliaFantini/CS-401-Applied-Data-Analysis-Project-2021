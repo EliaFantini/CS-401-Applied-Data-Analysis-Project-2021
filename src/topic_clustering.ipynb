{
 "cells": [
  {
   "cell_type": "code",
   "execution_count": 1,
   "metadata": {},
   "outputs": [],
   "source": [
    "import pandas as pd\n",
    "from bertopic import BERTopic\n",
    "from nltk.corpus import stopwords"
   ]
  },
  {
   "cell_type": "code",
   "execution_count": 2,
   "metadata": {},
   "outputs": [
    {
     "data": {
      "text/plain": "         speaker_id           quote_id  \\\n398827        22686  2017-07-14-023487   \n1349979     6171982  2019-11-08-019059   \n45116            76  2015-07-15-066645   \n622647        22686  2018-03-20-116354   \n367645        22686  2017-07-21-052764   \n\n                                                                                                                                                                                                                                                                                                                                      quotation  \\\n398827   For the middle school program in particular, we had over 300 students registered. They're receiving valuable time with literacy and math skills, while also having these exciting opportunities to gain new skills, build friends, become more comfortable in the middle school environment, to have a safe place to go and to be fed,   \n1349979                                                           Eric Holder didn't recuse himself. Loretta Lynch met with Bill Clinton, she didn't recuse herself, but this guy decides he has to recuse himself? For all the president went through for those two-and-a-half years, because he did not have an attorney general at his side,   \n45116                                                                                                                                                                                                                                                                     It'd be a 65-year-old who wanted a pardon to get his gun rights back,   \n622647                                                                                                                                                                                                               The legal allegations against Facebook will need to be investigated by Elizabeth Denham, the UKs Information Commissioner,   \n367645                                                                                                                                                                                                                                                                                                            I will renegotiate that deal,   \n\n               speaker  party  Date-Time  \n398827    Donald Trump  29468 2017-07-14  \n1349979  Jeanine Pirro  29468 2019-11-08  \n45116     Barack Obama  29552 2015-07-15  \n622647    Donald Trump  29468 2018-03-20  \n367645    Donald Trump  29468 2017-07-21  ",
      "text/html": "<div>\n<style scoped>\n    .dataframe tbody tr th:only-of-type {\n        vertical-align: middle;\n    }\n\n    .dataframe tbody tr th {\n        vertical-align: top;\n    }\n\n    .dataframe thead th {\n        text-align: right;\n    }\n</style>\n<table border=\"1\" class=\"dataframe\">\n  <thead>\n    <tr style=\"text-align: right;\">\n      <th></th>\n      <th>speaker_id</th>\n      <th>quote_id</th>\n      <th>quotation</th>\n      <th>speaker</th>\n      <th>party</th>\n      <th>Date-Time</th>\n    </tr>\n  </thead>\n  <tbody>\n    <tr>\n      <th>398827</th>\n      <td>22686</td>\n      <td>2017-07-14-023487</td>\n      <td>For the middle school program in particular, we had over 300 students registered. They're receiving valuable time with literacy and math skills, while also having these exciting opportunities to gain new skills, build friends, become more comfortable in the middle school environment, to have a safe place to go and to be fed,</td>\n      <td>Donald Trump</td>\n      <td>29468</td>\n      <td>2017-07-14</td>\n    </tr>\n    <tr>\n      <th>1349979</th>\n      <td>6171982</td>\n      <td>2019-11-08-019059</td>\n      <td>Eric Holder didn't recuse himself. Loretta Lynch met with Bill Clinton, she didn't recuse herself, but this guy decides he has to recuse himself? For all the president went through for those two-and-a-half years, because he did not have an attorney general at his side,</td>\n      <td>Jeanine Pirro</td>\n      <td>29468</td>\n      <td>2019-11-08</td>\n    </tr>\n    <tr>\n      <th>45116</th>\n      <td>76</td>\n      <td>2015-07-15-066645</td>\n      <td>It'd be a 65-year-old who wanted a pardon to get his gun rights back,</td>\n      <td>Barack Obama</td>\n      <td>29552</td>\n      <td>2015-07-15</td>\n    </tr>\n    <tr>\n      <th>622647</th>\n      <td>22686</td>\n      <td>2018-03-20-116354</td>\n      <td>The legal allegations against Facebook will need to be investigated by Elizabeth Denham, the UKs Information Commissioner,</td>\n      <td>Donald Trump</td>\n      <td>29468</td>\n      <td>2018-03-20</td>\n    </tr>\n    <tr>\n      <th>367645</th>\n      <td>22686</td>\n      <td>2017-07-21-052764</td>\n      <td>I will renegotiate that deal,</td>\n      <td>Donald Trump</td>\n      <td>29468</td>\n      <td>2017-07-21</td>\n    </tr>\n  </tbody>\n</table>\n</div>"
     },
     "execution_count": 2,
     "metadata": {},
     "output_type": "execute_result"
    }
   ],
   "source": [
    "pd.set_option('display.max_colwidth', None)\n",
    "#load pickle of labels\n",
    "QUOTEBANK_PATH = \"../data/binary/us-politicians.pickle\"\n",
    "data = pd.read_pickle(QUOTEBANK_PATH)\n",
    "data = data.sample(800000)\n",
    "# Read data\n",
    "data.head()"
   ]
  },
  {
   "cell_type": "code",
   "execution_count": 3,
   "metadata": {},
   "outputs": [],
   "source": [
    "# Stopwords and special characters removal\n",
    "data['quotation'] = data['quotation'].str.replace('\\W',' ')\n",
    "stop = stopwords.words('english')\n",
    "data['quotation'] = data['quotation'].apply(lambda x: ' '.join([word for word in x.split() if word.lower() not in (stop)]))\n",
    "quotes = list(data['quotation'])"
   ]
  },
  {
   "cell_type": "code",
   "execution_count": 4,
   "metadata": {},
   "outputs": [],
   "source": [
    "# firstly, let's reduce topics from around 1600 to 50\n",
    "topic_model = BERTopic.load(\"BERTopic_model\")\n",
    "topics  = topic_model.get_topics()"
   ]
  },
  {
   "cell_type": "code",
   "execution_count": 5,
   "outputs": [
    {
     "ename": "ValueError",
     "evalue": "Mixing dicts with non-Series may lead to ambiguous ordering.",
     "output_type": "error",
     "traceback": [
      "\u001B[1;31m---------------------------------------------------------------------------\u001B[0m",
      "\u001B[1;31mValueError\u001B[0m                                Traceback (most recent call last)",
      "\u001B[1;32m<ipython-input-5-fab76ddf0276>\u001B[0m in \u001B[0;36m<module>\u001B[1;34m\u001B[0m\n\u001B[1;32m----> 1\u001B[1;33m \u001B[0mtopics\u001B[0m\u001B[1;33m,\u001B[0m \u001B[0mprobs\u001B[0m \u001B[1;33m=\u001B[0m \u001B[0mtopic_model\u001B[0m\u001B[1;33m.\u001B[0m\u001B[0mreduce_topics\u001B[0m\u001B[1;33m(\u001B[0m\u001B[0mquotes\u001B[0m\u001B[1;33m,\u001B[0m \u001B[0mtopics\u001B[0m \u001B[1;33m,\u001B[0m \u001B[0mnr_topics\u001B[0m\u001B[1;33m=\u001B[0m \u001B[1;36m50\u001B[0m\u001B[1;33m)\u001B[0m\u001B[1;33m\u001B[0m\u001B[1;33m\u001B[0m\u001B[0m\n\u001B[0m\u001B[0;32m      2\u001B[0m \u001B[1;33m\u001B[0m\u001B[0m\n\u001B[0;32m      3\u001B[0m \u001B[1;33m\u001B[0m\u001B[0m\n",
      "\u001B[1;32mC:\\ProgramData\\Anaconda3\\envs\\myenv\\lib\\site-packages\\bertopic\\_bertopic.py\u001B[0m in \u001B[0;36mreduce_topics\u001B[1;34m(self, docs, topics, probabilities, nr_topics)\u001B[0m\n\u001B[0;32m    730\u001B[0m         \u001B[0mcheck_is_fitted\u001B[0m\u001B[1;33m(\u001B[0m\u001B[0mself\u001B[0m\u001B[1;33m)\u001B[0m\u001B[1;33m\u001B[0m\u001B[1;33m\u001B[0m\u001B[0m\n\u001B[0;32m    731\u001B[0m         \u001B[0mself\u001B[0m\u001B[1;33m.\u001B[0m\u001B[0mnr_topics\u001B[0m \u001B[1;33m=\u001B[0m \u001B[0mnr_topics\u001B[0m\u001B[1;33m\u001B[0m\u001B[1;33m\u001B[0m\u001B[0m\n\u001B[1;32m--> 732\u001B[1;33m         \u001B[0mdocuments\u001B[0m \u001B[1;33m=\u001B[0m \u001B[0mpd\u001B[0m\u001B[1;33m.\u001B[0m\u001B[0mDataFrame\u001B[0m\u001B[1;33m(\u001B[0m\u001B[1;33m{\u001B[0m\u001B[1;34m\"Document\"\u001B[0m\u001B[1;33m:\u001B[0m \u001B[0mdocs\u001B[0m\u001B[1;33m,\u001B[0m \u001B[1;34m\"Topic\"\u001B[0m\u001B[1;33m:\u001B[0m \u001B[0mtopics\u001B[0m\u001B[1;33m}\u001B[0m\u001B[1;33m)\u001B[0m\u001B[1;33m\u001B[0m\u001B[1;33m\u001B[0m\u001B[0m\n\u001B[0m\u001B[0;32m    733\u001B[0m \u001B[1;33m\u001B[0m\u001B[0m\n\u001B[0;32m    734\u001B[0m         \u001B[1;31m# Reduce number of topics\u001B[0m\u001B[1;33m\u001B[0m\u001B[1;33m\u001B[0m\u001B[1;33m\u001B[0m\u001B[0m\n",
      "\u001B[1;32mC:\\ProgramData\\Anaconda3\\envs\\myenv\\lib\\site-packages\\pandas\\core\\frame.py\u001B[0m in \u001B[0;36m__init__\u001B[1;34m(self, data, index, columns, dtype, copy)\u001B[0m\n\u001B[0;32m    466\u001B[0m \u001B[1;33m\u001B[0m\u001B[0m\n\u001B[0;32m    467\u001B[0m         \u001B[1;32melif\u001B[0m \u001B[0misinstance\u001B[0m\u001B[1;33m(\u001B[0m\u001B[0mdata\u001B[0m\u001B[1;33m,\u001B[0m \u001B[0mdict\u001B[0m\u001B[1;33m)\u001B[0m\u001B[1;33m:\u001B[0m\u001B[1;33m\u001B[0m\u001B[1;33m\u001B[0m\u001B[0m\n\u001B[1;32m--> 468\u001B[1;33m             \u001B[0mmgr\u001B[0m \u001B[1;33m=\u001B[0m \u001B[0minit_dict\u001B[0m\u001B[1;33m(\u001B[0m\u001B[0mdata\u001B[0m\u001B[1;33m,\u001B[0m \u001B[0mindex\u001B[0m\u001B[1;33m,\u001B[0m \u001B[0mcolumns\u001B[0m\u001B[1;33m,\u001B[0m \u001B[0mdtype\u001B[0m\u001B[1;33m=\u001B[0m\u001B[0mdtype\u001B[0m\u001B[1;33m)\u001B[0m\u001B[1;33m\u001B[0m\u001B[1;33m\u001B[0m\u001B[0m\n\u001B[0m\u001B[0;32m    469\u001B[0m         \u001B[1;32melif\u001B[0m \u001B[0misinstance\u001B[0m\u001B[1;33m(\u001B[0m\u001B[0mdata\u001B[0m\u001B[1;33m,\u001B[0m \u001B[0mma\u001B[0m\u001B[1;33m.\u001B[0m\u001B[0mMaskedArray\u001B[0m\u001B[1;33m)\u001B[0m\u001B[1;33m:\u001B[0m\u001B[1;33m\u001B[0m\u001B[1;33m\u001B[0m\u001B[0m\n\u001B[0;32m    470\u001B[0m             \u001B[1;32mimport\u001B[0m \u001B[0mnumpy\u001B[0m\u001B[1;33m.\u001B[0m\u001B[0mma\u001B[0m\u001B[1;33m.\u001B[0m\u001B[0mmrecords\u001B[0m \u001B[1;32mas\u001B[0m \u001B[0mmrecords\u001B[0m\u001B[1;33m\u001B[0m\u001B[1;33m\u001B[0m\u001B[0m\n",
      "\u001B[1;32mC:\\ProgramData\\Anaconda3\\envs\\myenv\\lib\\site-packages\\pandas\\core\\internals\\construction.py\u001B[0m in \u001B[0;36minit_dict\u001B[1;34m(data, index, columns, dtype)\u001B[0m\n\u001B[0;32m    281\u001B[0m             \u001B[0marr\u001B[0m \u001B[1;32mif\u001B[0m \u001B[1;32mnot\u001B[0m \u001B[0mis_datetime64tz_dtype\u001B[0m\u001B[1;33m(\u001B[0m\u001B[0marr\u001B[0m\u001B[1;33m)\u001B[0m \u001B[1;32melse\u001B[0m \u001B[0marr\u001B[0m\u001B[1;33m.\u001B[0m\u001B[0mcopy\u001B[0m\u001B[1;33m(\u001B[0m\u001B[1;33m)\u001B[0m \u001B[1;32mfor\u001B[0m \u001B[0marr\u001B[0m \u001B[1;32min\u001B[0m \u001B[0marrays\u001B[0m\u001B[1;33m\u001B[0m\u001B[1;33m\u001B[0m\u001B[0m\n\u001B[0;32m    282\u001B[0m         ]\n\u001B[1;32m--> 283\u001B[1;33m     \u001B[1;32mreturn\u001B[0m \u001B[0marrays_to_mgr\u001B[0m\u001B[1;33m(\u001B[0m\u001B[0marrays\u001B[0m\u001B[1;33m,\u001B[0m \u001B[0mdata_names\u001B[0m\u001B[1;33m,\u001B[0m \u001B[0mindex\u001B[0m\u001B[1;33m,\u001B[0m \u001B[0mcolumns\u001B[0m\u001B[1;33m,\u001B[0m \u001B[0mdtype\u001B[0m\u001B[1;33m=\u001B[0m\u001B[0mdtype\u001B[0m\u001B[1;33m)\u001B[0m\u001B[1;33m\u001B[0m\u001B[1;33m\u001B[0m\u001B[0m\n\u001B[0m\u001B[0;32m    284\u001B[0m \u001B[1;33m\u001B[0m\u001B[0m\n\u001B[0;32m    285\u001B[0m \u001B[1;33m\u001B[0m\u001B[0m\n",
      "\u001B[1;32mC:\\ProgramData\\Anaconda3\\envs\\myenv\\lib\\site-packages\\pandas\\core\\internals\\construction.py\u001B[0m in \u001B[0;36marrays_to_mgr\u001B[1;34m(arrays, arr_names, index, columns, dtype, verify_integrity)\u001B[0m\n\u001B[0;32m     76\u001B[0m         \u001B[1;31m# figure out the index, if necessary\u001B[0m\u001B[1;33m\u001B[0m\u001B[1;33m\u001B[0m\u001B[1;33m\u001B[0m\u001B[0m\n\u001B[0;32m     77\u001B[0m         \u001B[1;32mif\u001B[0m \u001B[0mindex\u001B[0m \u001B[1;32mis\u001B[0m \u001B[1;32mNone\u001B[0m\u001B[1;33m:\u001B[0m\u001B[1;33m\u001B[0m\u001B[1;33m\u001B[0m\u001B[0m\n\u001B[1;32m---> 78\u001B[1;33m             \u001B[0mindex\u001B[0m \u001B[1;33m=\u001B[0m \u001B[0mextract_index\u001B[0m\u001B[1;33m(\u001B[0m\u001B[0marrays\u001B[0m\u001B[1;33m)\u001B[0m\u001B[1;33m\u001B[0m\u001B[1;33m\u001B[0m\u001B[0m\n\u001B[0m\u001B[0;32m     79\u001B[0m         \u001B[1;32melse\u001B[0m\u001B[1;33m:\u001B[0m\u001B[1;33m\u001B[0m\u001B[1;33m\u001B[0m\u001B[0m\n\u001B[0;32m     80\u001B[0m             \u001B[0mindex\u001B[0m \u001B[1;33m=\u001B[0m \u001B[0mensure_index\u001B[0m\u001B[1;33m(\u001B[0m\u001B[0mindex\u001B[0m\u001B[1;33m)\u001B[0m\u001B[1;33m\u001B[0m\u001B[1;33m\u001B[0m\u001B[0m\n",
      "\u001B[1;32mC:\\ProgramData\\Anaconda3\\envs\\myenv\\lib\\site-packages\\pandas\\core\\internals\\construction.py\u001B[0m in \u001B[0;36mextract_index\u001B[1;34m(data)\u001B[0m\n\u001B[0;32m    399\u001B[0m             \u001B[1;32mif\u001B[0m \u001B[0mhave_dicts\u001B[0m\u001B[1;33m:\u001B[0m\u001B[1;33m\u001B[0m\u001B[1;33m\u001B[0m\u001B[0m\n\u001B[0;32m    400\u001B[0m                 raise ValueError(\n\u001B[1;32m--> 401\u001B[1;33m                     \u001B[1;34m\"Mixing dicts with non-Series may lead to ambiguous ordering.\"\u001B[0m\u001B[1;33m\u001B[0m\u001B[1;33m\u001B[0m\u001B[0m\n\u001B[0m\u001B[0;32m    402\u001B[0m                 )\n\u001B[0;32m    403\u001B[0m \u001B[1;33m\u001B[0m\u001B[0m\n",
      "\u001B[1;31mValueError\u001B[0m: Mixing dicts with non-Series may lead to ambiguous ordering."
     ]
    }
   ],
   "source": [
    "topics, probs = topic_model.reduce_topics(quotes, topics , nr_topics= 50)\n"
   ],
   "metadata": {
    "collapsed": false,
    "pycharm": {
     "name": "#%%\n"
    }
   }
  },
  {
   "cell_type": "code",
   "execution_count": null,
   "outputs": [],
   "source": [
    "topic_model.reduce_topics(quotes, nr_topics= 50)\n",
    "#topic_model.save(\"BERTopic_model\")"
   ],
   "metadata": {
    "collapsed": false,
    "pycharm": {
     "name": "#%%\n"
    }
   }
  },
  {
   "cell_type": "code",
   "execution_count": null,
   "outputs": [],
   "source": [
    "freq = topic_model.get_topic_info()\n",
    "freq.head(51)\n"
   ],
   "metadata": {
    "collapsed": false,
    "pycharm": {
     "name": "#%%\n"
    }
   }
  }
 ],
 "metadata": {
  "interpreter": {
   "hash": "31f2aee4e71d21fbe5cf8b01ff0e069b9275f58929596ceb00d14d90e3e16cd6"
  },
  "kernelspec": {
   "name": "pycharm-8f20d7e5",
   "language": "python",
   "display_name": "PyCharm (ml-project-1-pasta_balalaika)"
  },
  "language_info": {
   "codemirror_mode": {
    "name": "ipython",
    "version": 3
   },
   "file_extension": ".py",
   "mimetype": "text/x-python",
   "name": "python",
   "nbconvert_exporter": "python",
   "pygments_lexer": "ipython3",
   "version": "3.8.9"
  },
  "orig_nbformat": 4
 },
 "nbformat": 4,
 "nbformat_minor": 2
}