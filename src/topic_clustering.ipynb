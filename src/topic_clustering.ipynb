{
 "cells": [
  {
   "cell_type": "code",
   "execution_count": 19,
   "metadata": {},
   "outputs": [],
   "source": [
    "import pandas as pd\n",
    "from bertopic import BERTopic\n",
    "import matplotlib.pyplot as plt"
   ]
  },
  {
   "cell_type": "code",
   "execution_count": 20,
   "metadata": {},
   "outputs": [
    {
     "data": {
      "text/plain": "<Figure size 432x288 with 1 Axes>",
      "image/png": "[encoded data removed]"
     },
     "metadata": {
      "needs_background": "light"
     },
     "output_type": "display_data"
    }
   ],
   "source": [
    "pd.set_option('display.max_colwidth', None)\n",
    "#load pickle of labels\n",
    "QUOTEBANK_PATH = \"../data/binary/us-politicians-with-clusters.pickle\"\n",
    "data = pd.read_pickle(QUOTEBANK_PATH)\n",
    "# Read data\n",
    "plt.hist(data['cluster'], bins=51)\n",
    "plt.show()"
   ]
  },
  {
   "cell_type": "code",
   "execution_count": 21,
   "outputs": [],
   "source": [
    "topic_model = BERTopic.load(\"BERTopic_model\")"
   ],
   "metadata": {
    "collapsed": false,
    "pycharm": {
     "name": "#%%\n"
    }
   }
  },
  {
   "cell_type": "code",
   "execution_count": 22,
   "outputs": [
    {
     "data": {
      "text/plain": "    Topic   Count                                                 Name\n0      -1  430914                              -1_just_didn_vote_white\n1     509   24973                          509_don_christmas_didn_rudy\n2      71    7806                       71_putin_witch_witch hunt_hunt\n3      43    7575               43_iran_nuclear_iranian_nuclear weapon\n4     312    5450                       312_black_racist_racism_racial\n5     341    5283                 341_farmers_coal_swamp_environmental\n6     335    5279             335_florida_puerto_hurricane_puerto rico\n7     539    5142              539_religion_christian_christians_bible\n8     214    4839              214_israel_jewish_jerusalem_palestinian\n9     440    4659                           440_stop_end_shutdown_shut\n10    663    4648                       663_boris_yes_greatest_johnson\n11      6    4343                       6_korea_north korea_kim_korean\n12    496    4307          496_hillary_clinton_hillary clinton_crooked\n13     93    4183                          93_mexico_wall_border_build\n14    611    3895                    611_tax_taxes_middle class_income\n15    471    3564  471_republicans_republican_republican party_lincoln\n16    164    3504                             164_isis_syria_iraq_isil\n17     86    3471               86_gun_guns_second amendment_amendment\n18    380    3409       380_immigration_ice_illegal_illegal immigrants\n19    454    3243   454_obama_barack_barack obama_obama administration\n20    494    3120                494_ted_indiana_ted cruz_nancy pelosi\n21    529    3118                  529_education_teachers_debt_teacher\n22     69    2687                  69_ukraine_joe_joe biden_corruption\n23    484    2506                          484_fake_fake news_lies_lie\n24    431    2496                           431_months_weeks_24_denies\n25    459    2348         459_politics_politicians_politician_partisan\n26    343    2252        343_climate_science_climate crisis_scientists\n27    589    2097       589_economy_economic_recession_economic growth\n28    519    2054                 519_hard_tough_dangerous_complicated\n29    620    1988           620_trade_trade deals_trade war_free trade\n30    135    1900                 135_washington_jackson_lee_jefferson\n31    241    1879                            241_gay_lgbt_lgbtq_sexual\n32    505    1860              505_senate_senators_senator_impeachment\n33    239    1791                           239_food_dinner_eat_ronald\n34    424    1778                             424_50_50 percent_500_45\n35     46    1776                        46_india_indian_modi_pakistan\n36    635    1769               635_prayers_sacrifice_loved_loved ones\n37    143    1730               143_afghanistan_pakistan_taliban_laden\n38    639    1724                  639_love_genius_wonderful_beautiful\n39    160    1710             160_muslims_islam_muslim_radical islamic\n40    392    1707                  392_virus_coronavirus_cancer_spread\n41     24    1701                  24_venezuela_cuban_regime_democracy\n42    373    1624                    373_children_baby_family_families\n43    251    1580     251_constitution_oath_oath office_constitutional\n44    435    1541                         435_stay_kept_remain_staying\n45    497    1520                497_bernie_sanders_hillary_democratic\n46     14    1479                                   14_11_2018_2017_28\n47     29    1457             29_europe_european_brexit_european union\n48    159    1451  159_terrorism_terrorists_terrorist_terrorist groups\n49    492    1445                   492_worst_worse_stupid_legislation\n50    366    1425         366_steel_billions_aluminum_billions dollars",
      "text/html": "<div>\n<style scoped>\n    .dataframe tbody tr th:only-of-type {\n        vertical-align: middle;\n    }\n\n    .dataframe tbody tr th {\n        vertical-align: top;\n    }\n\n    .dataframe thead th {\n        text-align: right;\n    }\n</style>\n<table border=\"1\" class=\"dataframe\">\n  <thead>\n    <tr style=\"text-align: right;\">\n      <th></th>\n      <th>Topic</th>\n      <th>Count</th>\n      <th>Name</th>\n    </tr>\n  </thead>\n  <tbody>\n    <tr>\n      <th>0</th>\n      <td>-1</td>\n      <td>430914</td>\n      <td>-1_just_didn_vote_white</td>\n    </tr>\n    <tr>\n      <th>1</th>\n      <td>509</td>\n      <td>24973</td>\n      <td>509_don_christmas_didn_rudy</td>\n    </tr>\n    <tr>\n      <th>2</th>\n      <td>71</td>\n      <td>7806</td>\n      <td>71_putin_witch_witch hunt_hunt</td>\n    </tr>\n    <tr>\n      <th>3</th>\n      <td>43</td>\n      <td>7575</td>\n      <td>43_iran_nuclear_iranian_nuclear weapon</td>\n    </tr>\n    <tr>\n      <th>4</th>\n      <td>312</td>\n      <td>5450</td>\n      <td>312_black_racist_racism_racial</td>\n    </tr>\n    <tr>\n      <th>5</th>\n      <td>341</td>\n      <td>5283</td>\n      <td>341_farmers_coal_swamp_environmental</td>\n    </tr>\n    <tr>\n      <th>6</th>\n      <td>335</td>\n      <td>5279</td>\n      <td>335_florida_puerto_hurricane_puerto rico</td>\n    </tr>\n    <tr>\n      <th>7</th>\n      <td>539</td>\n      <td>5142</td>\n      <td>539_religion_christian_christians_bible</td>\n    </tr>\n    <tr>\n      <th>8</th>\n      <td>214</td>\n      <td>4839</td>\n      <td>214_israel_jewish_jerusalem_palestinian</td>\n    </tr>\n    <tr>\n      <th>9</th>\n      <td>440</td>\n      <td>4659</td>\n      <td>440_stop_end_shutdown_shut</td>\n    </tr>\n    <tr>\n      <th>10</th>\n      <td>663</td>\n      <td>4648</td>\n      <td>663_boris_yes_greatest_johnson</td>\n    </tr>\n    <tr>\n      <th>11</th>\n      <td>6</td>\n      <td>4343</td>\n      <td>6_korea_north korea_kim_korean</td>\n    </tr>\n    <tr>\n      <th>12</th>\n      <td>496</td>\n      <td>4307</td>\n      <td>496_hillary_clinton_hillary clinton_crooked</td>\n    </tr>\n    <tr>\n      <th>13</th>\n      <td>93</td>\n      <td>4183</td>\n      <td>93_mexico_wall_border_build</td>\n    </tr>\n    <tr>\n      <th>14</th>\n      <td>611</td>\n      <td>3895</td>\n      <td>611_tax_taxes_middle class_income</td>\n    </tr>\n    <tr>\n      <th>15</th>\n      <td>471</td>\n      <td>3564</td>\n      <td>471_republicans_republican_republican party_lincoln</td>\n    </tr>\n    <tr>\n      <th>16</th>\n      <td>164</td>\n      <td>3504</td>\n      <td>164_isis_syria_iraq_isil</td>\n    </tr>\n    <tr>\n      <th>17</th>\n      <td>86</td>\n      <td>3471</td>\n      <td>86_gun_guns_second amendment_amendment</td>\n    </tr>\n    <tr>\n      <th>18</th>\n      <td>380</td>\n      <td>3409</td>\n      <td>380_immigration_ice_illegal_illegal immigrants</td>\n    </tr>\n    <tr>\n      <th>19</th>\n      <td>454</td>\n      <td>3243</td>\n      <td>454_obama_barack_barack obama_obama administration</td>\n    </tr>\n    <tr>\n      <th>20</th>\n      <td>494</td>\n      <td>3120</td>\n      <td>494_ted_indiana_ted cruz_nancy pelosi</td>\n    </tr>\n    <tr>\n      <th>21</th>\n      <td>529</td>\n      <td>3118</td>\n      <td>529_education_teachers_debt_teacher</td>\n    </tr>\n    <tr>\n      <th>22</th>\n      <td>69</td>\n      <td>2687</td>\n      <td>69_ukraine_joe_joe biden_corruption</td>\n    </tr>\n    <tr>\n      <th>23</th>\n      <td>484</td>\n      <td>2506</td>\n      <td>484_fake_fake news_lies_lie</td>\n    </tr>\n    <tr>\n      <th>24</th>\n      <td>431</td>\n      <td>2496</td>\n      <td>431_months_weeks_24_denies</td>\n    </tr>\n    <tr>\n      <th>25</th>\n      <td>459</td>\n      <td>2348</td>\n      <td>459_politics_politicians_politician_partisan</td>\n    </tr>\n    <tr>\n      <th>26</th>\n      <td>343</td>\n      <td>2252</td>\n      <td>343_climate_science_climate crisis_scientists</td>\n    </tr>\n    <tr>\n      <th>27</th>\n      <td>589</td>\n      <td>2097</td>\n      <td>589_economy_economic_recession_economic growth</td>\n    </tr>\n    <tr>\n      <th>28</th>\n      <td>519</td>\n      <td>2054</td>\n      <td>519_hard_tough_dangerous_complicated</td>\n    </tr>\n    <tr>\n      <th>29</th>\n      <td>620</td>\n      <td>1988</td>\n      <td>620_trade_trade deals_trade war_free trade</td>\n    </tr>\n    <tr>\n      <th>30</th>\n      <td>135</td>\n      <td>1900</td>\n      <td>135_washington_jackson_lee_jefferson</td>\n    </tr>\n    <tr>\n      <th>31</th>\n      <td>241</td>\n      <td>1879</td>\n      <td>241_gay_lgbt_lgbtq_sexual</td>\n    </tr>\n    <tr>\n      <th>32</th>\n      <td>505</td>\n      <td>1860</td>\n      <td>505_senate_senators_senator_impeachment</td>\n    </tr>\n    <tr>\n      <th>33</th>\n      <td>239</td>\n      <td>1791</td>\n      <td>239_food_dinner_eat_ronald</td>\n    </tr>\n    <tr>\n      <th>34</th>\n      <td>424</td>\n      <td>1778</td>\n      <td>424_50_50 percent_500_45</td>\n    </tr>\n    <tr>\n      <th>35</th>\n      <td>46</td>\n      <td>1776</td>\n      <td>46_india_indian_modi_pakistan</td>\n    </tr>\n    <tr>\n      <th>36</th>\n      <td>635</td>\n      <td>1769</td>\n      <td>635_prayers_sacrifice_loved_loved ones</td>\n    </tr>\n    <tr>\n      <th>37</th>\n      <td>143</td>\n      <td>1730</td>\n      <td>143_afghanistan_pakistan_taliban_laden</td>\n    </tr>\n    <tr>\n      <th>38</th>\n      <td>639</td>\n      <td>1724</td>\n      <td>639_love_genius_wonderful_beautiful</td>\n    </tr>\n    <tr>\n      <th>39</th>\n      <td>160</td>\n      <td>1710</td>\n      <td>160_muslims_islam_muslim_radical islamic</td>\n    </tr>\n    <tr>\n      <th>40</th>\n      <td>392</td>\n      <td>1707</td>\n      <td>392_virus_coronavirus_cancer_spread</td>\n    </tr>\n    <tr>\n      <th>41</th>\n      <td>24</td>\n      <td>1701</td>\n      <td>24_venezuela_cuban_regime_democracy</td>\n    </tr>\n    <tr>\n      <th>42</th>\n      <td>373</td>\n      <td>1624</td>\n      <td>373_children_baby_family_families</td>\n    </tr>\n    <tr>\n      <th>43</th>\n      <td>251</td>\n      <td>1580</td>\n      <td>251_constitution_oath_oath office_constitutional</td>\n    </tr>\n    <tr>\n      <th>44</th>\n      <td>435</td>\n      <td>1541</td>\n      <td>435_stay_kept_remain_staying</td>\n    </tr>\n    <tr>\n      <th>45</th>\n      <td>497</td>\n      <td>1520</td>\n      <td>497_bernie_sanders_hillary_democratic</td>\n    </tr>\n    <tr>\n      <th>46</th>\n      <td>14</td>\n      <td>1479</td>\n      <td>14_11_2018_2017_28</td>\n    </tr>\n    <tr>\n      <th>47</th>\n      <td>29</td>\n      <td>1457</td>\n      <td>29_europe_european_brexit_european union</td>\n    </tr>\n    <tr>\n      <th>48</th>\n      <td>159</td>\n      <td>1451</td>\n      <td>159_terrorism_terrorists_terrorist_terrorist groups</td>\n    </tr>\n    <tr>\n      <th>49</th>\n      <td>492</td>\n      <td>1445</td>\n      <td>492_worst_worse_stupid_legislation</td>\n    </tr>\n    <tr>\n      <th>50</th>\n      <td>366</td>\n      <td>1425</td>\n      <td>366_steel_billions_aluminum_billions dollars</td>\n    </tr>\n  </tbody>\n</table>\n</div>"
     },
     "execution_count": 22,
     "metadata": {},
     "output_type": "execute_result"
    }
   ],
   "source": [
    "freq = topic_model.get_topic_info()\n",
    "freq.head(51)\n",
    "\n"
   ],
   "metadata": {
    "collapsed": false,
    "pycharm": {
     "name": "#%%\n"
    }
   }
  }
 ],
 "metadata": {
  "interpreter": {
   "hash": "31f2aee4e71d21fbe5cf8b01ff0e069b9275f58929596ceb00d14d90e3e16cd6"
  },
  "kernelspec": {
   "name": "pycharm-8f20d7e5",
   "language": "python",
   "display_name": "PyCharm (ml-project-1-pasta_balalaika)"
  },
  "language_info": {
   "codemirror_mode": {
    "name": "ipython",
    "version": 3
   },
   "file_extension": ".py",
   "mimetype": "text/x-python",
   "name": "python",
   "nbconvert_exporter": "python",
   "pygments_lexer": "ipython3",
   "version": "3.8.9"
  },
  "orig_nbformat": 4
 },
 "nbformat": 4,
 "nbformat_minor": 2
}