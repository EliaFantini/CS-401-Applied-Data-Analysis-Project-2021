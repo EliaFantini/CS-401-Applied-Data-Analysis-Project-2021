{
 "cells": [
  {
   "cell_type": "markdown",
   "metadata": {},
   "source": [
    "### 0. Imports"
   ]
  },
  {
   "cell_type": "code",
   "execution_count": 1,
   "metadata": {},
   "outputs": [
    {
     "name": "stdout",
     "output_type": "stream",
     "text": [
      "zsh:1: command not found: pip\n",
      "zsh:1: command not found: pip\n"
     ]
    },
    {
     "data": {
      "text/plain": [
       "<function seaborn.rcmod.set(*args, **kwargs)>"
      ]
     },
     "execution_count": 1,
     "metadata": {},
     "output_type": "execute_result"
    }
   ],
   "source": [
    "# from bertopic import BERTopic\n",
    "!pip install numpy==1.20\n",
    "!pip install scipy==1.6.2\n",
    "from helpers import plot_across_time, plot_length, plot_metrics_scores, expand_contractions, remove_words, preprocess_quote\n",
    "from helpers import generate_speaker_affiliations, save_pickle, join_quotes_with_speaker_affiliations, read_most_common, create_model_topic_clusterer\n",
    "from tqdm import tqdm\n",
    "from scipy.stats import ttest_ind\n",
    "import os\n",
    "from datetime import datetime\n",
    "\n",
    "import numpy as np\n",
    "import pandas as pd\n",
    "import matplotlib.pyplot as plt\n",
    "import seaborn as sns\n",
    "sns.set\n"
   ]
  },
  {
   "cell_type": "markdown",
   "metadata": {},
   "source": [
    "### 1. Preprocessing\n",
    "#### Getting politicians dataset\n",
    "To obtain a dataset of politicians' quotations, we need to enrich the original *Quotebank* dataset with additional information about the speakers' political affiliations. To achieve that, we propose a preprocessing pipeline.\n",
    "\n",
    "First, load the *Wikidata* table from the `.parquet` file (provided on the *Quotebank*'s Google Drive). Keep the columns containing information interesting for us - speaker's QID and label, and party's QID, discard the others and drop the rows with missing values. Convert that to a `pandas DataFrame` and dump it into a `.pickle` file. \n",
    "\n",
    "Then, for each of the years load the initial *Quotebank* data. The initial dataset is represented as a list of `json` objects - process it into a `DataFrame` in a line-by-line manner, only keeping the quotation content and QID, as well as the speaker's QID. Dump the dataframe into a `.pickle` file.\n",
    "\n",
    "Next, perform an inner join between the two dataframes on the speaker QID - that way you end up with a dataframe containing quotations, along with information about the speaker's political affiliation.\n",
    "\n",
    "The *Quotebank* dataset is divided into batches based on the quotation date - 6 files are corresponding to years from 2015 until 2020. Therefore we perform the pipeline explained above 6 times, and then merge the results into a single dataframe. We end up with a dataset of around 17m quotations."
   ]
  },
  {
   "cell_type": "code",
   "execution_count": 2,
   "metadata": {},
   "outputs": [
    {
     "name": "stdout",
     "output_type": "stream",
     "text": [
      "Generating speaker affiliations DF...\n",
      "Done.\n",
      "\n"
     ]
    }
   ],
   "source": [
    "from statistics import mode\n",
    "\n",
    "# one time operation - generate a pickle file containing speaker's affiliations\n",
    "PARQUET_PATH = \"data/raw/speaker_attributes.parquet\"\n",
    "SPEAKER_AFFILIATIONS_OUT_PATH = \"data/binary/speaker_attributes.pickle\"\n",
    "\n",
    "print(\"Generating speaker affiliations DF...\")\n",
    "if not os.path.exists(SPEAKER_AFFILIATIONS_OUT_PATH):\n",
    "    generate_speaker_affiliations(PARQUET_PATH, SPEAKER_AFFILIATIONS_OUT_PATH)\n",
    "\n",
    "print(\"Done.\\n\")\n"
   ]
  },
  {
   "cell_type": "code",
   "execution_count": 3,
   "metadata": {},
   "outputs": [
    {
     "name": "stdout",
     "output_type": "stream",
     "text": [
      "Generating quotes DF...\n",
      "Done.\n",
      "\n",
      "Generating merged df...\n",
      "2015 Done.\n",
      "\n",
      "Generating quotes DF...\n",
      "Done.\n",
      "\n",
      "Generating merged df...\n",
      "2016 Done.\n",
      "\n",
      "Generating quotes DF...\n",
      "Done.\n",
      "\n",
      "Generating merged df...\n",
      "2017 Done.\n",
      "\n",
      "Generating quotes DF...\n",
      "Done.\n",
      "\n",
      "Generating merged df...\n",
      "2018 Done.\n",
      "\n",
      "Generating quotes DF...\n",
      "Done.\n",
      "\n",
      "Generating merged df...\n",
      "2019 Done.\n",
      "\n"
     ]
    }
   ],
   "source": [
    "\n",
    "# dataset loading - perform for each batch of the data (2015, 2016, ..., 2019)\n",
    "years = [i for i in range(2015, 2020)]\n",
    "for year in years:\n",
    "    DATASET_PATH_JSON_BZ2 = f\"data/raw/quotes-{year}.json.bz2\"\n",
    "    DATASET_PATH_PICKLE = f\"data/binary/data-{year}.pickle\"\n",
    "    MERGED_OUT_PATH = f\"data/binary/data-{year}.pickle\"\n",
    "\n",
    "    print(\"Generating quotes DF...\")\n",
    "    if not os.path.exists(DATASET_PATH_PICKLE):\n",
    "        save_pickle(DATASET_PATH_JSON_BZ2, DATASET_PATH_PICKLE)\n",
    "    print(\"Done.\\n\")\n",
    "\n",
    "    df_quotes = pd.read_pickle(DATASET_PATH_PICKLE)\n",
    "    df_affiliations = pd.read_pickle(SPEAKER_AFFILIATIONS_OUT_PATH)\n",
    "\n",
    "    print(\"Generating merged df...\")\n",
    "    if not os.path.exists(MERGED_OUT_PATH):\n",
    "        join_quotes_with_speaker_affiliations(\n",
    "            df_quotes, df_affiliations, MERGED_OUT_PATH)\n",
    "    print(year, \"Done.\\n\")\n"
   ]
  },
  {
   "cell_type": "code",
   "execution_count": 4,
   "metadata": {},
   "outputs": [],
   "source": [
    "# merge the results for the separate years into a single dataframe,\n",
    "# and extracting date from the quote_id and saving it into a new column as datetime.\n",
    "# Save all into a pickle named data.pickle\n",
    "\n",
    "if not os.path.exists(\"data/binary/us-politicians.pickle\"):\n",
    "    years = [2015, 2016, 2017, 2018, 2019]\n",
    "    paths = [f\"data/binary/data-{year}.pickle\" for year in years]\n",
    "    dfs = [pd.read_pickle(path) for path in paths]\n",
    "    merged_df = pd.concat(dfs, ignore_index=True)\n",
    "    # create an additional datetime column - useful for temporal analysis\n",
    "    merged_df[\"Date-Time\"] = pd.to_datetime(merged_df['quote_id'].apply(\n",
    "        lambda x: datetime.strptime(x[:10], '%Y-%m-%d')))\n",
    "    merged_df.to_pickle(\"data/binary/us-politicians.pickle\")\n"
   ]
  },
  {
   "cell_type": "markdown",
   "metadata": {},
   "source": [
    "#### US Politicians dataset\n",
    "To obtain a dataset of US Politician quotations, we proceed to:\n",
    "1. Only keep the quotations where the speaker's party is `29468` (Republican party) or `29552` (Democratic party).\n",
    "2. Filter out the rows that have `None` as a value in the `Candidacy` column in the Wikidata - the majority of the speakers affiliated with the political parties were not actual politicians - they are often celebrities, sports stars, TV personalities, etc. We believe it is beneficial to only take the actual politicians, as they are more likely to speak about actual political matters and represent their party's ideology.\n",
    "\n",
    "Performing step 1 reduces the size of the dataset from 17 million rows to around 8 million rows, and step 2 reduces the size further to around 1.6 million."
   ]
  },
  {
   "cell_type": "code",
   "execution_count": 5,
   "metadata": {},
   "outputs": [],
   "source": [
    "# additional preprocessing to obtain the US politicans data\n",
    "US_POLITICIANS = \"data/binary/us-politicians.pickle\"\n",
    "DEMOCRATIC_PARTY_ID = 29552\n",
    "REPUBLICAN_PARTY_ID = 29468\n",
    "data = pd.read_pickle(US_POLITICIANS)\n",
    "# filter to only keep the american politicians\n",
    "data = data[data[\"party\"].isin([29468, 29552])]\n"
   ]
  },
  {
   "cell_type": "code",
   "execution_count": 6,
   "metadata": {},
   "outputs": [
    {
     "data": {
      "text/html": [
       "<div>\n",
       "<style scoped>\n",
       "    .dataframe tbody tr th:only-of-type {\n",
       "        vertical-align: middle;\n",
       "    }\n",
       "\n",
       "    .dataframe tbody tr th {\n",
       "        vertical-align: top;\n",
       "    }\n",
       "\n",
       "    .dataframe thead th {\n",
       "        text-align: right;\n",
       "    }\n",
       "</style>\n",
       "<table border=\"1\" class=\"dataframe\">\n",
       "  <thead>\n",
       "    <tr style=\"text-align: right;\">\n",
       "      <th></th>\n",
       "      <th>id</th>\n",
       "    </tr>\n",
       "  </thead>\n",
       "  <tbody>\n",
       "    <tr>\n",
       "      <th>0</th>\n",
       "      <td>23</td>\n",
       "    </tr>\n",
       "    <tr>\n",
       "      <th>3</th>\n",
       "      <td>207</td>\n",
       "    </tr>\n",
       "    <tr>\n",
       "      <th>11</th>\n",
       "      <td>815</td>\n",
       "    </tr>\n",
       "    <tr>\n",
       "      <th>15</th>\n",
       "      <td>946</td>\n",
       "    </tr>\n",
       "    <tr>\n",
       "      <th>18</th>\n",
       "      <td>1058</td>\n",
       "    </tr>\n",
       "  </tbody>\n",
       "</table>\n",
       "</div>"
      ],
      "text/plain": [
       "      id\n",
       "0     23\n",
       "3    207\n",
       "11   815\n",
       "15   946\n",
       "18  1058"
      ]
     },
     "execution_count": 6,
     "metadata": {},
     "output_type": "execute_result"
    }
   ],
   "source": [
    "# maintain only the quotes where the speakers are actually politicians - they were candidates in at least one election\n",
    "speaker_data = pd.read_parquet(PARQUET_PATH)\n",
    "candidates = speaker_data[[\"id\", \"candidacy\"]]\n",
    "candidates = candidates.dropna()\n",
    "candidates = candidates.drop(columns=[\"candidacy\"])\n",
    "candidates[\"id\"] = candidates[\"id\"].apply(lambda x: int(x[1:]))\n",
    "candidates.head()\n"
   ]
  },
  {
   "cell_type": "code",
   "execution_count": 7,
   "metadata": {},
   "outputs": [
    {
     "data": {
      "text/html": [
       "<div>\n",
       "<style scoped>\n",
       "    .dataframe tbody tr th:only-of-type {\n",
       "        vertical-align: middle;\n",
       "    }\n",
       "\n",
       "    .dataframe tbody tr th {\n",
       "        vertical-align: top;\n",
       "    }\n",
       "\n",
       "    .dataframe thead th {\n",
       "        text-align: right;\n",
       "    }\n",
       "</style>\n",
       "<table border=\"1\" class=\"dataframe\">\n",
       "  <thead>\n",
       "    <tr style=\"text-align: right;\">\n",
       "      <th></th>\n",
       "      <th>speaker_id</th>\n",
       "      <th>quote_id</th>\n",
       "      <th>quotation</th>\n",
       "      <th>speaker</th>\n",
       "      <th>party</th>\n",
       "      <th>Date-Time</th>\n",
       "    </tr>\n",
       "  </thead>\n",
       "  <tbody>\n",
       "    <tr>\n",
       "      <th>0</th>\n",
       "      <td>1282411</td>\n",
       "      <td>2015-06-11-000090</td>\n",
       "      <td>25-year cost estimate for the U.S. nuclear mod...</td>\n",
       "      <td>Ed Markey</td>\n",
       "      <td>29552</td>\n",
       "      <td>2015-06-11</td>\n",
       "    </tr>\n",
       "    <tr>\n",
       "      <th>1</th>\n",
       "      <td>1282411</td>\n",
       "      <td>2015-08-11-090504</td>\n",
       "      <td>The state is transitioning to a higher percent...</td>\n",
       "      <td>Ed Markey</td>\n",
       "      <td>29552</td>\n",
       "      <td>2015-08-11</td>\n",
       "    </tr>\n",
       "    <tr>\n",
       "      <th>2</th>\n",
       "      <td>1282411</td>\n",
       "      <td>2015-10-27-125840</td>\n",
       "      <td>This highly coveted TIGER grant funding would ...</td>\n",
       "      <td>Ed Markey</td>\n",
       "      <td>29552</td>\n",
       "      <td>2015-10-27</td>\n",
       "    </tr>\n",
       "    <tr>\n",
       "      <th>3</th>\n",
       "      <td>1282411</td>\n",
       "      <td>2015-01-19-008025</td>\n",
       "      <td>carefully cutting the Gordian knot that has ti...</td>\n",
       "      <td>Ed Markey</td>\n",
       "      <td>29552</td>\n",
       "      <td>2015-01-19</td>\n",
       "    </tr>\n",
       "    <tr>\n",
       "      <th>4</th>\n",
       "      <td>1282411</td>\n",
       "      <td>2015-12-09-094134</td>\n",
       "      <td>The amendments would improve the safety of agi...</td>\n",
       "      <td>Ed Markey</td>\n",
       "      <td>29552</td>\n",
       "      <td>2015-12-09</td>\n",
       "    </tr>\n",
       "  </tbody>\n",
       "</table>\n",
       "</div>"
      ],
      "text/plain": [
       "   speaker_id           quote_id  \\\n",
       "0     1282411  2015-06-11-000090   \n",
       "1     1282411  2015-08-11-090504   \n",
       "2     1282411  2015-10-27-125840   \n",
       "3     1282411  2015-01-19-008025   \n",
       "4     1282411  2015-12-09-094134   \n",
       "\n",
       "                                           quotation    speaker  party  \\\n",
       "0  25-year cost estimate for the U.S. nuclear mod...  Ed Markey  29552   \n",
       "1  The state is transitioning to a higher percent...  Ed Markey  29552   \n",
       "2  This highly coveted TIGER grant funding would ...  Ed Markey  29552   \n",
       "3  carefully cutting the Gordian knot that has ti...  Ed Markey  29552   \n",
       "4  The amendments would improve the safety of agi...  Ed Markey  29552   \n",
       "\n",
       "   Date-Time  \n",
       "0 2015-06-11  \n",
       "1 2015-08-11  \n",
       "2 2015-10-27  \n",
       "3 2015-01-19  \n",
       "4 2015-12-09  "
      ]
     },
     "execution_count": 7,
     "metadata": {},
     "output_type": "execute_result"
    }
   ],
   "source": [
    "# use candidacy info to filter down the speakers.\n",
    "data = pd.merge(left=data, left_on=\"speaker_id\",\n",
    "                right_on=\"id\", right=candidates)\n",
    "data = data.drop(columns=[\"id\"])\n",
    "data.head()\n"
   ]
  },
  {
   "cell_type": "code",
   "execution_count": 8,
   "metadata": {},
   "outputs": [],
   "source": [
    "# save to pickle\n",
    "if not os.path.exists(\"data/binary/us-politicians.pickle\"):\n",
    "    data.to_pickle(\"data/binary/us-politicians.pickle\")\n"
   ]
  },
  {
   "cell_type": "markdown",
   "metadata": {},
   "source": [
    "### 2. Topic clustering"
   ]
  },
  {
   "cell_type": "markdown",
   "metadata": {},
   "source": [
    "In this section we'll try to divide the quotes into clusters of different topics. First, let's see which are the most common words used by politicians."
   ]
  },
  {
   "cell_type": "code",
   "execution_count": 9,
   "metadata": {},
   "outputs": [
    {
     "name": "stdout",
     "output_type": "stream",
     "text": [
      "Example stopwords:  ['i', 'me', 'my', 'myself', 'we', 'our', 'ours', 'ourselves', 'you', \"you're\"]\n"
     ]
    }
   ],
   "source": [
    "from nltk import download\n",
    "from nltk.corpus import stopwords\n",
    "\n",
    "# load the stopwords (extend the standard list by the contraction leftovers)\n",
    "download('stopwords', quiet=True)\n",
    "download('punkt', quiet=True)\n",
    "stopwords = stopwords.words('english') + ['nt', 'ca', 'wo']\n",
    "print(\"Example stopwords: \", stopwords[:10])\n",
    "\n",
    "# load the data\n",
    "data = pd.read_pickle(\"data/binary/us-politicians.pickle\")\n",
    "sample_df = data.sample(100000)\n",
    "\n",
    "# expand contractions, remove stopwords, preprocess text\n",
    "sample_df[\"quotation\"] = sample_df[\"quotation\"] \\\n",
    "    .apply(expand_contractions) \\\n",
    "    .apply(lambda quote: remove_words(quote, stopwords)) \\\n",
    "    .apply(preprocess_quote)"
   ]
  },
  {
   "cell_type": "code",
   "execution_count": 10,
   "metadata": {},
   "outputs": [
    {
     "name": "stdout",
     "output_type": "stream",
     "text": [
      "Most common words: \n"
     ]
    },
    {
     "data": {
      "text/plain": [
       "people       11598\n",
       "going         8632\n",
       "would         7818\n",
       "think         7016\n",
       "know          6124\n",
       "president     6070\n",
       "us            5515\n",
       "like          5281\n",
       "get           5253\n",
       "one           5139\n",
       "Name: quotation, dtype: int64"
      ]
     },
     "execution_count": 10,
     "metadata": {},
     "output_type": "execute_result"
    }
   ],
   "source": [
    "from nltk.tokenize import word_tokenize\n",
    "\n",
    "# look at most common word\n",
    "\n",
    "def get_words(df):\n",
    "    quotes = df[\"quotation\"]\n",
    "    tokenized = quotes.apply(lambda quote: word_tokenize(quote))\n",
    "    words = tokenized.explode()\n",
    "    words = words.astype(\"str\")\n",
    "    return words\n",
    "\n",
    "\n",
    "words = get_words(sample_df)\n",
    "\n",
    "print(\"Most common words: \")\n",
    "words.value_counts()[:10]\n"
   ]
  },
  {
   "cell_type": "markdown",
   "metadata": {},
   "source": [
    "As you can see above, the most common words are somewhat meaningless for understanding the topics that politicians talk about. They are just words that appear commonly in English language. To be able to draw conclusions from the frequency analysis, we remove the 1000 most common words from the quotations and repeat the analysis."
   ]
  },
  {
   "cell_type": "code",
   "execution_count": 11,
   "metadata": {},
   "outputs": [
    {
     "data": {
      "text/plain": [
       "['the', 'of', 'to', 'and', 'a', 'in', 'is', 'it', 'you', 'that', 'he', 'was']"
      ]
     },
     "execution_count": 11,
     "metadata": {},
     "output_type": "execute_result"
    }
   ],
   "source": [
    "# load the list of most common english words, taken from: https://gist.github.com/deekayen/4148741\n",
    "def read_most_common(path):\n",
    "    most_common = []\n",
    "    with open(path, \"r\") as file:\n",
    "        for line in file.readlines():\n",
    "            most_common.append(line.strip())\n",
    "    return most_common\n",
    "\n",
    "\n",
    "most_common = read_most_common('data/misc/most_common_words_1000.txt')\n",
    "most_common[:12]\n"
   ]
  },
  {
   "cell_type": "markdown",
   "metadata": {},
   "source": [
    "We make use of stemming to perform better filtering of the words. We first apply stemming to the list of common words, and then for each token in the quotations we check if the stemmed version of the token appears in the common words list. If it does, we discard this token."
   ]
  },
  {
   "cell_type": "code",
   "execution_count": 12,
   "metadata": {},
   "outputs": [
    {
     "data": {
      "text/plain": [
       "president         6070\n",
       "trump             4499\n",
       "american          3100\n",
       "america           2879\n",
       "really            2875\n",
       "something         2012\n",
       "today             1784\n",
       "security          1574\n",
       "americans         1509\n",
       "important         1468\n",
       "health            1359\n",
       "public            1314\n",
       "political         1304\n",
       "china             1295\n",
       "democrats         1295\n",
       "donald            1272\n",
       "administration    1257\n",
       "tax               1253\n",
       "obama             1250\n",
       "vote              1243\n",
       "dtype: int64"
      ]
     },
     "execution_count": 12,
     "metadata": {},
     "output_type": "execute_result"
    }
   ],
   "source": [
    "# convert words to their stemmed versions\n",
    "from nltk.stem import PorterStemmer\n",
    "\n",
    "\n",
    "def filter_words(words):\n",
    "    stemmer = PorterStemmer()\n",
    "    most_common_stemmed = [stemmer.stem(word) for word in most_common]\n",
    "    stemmed_words = {x: stemmer.stem(x) for x in (words.unique())}\n",
    "\n",
    "    # and filter out the words w\n",
    "    filtered_words = [\n",
    "        word for word in words if stemmed_words[word] not in most_common_stemmed]\n",
    "\n",
    "    return filtered_words\n",
    "\n",
    "filtered_words = filter_words(words)\n",
    "\n",
    "# print most popular words after filtering\n",
    "pd.Series(filtered_words).value_counts()[:20]"
   ]
  },
  {
   "cell_type": "markdown",
   "metadata": {},
   "source": [
    "The results are much more meaningful - we can see keywords typical for politcs, e.g. 'america', 'president' or 'administration'. Let's visualize the results by plotting three word clouds:\n",
    "* one for all the speakers\n",
    "* one for the Democratic speakers only\n",
    "* one for the Republican speakers only"
   ]
  },
  {
   "cell_type": "code",
   "execution_count": 32,
   "metadata": {},
   "outputs": [],
   "source": [
    "# adapted from: https://www.datacamp.com/community/tutorials/wordcloud-python\n",
    "from wordcloud import WordCloud\n",
    "import matplotlib.pyplot as plt\n",
    "\n",
    "def divide_by_party(df):\n",
    "    democratic_party = DEMOCRATIC_PARTY_ID\n",
    "    republican_party = REPUBLICAN_PARTY_ID\n",
    "    democrats = df[df[\"party\"] == democratic_party]\n",
    "    republicans = df[df[\"party\"] == republican_party]\n",
    "    all_speakers = df.copy()\n",
    "\n",
    "    return all_speakers, democrats, republicans\n",
    "\n",
    "def make_wordcloud(df):\n",
    "    words = get_words(df)\n",
    "    filtered_words = filter_words(words)\n",
    "\n",
    "    plt.rcParams[\"figure.figsize\"] = (10, 20)\n",
    "\n",
    "    wordcloud = WordCloud(width=1600, height=800, max_font_size=150,\n",
    "                          max_words=100, background_color=\"white\")\n",
    "    wordcloud.generate(\" \".join(filtered_words))\n",
    "    return wordcloud\n",
    "\n",
    "\n",
    "common, democrats, republicans = divide_by_party(sample_df)\n",
    "\n",
    "common_wordcloud = make_wordcloud(common)\n",
    "democrats_worldcloud = make_wordcloud(democrats)\n",
    "republican_wordcloud = make_wordcloud(republicans)\n",
    "\n",
    "plt.figure()\n",
    "fig, axs = plt.subplots(3, 1)\n",
    "fig.suptitle(\n",
    "    \"Wordcloud representing term frequency in politicians' quotations.\")\n",
    "\n",
    "axs[0].set_title('Common')\n",
    "axs[0].imshow(common_wordcloud, interpolation=\"bilinear\")\n",
    "\n",
    "axs[1].set_title('Democrats')\n",
    "axs[1].imshow(democrats_worldcloud, interpolation=\"bilinear\")\n",
    "\n",
    "axs[2].set_title('Republicans')\n",
    "axs[2].imshow(republican_wordcloud, interpolation=\"bilinear\")\n",
    "\n",
    "for ax in axs:\n",
    "    ax.axis('off')\n",
    "\n",
    "fig.tight_layout()\n",
    "plt.show()\n"
   ]
  },
  {
   "cell_type": "markdown",
   "metadata": {},
   "source": [
    "Identifying the most commonly used words is a good first step to understanding what do the politicians often talk about, but the results are a bit too fine-grained to draw meaningful conclusions from them.\n",
    "\n",
    "To overcome this issue, we want to identify the high level concepts/topics that are commonly discussed, and classify each quote to one of the topics.\n",
    "\n",
    "To achieve that, we first tried to use a transfer-learning approach: train a classifier on the data obtained from the [Manifesto-Project dataset](https://manifestoproject.wzb.eu), which provides sentences of the two parties' manifestos over years 2012, 2016, and 2020, labeled manually by experts to one of fifteen different topics/categories. Unfortunately, the data was too different from ours and thus the resulting accuracy was not satisfying. \n",
    "\n",
    "We then proceeded with unsupervised clustering - [TODO: add a more detailed description of the clustering procedure]."
   ]
  },
  {
   "cell_type": "code",
   "execution_count": null,
   "metadata": {},
   "outputs": [
    {
     "name": "stderr",
     "output_type": "stream",
     "text": [
      "Batches:  12%|█▏        | 381/3125 [04:44<23:16,  1.96it/s]"
     ]
    }
   ],
   "source": [
    "# TODO: quotes is undefined, i think this part of the code needs some polishing\n",
    "\n",
    "if not os.path.exists(\"data/BERTopic_model\"):\n",
    "    # Create Topic Model\n",
    "    create_model_topic_clusterer(quotes)\n",
    "if not os.path.exists(\"data/binary/us-politicians-with-clusters\"):\n",
    "    topic_model = BERTopic.load(\"data/BERTopic_model\")\n",
    "    topics = topic_model.fit_transform(quotes)\n",
    "    # ...\n"
   ]
  },
  {
   "cell_type": "markdown",
   "metadata": {},
   "source": [
    "Below you can see most popular words for some of the identified topics. For example, take a look at topic **539**, which clearly corresponds to the concept of religion, or topic **611** which contains several keywords connected to taxation."
   ]
  },
  {
   "cell_type": "code",
   "execution_count": 21,
   "metadata": {},
   "outputs": [
    {
     "name": "stdout",
     "output_type": "stream",
     "text": [
      "Topic 509 => ['don', 'christmas', 'didn', 'rudy', 'don don', 'haven', 'collusion', 'isn', 'seven', 'november']\n",
      "Topic 71 => ['putin', 'witch', 'witch hunt', 'hunt', 'vladimir putin', 'hoax', '2016', 'isis', 'hack', '2016 election']\n",
      "Topic 43 => ['iran', 'nuclear', 'iranian', 'nuclear weapon', 'nuclear weapons', 'saudi', 'iran nuclear', 'arabia', 'saudi arabia', 'nuclear program']\n",
      "Topic 312 => ['black', 'racist', 'racism', 'racial', 'hatred', 'hate', 'african community', 'slavery', 'discrimination', 'sexist']\n",
      "Topic 341 => ['farmers', 'coal', 'swamp', 'environmental', 'agriculture', 'rural', 'farm', 'clean energy', 'fishing', 'farmer']\n",
      "Topic 335 => ['florida', 'puerto', 'hurricane', 'puerto rico', 'rico', 'floridians', 'coast', 'beach', 'miami', 'island']\n",
      "Topic 539 => ['religion', 'christian', 'christians', 'bible', 'pray', 'worship', 'prayer', 'religious freedom', 'religious liberty', 'grace']\n",
      "Topic 214 => ['israel', 'jewish', 'jerusalem', 'palestinian', 'israeli', 'israelis', 'netanyahu', 'jews', 'cohen', 'semitic']\n",
      "Topic 440 => ['stop', 'end', 'shutdown', 'shut', 'terminate', 'stopped', 'resign', 'cease', 'quit', 'ended']\n",
      "Topic 663 => ['boris', 'yes', 'greatest', 'johnson', 'finest', 'everybody', 'll ll', 'embassy', 'ok', 'friend']\n",
      "Topic 6 => ['korea', 'north korea', 'kim', 'korean', 'kim jong', 'jong', 'south korea', 'meeting', 'allies', 'nations']\n",
      "Topic 496 => ['hillary', 'clinton', 'hillary clinton', 'crooked', 'crooked hillary', 'rigged', 'secretary clinton', 'mrs', 'sanders', 'bernie']\n",
      "Topic 93 => ['mexico', 'wall', 'border', 'build', 'build wall', 'southern border', 'caravan', 'walls', 'built', 'border wall']\n",
      "Topic 611 => ['tax', 'taxes', 'middle class', 'income', 'pay', 'taxpayers', 'paying', 'class families', 'taxpayer', 'economy']\n",
      "Topic 471 => ['republicans', 'republican', 'republican party', 'lincoln', 'win', 'abraham', 'republican candidate', 'republican leadership', 'votes', 'hurt']\n",
      "Topic 164 => ['isis', 'syria', 'iraq', 'isil', 'syrian', 'defeat', 'iraqi', 'iraq syria', 'destroy', 'saddam']\n",
      "Topic 86 => ['gun', 'guns', 'second amendment', 'amendment', 'gun violence', 'background checks', 'gun safety', 'weapons', 'laws', 'assault weapons']\n",
      "Topic 380 => ['immigration', 'ice', 'illegal', 'illegal immigrants', 'illegal immigration', 'immigration reform', 'criminal', 'illegally', 'alaska', 'alien']\n",
      "Topic 454 => ['obama', 'barack', 'barack obama', 'obama administration', 'administration', 'obama did', 'didn', 'clinton', 'don', 've']\n",
      "Topic 494 => ['ted', 'indiana', 'ted cruz', 'nancy pelosi', 'schumer', 'senate', 'chuck', 'kelly', 'mike pence', 'senator']\n",
      "Topic 529 => ['education', 'teachers', 'debt', 'teacher', 'learning', 'teaching', 'classroom', 'class', 'teach', 'educational']\n",
      "Topic 69 => ['ukraine', 'joe', 'joe biden', 'corruption', 'corrupt', 'sleepy joe', 'vice biden', 'sheriff', 'prosecutor', 'company']\n",
      "Topic 484 => ['fake', 'fake news', 'lies', 'lie', 'lied', 'hoax', 'lying', 'liar', 'conspiracy', 'accusations']\n",
      "Topic 431 => ['months', 'weeks', '24', 'denies', '48', '24 hours', 'half', 'couple', 'couple weeks', 'painful']\n",
      "Topic 459 => ['politics', 'politicians', 'politician', 'partisan', 'talk', 'talk action', 'politically', 'politics don', 'democracy', 'impeachment']\n",
      "Topic 343 => ['climate', 'science', 'climate crisis', 'scientists', 'global', 'warming', 'scientific', 'global warming', 'research', 'existential threat']\n",
      "Topic 589 => ['economy', 'economic', 'recession', 'economic growth', 'investment', 'economies', 'global economy', 'economically', 'economy works', 'economic development']\n",
      "Topic 519 => ['hard', 'tough', 'dangerous', 'complicated', 'tougher', 'toughest', 'hardest', 'tough tough', 'tough situation', 'painful']\n",
      "Topic 620 => ['trade', 'trade deals', 'trade war', 'free trade', 'fair trade', 'trade agreement', 'trade agreements', 'unfair trade', 'bad trade', 'treated unfairly']\n",
      "Topic 135 => ['washington', 'jackson', 'lee', 'jefferson', 'statue', 'thomas', 'politicians', 'dc', 'monument', 'washington dc']\n",
      "Topic 241 => ['gay', 'lgbt', 'lgbtq', 'sexual', 'marriage', 'sex', 'equality', 'rape', 'marry', 'married']\n",
      "Topic 505 => ['senate', 'senators', 'senator', 'impeachment', 'vote', 'committee', 'votes', 'representatives', 'hearings', 'jury']\n",
      "Topic 239 => ['food', 'dinner', 'eat', 'ronald', 'ronald reagan', 'eating', 'lunch', 'hungry', 'cook', 'hunger']\n",
      "Topic 424 => ['50', '50 percent', '500', '45', '50 000', '49', 'bullets', 'cent', 'fifth', 'shot']\n",
      "Topic 46 => ['india', 'indian', 'modi', 'pakistan', 'charity', 'indians', 'tariffs', '100', 'friend', 'strategic']\n",
      "Topic 635 => ['prayers', 'sacrifice', 'loved', 'loved ones', 'heroes', 'pray', 'praying', 'thank', 'hearts', 'gratitude']\n",
      "Topic 143 => ['afghanistan', 'pakistan', 'taliban', 'laden', 'bin laden', 'al qaeda', 'qaeda', 'pakistani', 'billions', 'billions dollars']\n",
      "Topic 639 => ['love', 'genius', 'wonderful', 'beautiful', 'amazing', 'special interests', 'exciting', 'lobbyists', 'brilliant', 'liked']\n",
      "Topic 160 => ['muslims', 'islam', 'muslim', 'radical islamic', 'isil', 'jihad', 'islamic terrorism', 'al qaeda', 'qaeda', 'friends']\n",
      "Topic 392 => ['virus', 'coronavirus', 'cancer', 'spread', 'disease', 'aids', 'cdc', 'medicine', 'cure', 'immune']\n",
      "Topic 24 => ['venezuela', 'cuban', 'regime', 'democracy', 'freedom', 'human rights', 'communist', 'rights', 'democratic', 'freedom democracy']\n",
      "Topic 373 => ['children', 'baby', 'family', 'families', 'kids', 'babies', 'parents', 'mothers', 'children families', 'love']\n",
      "Topic 251 => ['constitution', 'oath', 'oath office', 'constitutional', 'defend', 'betrayal', 'amendment', 'integrity', 'sworn', 'betrayed']\n",
      "Topic 435 => ['stay', 'kept', 'remain', 'staying', 'keeping', 'continues', 'continued', 'll continue', 'keeps', 'stayed']\n",
      "Topic 497 => ['bernie', 'sanders', 'hillary', 'democratic', 'clinton', 'biden', 'democrat', 'democratic party', 'hillary clinton', 'elizabeth warren']\n",
      "Topic 14 => ['11', '2018', '2017', '28', '17', 'june', 'october', '42', '11th', '46']\n",
      "Topic 29 => ['europe', 'european', 'brexit', 'european union', 'eu', 'uk', 'britain', 'allies', 'nato', 'barriers']\n",
      "Topic 159 => ['terrorism', 'terrorists', 'terrorist', 'terrorist groups', 'radical islamic', 'terrorist attack', 'al qaeda', 'qaeda', 'islamic terrorism', 'terrorist attacks']\n",
      "Topic 492 => ['worst', 'worse', 'stupid', 'legislation', 'legislative', 'failed', 'foolish', 'idiot', 'worse worse', 'bad']\n",
      "Topic 366 => ['steel', 'billions', 'aluminum', 'billions dollars', 'concrete', 'billions billions', 'trillions', 'trillions dollars', 'barriers', 'barrier']\n"
     ]
    }
   ],
   "source": [
    "import re\n",
    "\n",
    "# Lets examine which are the most common words for each topic:\n",
    "def read_topics(path):\n",
    "    topics = {}\n",
    "    with open(path, \"r\") as file:\n",
    "        next(file)\n",
    "        for line in file.readlines():\n",
    "            split_line = (re.sub(r'[^A-Za-z0-9\\' ]+', '', line)).split(' ')\n",
    "            topic_num = split_line[1]\n",
    "            topic_words = []\n",
    "            for i in range(len(split_line)):\n",
    "                word = split_line[i]\n",
    "                if word[0] == \"'\":\n",
    "                    if word[-1] != \"'\":\n",
    "                        word += (\" \" + split_line[i+1])\n",
    "                    topic_words.append(word[1:-1])\n",
    "            topics[topic_num] = topic_words\n",
    "    return topics\n",
    "\n",
    "\n",
    "topics = read_topics(\"data/misc/topics.txt\")\n",
    "for num, words in topics.items():\n",
    "    print(f\"Topic {num} => {words}\")\n"
   ]
  },
  {
   "cell_type": "markdown",
   "metadata": {},
   "source": [
    "We will now manually annotate the clusters with their corresponding labels. We also discard some of the clusters that did relate to any meaningful topic, e.g. cluster 14 which relates to numbers and dates is not interesting in this case."
   ]
  },
  {
   "cell_type": "code",
   "execution_count": 35,
   "metadata": {},
   "outputs": [],
   "source": [
    "# Let's find the most meaningful ones and assign labels to them.\n",
    "meaningful_topics = []\n",
    "labels = {}\n",
    "\n",
    "meaningful_topics.append(71)\n",
    "labels[71] = \"RussiaGate\"\n",
    "\n",
    "meaningful_topics.append(43)\n",
    "labels[43] = \"Nuclear Weapons\"\n",
    "\n",
    "meaningful_topics.append(312)\n",
    "labels[312] = \"Racial discrimination\"\n",
    "\n",
    "meaningful_topics.append(341)\n",
    "labels[341] = \"Primary sector\"\n",
    "\n",
    "meaningful_topics.append(335)\n",
    "labels[335] = \"Hurricane\"\n",
    "\n",
    "meaningful_topics.append(539)\n",
    "labels[539] = \"Religion\"\n",
    "\n",
    "meaningful_topics.append(214)\n",
    "labels[214] = \"Middle East\"\n",
    "\n",
    "meaningful_topics.append(663)\n",
    "labels[663] = \"United Kingdom\"\n",
    "\n",
    "meaningful_topics.append(6)\n",
    "labels[6] = \"North Korea\"\n",
    "\n",
    "meaningful_topics.append(496)\n",
    "labels[496] = \"Hillary Clinton\"\n",
    "\n",
    "meaningful_topics.append(93)\n",
    "labels[93] = \"Mexican Border\"\n",
    "\n",
    "meaningful_topics.append(611)\n",
    "labels[611] = \"Taxes\"\n",
    "\n",
    "meaningful_topics.append(471)\n",
    "labels[471] = \"Republican Party\"\n",
    "\n",
    "meaningful_topics.append(164)\n",
    "labels[164] = \"ISIS\"\n",
    "\n",
    "meaningful_topics.append(86)\n",
    "labels[86] = \"Guns\"\n",
    "\n",
    "meaningful_topics.append(380)\n",
    "labels[380] = \"Illegal immigration\"\n",
    "\n",
    "meaningful_topics.append(454)\n",
    "labels[454] = \"Obama\"\n",
    "\n",
    "meaningful_topics.append(529)\n",
    "labels[529] = \"Education\"\n",
    "\n",
    "meaningful_topics.append(69)\n",
    "labels[69] = \"Joe Biden\"\n",
    "\n",
    "meaningful_topics.append(484)\n",
    "labels[484] = \"Fake News\"\n",
    "\n",
    "meaningful_topics.append(29)\n",
    "labels[29] = \"European Union\"\n",
    "\n",
    "meaningful_topics.append(492)\n",
    "labels[492] = \"Legislation\"\n",
    "\n",
    "meaningful_topics.append(159)\n",
    "labels[159] = \"Terrorism\"\n",
    "\n",
    "meaningful_topics.append(343)\n",
    "labels[343] = \"Climate Change\"\n",
    "\n",
    "meaningful_topics.append(589)\n",
    "labels[589] = \"Economy\"\n",
    "\n",
    "meaningful_topics.append(620)\n",
    "labels[620] = \"Trade\"\n",
    "\n",
    "meaningful_topics.append(459)\n",
    "labels[459] = \"Democracy\"\n",
    "\n",
    "meaningful_topics.append(241)\n",
    "labels[241] = \"LGBTQ policies\"\n",
    "\n",
    "meaningful_topics.append(505)\n",
    "labels[505] = \"Senate\"\n",
    "\n",
    "meaningful_topics.append(46)\n",
    "labels[46] = \"India\"\n",
    "\n",
    "meaningful_topics.append(635)\n",
    "labels[635] = \"Traditional Values\"\n",
    "\n",
    "meaningful_topics.append(143)\n",
    "labels[143] = \"Middle East\"\n",
    "\n",
    "meaningful_topics.append(160)\n",
    "labels[160] = \"Islam\"\n",
    "\n",
    "meaningful_topics.append(392)\n",
    "labels[392] = \"Healthcare\"\n",
    "\n",
    "meaningful_topics.append(24)\n",
    "labels[24] = \"Communism\"\n",
    "\n",
    "meaningful_topics.append(373)\n",
    "labels[373] = \"Family\"\n",
    "\n",
    "meaningful_topics.append(251)\n",
    "labels[251] = \"Constitution\"\n",
    "\n",
    "meaningful_topics.append(497)\n",
    "labels[497] = \"Democratic Party\"\n"
   ]
  },
  {
   "cell_type": "markdown",
   "metadata": {},
   "source": [
    "Now let's assign each quotation to one cluster, and keep only the quotations that correspond to one of the meaningful topics."
   ]
  },
  {
   "cell_type": "code",
   "execution_count": 33,
   "metadata": {},
   "outputs": [
    {
     "data": {
      "text/html": [
       "<div>\n",
       "<style scoped>\n",
       "    .dataframe tbody tr th:only-of-type {\n",
       "        vertical-align: middle;\n",
       "    }\n",
       "\n",
       "    .dataframe tbody tr th {\n",
       "        vertical-align: top;\n",
       "    }\n",
       "\n",
       "    .dataframe thead th {\n",
       "        text-align: right;\n",
       "    }\n",
       "</style>\n",
       "<table border=\"1\" class=\"dataframe\">\n",
       "  <thead>\n",
       "    <tr style=\"text-align: right;\">\n",
       "      <th></th>\n",
       "      <th>speaker_id</th>\n",
       "      <th>quote_id</th>\n",
       "      <th>quotation</th>\n",
       "      <th>speaker</th>\n",
       "      <th>party</th>\n",
       "      <th>Date-Time</th>\n",
       "      <th>cluster</th>\n",
       "    </tr>\n",
       "  </thead>\n",
       "  <tbody>\n",
       "    <tr>\n",
       "      <th>0</th>\n",
       "      <td>1282411</td>\n",
       "      <td>2015-06-11-000090</td>\n",
       "      <td>25-year cost estimate for the U.S. nuclear modernization program.</td>\n",
       "      <td>Ed Markey</td>\n",
       "      <td>29552</td>\n",
       "      <td>2015-06-11</td>\n",
       "      <td>-1</td>\n",
       "    </tr>\n",
       "    <tr>\n",
       "      <th>1</th>\n",
       "      <td>1282411</td>\n",
       "      <td>2015-08-11-090504</td>\n",
       "      <td>The state is transitioning to a higher percentage of life sciences job development,</td>\n",
       "      <td>Ed Markey</td>\n",
       "      <td>29552</td>\n",
       "      <td>2015-08-11</td>\n",
       "      <td>-1</td>\n",
       "    </tr>\n",
       "    <tr>\n",
       "      <th>2</th>\n",
       "      <td>1282411</td>\n",
       "      <td>2015-10-27-125840</td>\n",
       "      <td>This highly coveted TIGER grant funding would enable the City of Lowell to acquire and replace or rehabilitate eight privately-owned bridges that carry vehicles and pedestrians over the City's unique 5.6-mile network of canals.... Three of these bridges are currently closed to traffic in at least one direction and many are posted with weight restrictions which prevent school buses, transit buses, fire apparatus, or commercial trucks from crossing them, resulting in significant detours.</td>\n",
       "      <td>Ed Markey</td>\n",
       "      <td>29552</td>\n",
       "      <td>2015-10-27</td>\n",
       "      <td>-1</td>\n",
       "    </tr>\n",
       "    <tr>\n",
       "      <th>3</th>\n",
       "      <td>1282411</td>\n",
       "      <td>2015-01-19-008025</td>\n",
       "      <td>carefully cutting the Gordian knot that has tied up our nation's broadband networks in regulatory uncertainty since the Comcast decision.</td>\n",
       "      <td>Ed Markey</td>\n",
       "      <td>29552</td>\n",
       "      <td>2015-01-19</td>\n",
       "      <td>-1</td>\n",
       "    </tr>\n",
       "    <tr>\n",
       "      <th>4</th>\n",
       "      <td>1282411</td>\n",
       "      <td>2015-12-09-094134</td>\n",
       "      <td>The amendments would improve the safety of aging natural gas distribution pipelines by directing PHMSA to improve the reporting of natural gas that is lost from these pipelines, and to implement any recommendations of a Government Accountability Office analysis of best practices and barriers that may exist to repairing and replacing these pipelines,</td>\n",
       "      <td>Ed Markey</td>\n",
       "      <td>29552</td>\n",
       "      <td>2015-12-09</td>\n",
       "      <td>-1</td>\n",
       "    </tr>\n",
       "  </tbody>\n",
       "</table>\n",
       "</div>"
      ],
      "text/plain": [
       "   speaker_id           quote_id  \\\n",
       "0     1282411  2015-06-11-000090   \n",
       "1     1282411  2015-08-11-090504   \n",
       "2     1282411  2015-10-27-125840   \n",
       "3     1282411  2015-01-19-008025   \n",
       "4     1282411  2015-12-09-094134   \n",
       "\n",
       "                                                                                                                                                                                                                                                                                                                                                                                                                                                                                                    quotation  \\\n",
       "0                                                                                                                                                                                                                                                                                                                                                                                                                                           25-year cost estimate for the U.S. nuclear modernization program.   \n",
       "1                                                                                                                                                                                                                                                                                                                                                                                                                         The state is transitioning to a higher percentage of life sciences job development,   \n",
       "2  This highly coveted TIGER grant funding would enable the City of Lowell to acquire and replace or rehabilitate eight privately-owned bridges that carry vehicles and pedestrians over the City's unique 5.6-mile network of canals.... Three of these bridges are currently closed to traffic in at least one direction and many are posted with weight restrictions which prevent school buses, transit buses, fire apparatus, or commercial trucks from crossing them, resulting in significant detours.   \n",
       "3                                                                                                                                                                                                                                                                                                                                                                   carefully cutting the Gordian knot that has tied up our nation's broadband networks in regulatory uncertainty since the Comcast decision.   \n",
       "4                                                                                                                                             The amendments would improve the safety of aging natural gas distribution pipelines by directing PHMSA to improve the reporting of natural gas that is lost from these pipelines, and to implement any recommendations of a Government Accountability Office analysis of best practices and barriers that may exist to repairing and replacing these pipelines,   \n",
       "\n",
       "     speaker  party  Date-Time  cluster  \n",
       "0  Ed Markey  29552 2015-06-11       -1  \n",
       "1  Ed Markey  29552 2015-08-11       -1  \n",
       "2  Ed Markey  29552 2015-10-27       -1  \n",
       "3  Ed Markey  29552 2015-01-19       -1  \n",
       "4  Ed Markey  29552 2015-12-09       -1  "
      ]
     },
     "execution_count": 33,
     "metadata": {},
     "output_type": "execute_result"
    }
   ],
   "source": [
    "# Lets load the dataframe and assign labels\n",
    "df_quotes_topics = pd.read_pickle(\n",
    "    \"data/binary/us-politicians-with-clusters.pickle\")\n",
    "pd.set_option('display.max_colwidth', None)\n",
    "df_quotes_topics.head()\n"
   ]
  },
  {
   "cell_type": "code",
   "execution_count": 36,
   "metadata": {},
   "outputs": [
    {
     "data": {
      "text/html": [
       "<div>\n",
       "<style scoped>\n",
       "    .dataframe tbody tr th:only-of-type {\n",
       "        vertical-align: middle;\n",
       "    }\n",
       "\n",
       "    .dataframe tbody tr th {\n",
       "        vertical-align: top;\n",
       "    }\n",
       "\n",
       "    .dataframe thead th {\n",
       "        text-align: right;\n",
       "    }\n",
       "</style>\n",
       "<table border=\"1\" class=\"dataframe\">\n",
       "  <thead>\n",
       "    <tr style=\"text-align: right;\">\n",
       "      <th></th>\n",
       "      <th>speaker_id</th>\n",
       "      <th>quote_id</th>\n",
       "      <th>quotation</th>\n",
       "      <th>speaker</th>\n",
       "      <th>party</th>\n",
       "      <th>Date-Time</th>\n",
       "      <th>cluster</th>\n",
       "    </tr>\n",
       "  </thead>\n",
       "  <tbody>\n",
       "    <tr>\n",
       "      <th>10</th>\n",
       "      <td>1282411</td>\n",
       "      <td>2015-07-14-019651</td>\n",
       "      <td>carefully examine the language of the proposed agreement.</td>\n",
       "      <td>Ed Markey</td>\n",
       "      <td>29552</td>\n",
       "      <td>2015-07-14</td>\n",
       "      <td>Trade</td>\n",
       "    </tr>\n",
       "    <tr>\n",
       "      <th>48</th>\n",
       "      <td>1282411</td>\n",
       "      <td>2015-02-10-043813</td>\n",
       "      <td>It sounds like a Clancy novel, but when it comes to using technology like that in our highly complex cars, imagination is the only limitation.</td>\n",
       "      <td>Ed Markey</td>\n",
       "      <td>29552</td>\n",
       "      <td>2015-02-10</td>\n",
       "      <td>RussiaGate</td>\n",
       "    </tr>\n",
       "    <tr>\n",
       "      <th>49</th>\n",
       "      <td>1282411</td>\n",
       "      <td>2015-10-06-041174</td>\n",
       "      <td>I think we need to have a much closer working partnership with Russia in Syria. Advertisement We have to put other grievances, history aside. We have to find a way of working together. Syria is increasingly no longer a country. It has broken apart,</td>\n",
       "      <td>Ed Markey</td>\n",
       "      <td>29552</td>\n",
       "      <td>2015-10-06</td>\n",
       "      <td>RussiaGate</td>\n",
       "    </tr>\n",
       "    <tr>\n",
       "      <th>59</th>\n",
       "      <td>1282411</td>\n",
       "      <td>2015-10-08-015841</td>\n",
       "      <td>Congress has failed to protect the American people from the tragic gun violence that is plaguing our nation.</td>\n",
       "      <td>Ed Markey</td>\n",
       "      <td>29552</td>\n",
       "      <td>2015-10-08</td>\n",
       "      <td>Guns</td>\n",
       "    </tr>\n",
       "    <tr>\n",
       "      <th>66</th>\n",
       "      <td>1282411</td>\n",
       "      <td>2015-08-12-058254</td>\n",
       "      <td>It's obvious from the level of enthusiasm for Donald Trump, I will never actually understand how their processes work in order to determine who is the most favorably viewed among Republican primary voters,</td>\n",
       "      <td>Ed Markey</td>\n",
       "      <td>29552</td>\n",
       "      <td>2015-08-12</td>\n",
       "      <td>Republican Party</td>\n",
       "    </tr>\n",
       "  </tbody>\n",
       "</table>\n",
       "</div>"
      ],
      "text/plain": [
       "    speaker_id           quote_id  \\\n",
       "10     1282411  2015-07-14-019651   \n",
       "48     1282411  2015-02-10-043813   \n",
       "49     1282411  2015-10-06-041174   \n",
       "59     1282411  2015-10-08-015841   \n",
       "66     1282411  2015-08-12-058254   \n",
       "\n",
       "                                                                                                                                                                                                                                                   quotation  \\\n",
       "10                                                                                                                                                                                                 carefully examine the language of the proposed agreement.   \n",
       "48                                                                                                            It sounds like a Clancy novel, but when it comes to using technology like that in our highly complex cars, imagination is the only limitation.   \n",
       "49  I think we need to have a much closer working partnership with Russia in Syria. Advertisement We have to put other grievances, history aside. We have to find a way of working together. Syria is increasingly no longer a country. It has broken apart,   \n",
       "59                                                                                                                                              Congress has failed to protect the American people from the tragic gun violence that is plaguing our nation.   \n",
       "66                                             It's obvious from the level of enthusiasm for Donald Trump, I will never actually understand how their processes work in order to determine who is the most favorably viewed among Republican primary voters,   \n",
       "\n",
       "      speaker  party  Date-Time           cluster  \n",
       "10  Ed Markey  29552 2015-07-14             Trade  \n",
       "48  Ed Markey  29552 2015-02-10        RussiaGate  \n",
       "49  Ed Markey  29552 2015-10-06        RussiaGate  \n",
       "59  Ed Markey  29552 2015-10-08              Guns  \n",
       "66  Ed Markey  29552 2015-08-12  Republican Party  "
      ]
     },
     "execution_count": 36,
     "metadata": {},
     "output_type": "execute_result"
    }
   ],
   "source": [
    "df_quotes_topics = df_quotes_topics.drop(\n",
    "    df_quotes_topics[~df_quotes_topics['cluster'].isin(meaningful_topics)].index)\n",
    "for num, label in labels.items():\n",
    "    df_quotes_topics[\"cluster\"].replace({num: label}, inplace=True)\n",
    "df_quotes_topics.head()\n"
   ]
  },
  {
   "cell_type": "markdown",
   "metadata": {},
   "source": [
    "Let's also visualize the sizes of each topic in a histogram:\n",
    "[TODO: Convert into a stacked histogram with division into democrats and republicans, add a better textual description]"
   ]
  },
  {
   "cell_type": "code",
   "execution_count": 37,
   "metadata": {},
   "outputs": [
    {
     "data": {
      "image/png": "[encoded data removed]",
      "text/plain": [
       "<Figure size 800x480 with 1 Axes>"
      ]
     },
     "metadata": {
      "needs_background": "light"
     },
     "output_type": "display_data"
    }
   ],
   "source": [
    "plt.figure(figsize=(10, 6), dpi=80)\n",
    "categories = df_quotes_topics['cluster'].value_counts().index\n",
    "counts = df_quotes_topics['cluster'].value_counts().values\n",
    "plt.bar(categories, counts, width=0.5)\n",
    "plt.xticks(rotation='vertical')\n",
    "plt.show()\n"
   ]
  },
  {
   "cell_type": "markdown",
   "metadata": {},
   "source": []
  },
  {
   "cell_type": "markdown",
   "metadata": {},
   "source": [
    "### 3. Sentiment Analysis"
   ]
  },
  {
   "cell_type": "markdown",
   "metadata": {},
   "source": [
    "Having identified the topics often discussed by politicians, it is interesting to also identify their attitude towards those topics and identify whether it depends on the politicans' political affiliations.\n",
    "\n",
    "Let's start with performing sentiment analysis: assigning a value in range $[-1, 1]$ to each quotation, where:\n",
    "* $-1$ means **negative** sentiment\n",
    "* $0$ means **neutral** sentiment\n",
    "* $1$ means **positive** sentiment\n",
    "\n",
    "To achieve that, we will make use of the [`VADER-Sentiment`](https://github.com/cjhutto/vaderSentiment) library - a rule-based model to approximate text sentiment. Let's see examples of sentiment approximation for 5 random quotations from Donald Trump:"
   ]
  },
  {
   "cell_type": "code",
   "execution_count": 46,
   "metadata": {},
   "outputs": [
    {
     "name": "stdout",
     "output_type": "stream",
     "text": [
      "Sentence: Who's doing all the raping?\n",
      "Sentiment: -0.7003\n",
      "\n",
      "Sentence: will impose further sanctions and penalties on North Korea... and supports our maximum pressure campaign to isolate the murderous regime.\n",
      "Sentiment: -0.7845\n",
      "\n",
      "Sentence: So let's say we win five, we win all five states, we pick up a lot,\n",
      "Sentiment: 0.8225\n",
      "\n",
      "Sentence: So we have good news. Pastor Andrew Brunson is in the air, from Turkey. He is, I think, in good shape. He'll be stopping, most likely, in Germany for a full check-up,\n",
      "Sentiment: 0.6666\n",
      "\n",
      "Sentence: The horror of life in North Korea is so complete that citizens pay bribes to government officials to have themselves exported aboard as slaves. They would rather be slaves than live in North Korea.\n",
      "Sentiment: -0.6124\n",
      "\n"
     ]
    }
   ],
   "source": [
    "from vaderSentiment.vaderSentiment import SentimentIntensityAnalyzer\n",
    "analyzer = SentimentIntensityAnalyzer()\n",
    "\n",
    "test_sentences = data[data[\"speaker\"] == \"Donald Trump\"][\"quotation\"].sample(5).values.tolist()\n",
    "\n",
    "for example in test_sentences:\n",
    "  res = analyzer.polarity_scores(example)\n",
    "  print(f\"Sentence: {example}\\nSentiment: {res['compound']}\\n\")"
   ]
  },
  {
   "cell_type": "markdown",
   "metadata": {},
   "source": [
    "Seems quite accurate. Now, let's move on to predicting sentiment for all the quotations in the dataset, and analyze the sentiment distribution (I) for all speakers together (II) for republicans and democrats separately."
   ]
  },
  {
   "cell_type": "code",
   "execution_count": 55,
   "metadata": {},
   "outputs": [
    {
     "name": "stderr",
     "output_type": "stream",
     "text": [
      "100%|██████████| 1650105/1650105 [05:52<00:00, 4677.95it/s]\n"
     ]
    }
   ],
   "source": [
    "from tqdm import tqdm\n",
    "tqdm.pandas()\n",
    "data[\"sentiment\"] = data[\"quotation\"].progress_apply(lambda x: analyzer.polarity_scores(x)[\"compound\"])"
   ]
  },
  {
   "cell_type": "code",
   "execution_count": 57,
   "metadata": {},
   "outputs": [
    {
     "data": {
      "image/png": "[encoded data removed]",
      "text/plain": [
       "<Figure size 720x720 with 3 Axes>"
      ]
     },
     "metadata": {
      "needs_background": "light"
     },
     "output_type": "display_data"
    }
   ],
   "source": [
    "import matplotlib.pyplot as plt\n",
    "import numpy as np\n",
    "\n",
    "def vertical_subplots(columns, config, subplots=True):\n",
    "    colours = [\"#000000\",\"#004949\",\"#009292\",\"#ff6db6\",\"#ffb6db\",\"#490092\",\"#006ddb\",\"#b66dff\",\"#6db6ff\",\"#b6dbff\",\"#920000\",\"#924900\",\"#db6d00\",\"#24ff24\",\"#ffff6d\"]\n",
    "    means = [data.mean() for data in columns]\n",
    "    stds = [data.std() for data in columns]\n",
    "\n",
    "    if subplots:\n",
    "        fig, axs = plt.subplots(len(columns), 1, sharey = True)\n",
    "        subtitles = config[\"subtitles\"]\n",
    "        for ax, data, mean, std, color, subtitle in zip(axs, columns, means, stds, colours, subtitles):\n",
    "            ax.hist(data.values, color = color, bins=25, density=True)\n",
    "            ax.axvline(mean - std, linestyle = '--', color = \"red\", label = f\"-std: {np.round(mean - std, 3)}\")\n",
    "            ax.axvline(mean + std, linestyle = '--', color = \"red\", label = f\"+std: {np.round(mean + std, 3)}\")\n",
    "            ax.axvline(mean, color = 'red', lw = 3, label = f\"mean: {np.round(mean, 3)}\")\n",
    "            ax.set_title(subtitle)\n",
    "            ax.legend()\n",
    "\n",
    "        fig.supxlabel(config[\"xlabel\"])\n",
    "        fig.supylabel(config[\"ylabel\"])\n",
    "        fig.suptitle(config[\"title\"])\n",
    "        fig.set_size_inches(10, 10)\n",
    "        fig.tight_layout()\n",
    "        fig.show()\n",
    "    \n",
    "    else:\n",
    "        for data, mean, color, subtitle in zip(columns, means, stds, colours):\n",
    "            plt.hist(data, label=subtitle, color=color, bins=25, density=True)\n",
    "            plt.axvline(mean, color = color, lw = 3, label = f\"{subtitle} mean: {np.round(mean, 3)}\")\n",
    "        plt.xlabel(config[\"xlabel\"])\n",
    "        plt.xlabel(config[\"ylabel\"])\n",
    "        plt.title(config[\"title\"])\n",
    "        plt.tight_layout()\n",
    "        plt.show()\n",
    "\n",
    "config = {\n",
    "    \"xlabel\": \"Sentiment value\",\n",
    "    \"ylabel\": \"Density\",\n",
    "    \"title\": \"Sentiment value distribution\",\n",
    "    \"subtitles\": [\"All speakers\", \"Democratic speakers\", \"Republican speakers\"]\n",
    "}\n",
    "\n",
    "all_speakers, democrats, republicans = divide_by_party(data)\n",
    "columns = [all_speakers[\"sentiment\"], democrats[\"sentiment\"], republicans[\"sentiment\"]]\n",
    "vertical_subplots(columns, config)\n"
   ]
  },
  {
   "cell_type": "markdown",
   "metadata": {},
   "source": [
    "We can see that the distributions are quite similar: in both cases most of the quotations have no strong sentiment, causing a significant peak around zero. However, the results not totally identical for both parties: on average the Democrats' quotations have a slightly more positive sentiment than those of the Republicans. Let's see if it is statistically significant:"
   ]
  },
  {
   "cell_type": "code",
   "execution_count": 56,
   "metadata": {},
   "outputs": [
    {
     "ename": "KeyError",
     "evalue": "'sentiment'",
     "output_type": "error",
     "traceback": [
      "\u001b[1;31m---------------------------------------------------------------------------\u001b[0m",
      "\u001b[1;31mKeyError\u001b[0m                                  Traceback (most recent call last)",
      "\u001b[1;32m~\\anaconda3\\envs\\ada\\lib\\site-packages\\pandas\\core\\indexes\\base.py\u001b[0m in \u001b[0;36mget_loc\u001b[1;34m(self, key, method, tolerance)\u001b[0m\n\u001b[0;32m   3360\u001b[0m             \u001b[1;32mtry\u001b[0m\u001b[1;33m:\u001b[0m\u001b[1;33m\u001b[0m\u001b[1;33m\u001b[0m\u001b[0m\n\u001b[1;32m-> 3361\u001b[1;33m                 \u001b[1;32mreturn\u001b[0m \u001b[0mself\u001b[0m\u001b[1;33m.\u001b[0m\u001b[0m_engine\u001b[0m\u001b[1;33m.\u001b[0m\u001b[0mget_loc\u001b[0m\u001b[1;33m(\u001b[0m\u001b[0mcasted_key\u001b[0m\u001b[1;33m)\u001b[0m\u001b[1;33m\u001b[0m\u001b[1;33m\u001b[0m\u001b[0m\n\u001b[0m\u001b[0;32m   3362\u001b[0m             \u001b[1;32mexcept\u001b[0m \u001b[0mKeyError\u001b[0m \u001b[1;32mas\u001b[0m \u001b[0merr\u001b[0m\u001b[1;33m:\u001b[0m\u001b[1;33m\u001b[0m\u001b[1;33m\u001b[0m\u001b[0m\n",
      "\u001b[1;32m~\\anaconda3\\envs\\ada\\lib\\site-packages\\pandas\\_libs\\index.pyx\u001b[0m in \u001b[0;36mpandas._libs.index.IndexEngine.get_loc\u001b[1;34m()\u001b[0m\n",
      "\u001b[1;32m~\\anaconda3\\envs\\ada\\lib\\site-packages\\pandas\\_libs\\index.pyx\u001b[0m in \u001b[0;36mpandas._libs.index.IndexEngine.get_loc\u001b[1;34m()\u001b[0m\n",
      "\u001b[1;32mpandas\\_libs\\hashtable_class_helper.pxi\u001b[0m in \u001b[0;36mpandas._libs.hashtable.PyObjectHashTable.get_item\u001b[1;34m()\u001b[0m\n",
      "\u001b[1;32mpandas\\_libs\\hashtable_class_helper.pxi\u001b[0m in \u001b[0;36mpandas._libs.hashtable.PyObjectHashTable.get_item\u001b[1;34m()\u001b[0m\n",
      "\u001b[1;31mKeyError\u001b[0m: 'sentiment'",
      "\nThe above exception was the direct cause of the following exception:\n",
      "\u001b[1;31mKeyError\u001b[0m                                  Traceback (most recent call last)",
      "\u001b[1;32m~\\AppData\\Local\\Temp/ipykernel_11092/622665404.py\u001b[0m in \u001b[0;36m<module>\u001b[1;34m\u001b[0m\n\u001b[0;32m      1\u001b[0m \u001b[1;32mfrom\u001b[0m \u001b[0mscipy\u001b[0m\u001b[1;33m.\u001b[0m\u001b[0mstats\u001b[0m \u001b[1;32mimport\u001b[0m \u001b[0mttest_ind\u001b[0m\u001b[1;33m\u001b[0m\u001b[1;33m\u001b[0m\u001b[0m\n\u001b[1;32m----> 2\u001b[1;33m \u001b[0mttest_ind\u001b[0m\u001b[1;33m(\u001b[0m\u001b[0mdemocrats\u001b[0m\u001b[1;33m[\u001b[0m\u001b[1;34m'sentiment'\u001b[0m\u001b[1;33m]\u001b[0m\u001b[1;33m,\u001b[0m \u001b[0mrepublicans\u001b[0m\u001b[1;33m[\u001b[0m\u001b[1;34m'sentiment'\u001b[0m\u001b[1;33m]\u001b[0m\u001b[1;33m)\u001b[0m\u001b[1;33m\u001b[0m\u001b[1;33m\u001b[0m\u001b[0m\n\u001b[0m",
      "\u001b[1;32m~\\anaconda3\\envs\\ada\\lib\\site-packages\\pandas\\core\\frame.py\u001b[0m in \u001b[0;36m__getitem__\u001b[1;34m(self, key)\u001b[0m\n\u001b[0;32m   3456\u001b[0m             \u001b[1;32mif\u001b[0m \u001b[0mself\u001b[0m\u001b[1;33m.\u001b[0m\u001b[0mcolumns\u001b[0m\u001b[1;33m.\u001b[0m\u001b[0mnlevels\u001b[0m \u001b[1;33m>\u001b[0m \u001b[1;36m1\u001b[0m\u001b[1;33m:\u001b[0m\u001b[1;33m\u001b[0m\u001b[1;33m\u001b[0m\u001b[0m\n\u001b[0;32m   3457\u001b[0m                 \u001b[1;32mreturn\u001b[0m \u001b[0mself\u001b[0m\u001b[1;33m.\u001b[0m\u001b[0m_getitem_multilevel\u001b[0m\u001b[1;33m(\u001b[0m\u001b[0mkey\u001b[0m\u001b[1;33m)\u001b[0m\u001b[1;33m\u001b[0m\u001b[1;33m\u001b[0m\u001b[0m\n\u001b[1;32m-> 3458\u001b[1;33m             \u001b[0mindexer\u001b[0m \u001b[1;33m=\u001b[0m \u001b[0mself\u001b[0m\u001b[1;33m.\u001b[0m\u001b[0mcolumns\u001b[0m\u001b[1;33m.\u001b[0m\u001b[0mget_loc\u001b[0m\u001b[1;33m(\u001b[0m\u001b[0mkey\u001b[0m\u001b[1;33m)\u001b[0m\u001b[1;33m\u001b[0m\u001b[1;33m\u001b[0m\u001b[0m\n\u001b[0m\u001b[0;32m   3459\u001b[0m             \u001b[1;32mif\u001b[0m \u001b[0mis_integer\u001b[0m\u001b[1;33m(\u001b[0m\u001b[0mindexer\u001b[0m\u001b[1;33m)\u001b[0m\u001b[1;33m:\u001b[0m\u001b[1;33m\u001b[0m\u001b[1;33m\u001b[0m\u001b[0m\n\u001b[0;32m   3460\u001b[0m                 \u001b[0mindexer\u001b[0m \u001b[1;33m=\u001b[0m \u001b[1;33m[\u001b[0m\u001b[0mindexer\u001b[0m\u001b[1;33m]\u001b[0m\u001b[1;33m\u001b[0m\u001b[1;33m\u001b[0m\u001b[0m\n",
      "\u001b[1;32m~\\anaconda3\\envs\\ada\\lib\\site-packages\\pandas\\core\\indexes\\base.py\u001b[0m in \u001b[0;36mget_loc\u001b[1;34m(self, key, method, tolerance)\u001b[0m\n\u001b[0;32m   3361\u001b[0m                 \u001b[1;32mreturn\u001b[0m \u001b[0mself\u001b[0m\u001b[1;33m.\u001b[0m\u001b[0m_engine\u001b[0m\u001b[1;33m.\u001b[0m\u001b[0mget_loc\u001b[0m\u001b[1;33m(\u001b[0m\u001b[0mcasted_key\u001b[0m\u001b[1;33m)\u001b[0m\u001b[1;33m\u001b[0m\u001b[1;33m\u001b[0m\u001b[0m\n\u001b[0;32m   3362\u001b[0m             \u001b[1;32mexcept\u001b[0m \u001b[0mKeyError\u001b[0m \u001b[1;32mas\u001b[0m \u001b[0merr\u001b[0m\u001b[1;33m:\u001b[0m\u001b[1;33m\u001b[0m\u001b[1;33m\u001b[0m\u001b[0m\n\u001b[1;32m-> 3363\u001b[1;33m                 \u001b[1;32mraise\u001b[0m \u001b[0mKeyError\u001b[0m\u001b[1;33m(\u001b[0m\u001b[0mkey\u001b[0m\u001b[1;33m)\u001b[0m \u001b[1;32mfrom\u001b[0m \u001b[0merr\u001b[0m\u001b[1;33m\u001b[0m\u001b[1;33m\u001b[0m\u001b[0m\n\u001b[0m\u001b[0;32m   3364\u001b[0m \u001b[1;33m\u001b[0m\u001b[0m\n\u001b[0;32m   3365\u001b[0m         \u001b[1;32mif\u001b[0m \u001b[0mis_scalar\u001b[0m\u001b[1;33m(\u001b[0m\u001b[0mkey\u001b[0m\u001b[1;33m)\u001b[0m \u001b[1;32mand\u001b[0m \u001b[0misna\u001b[0m\u001b[1;33m(\u001b[0m\u001b[0mkey\u001b[0m\u001b[1;33m)\u001b[0m \u001b[1;32mand\u001b[0m \u001b[1;32mnot\u001b[0m \u001b[0mself\u001b[0m\u001b[1;33m.\u001b[0m\u001b[0mhasnans\u001b[0m\u001b[1;33m:\u001b[0m\u001b[1;33m\u001b[0m\u001b[1;33m\u001b[0m\u001b[0m\n",
      "\u001b[1;31mKeyError\u001b[0m: 'sentiment'"
     ]
    }
   ],
   "source": [
    "from scipy.stats import ttest_ind\n",
    "ttest_ind(democrats['sentiment'], republicans['sentiment'])"
   ]
  },
  {
   "cell_type": "markdown",
   "metadata": {},
   "source": [
    "The test confirms that there is a statistically significant difference between the sentiment distributions for the two parties. To make it more visible, let's look at the plots again, now plotting them both on one graph and excluding the zero-sentiment values:"
   ]
  },
  {
   "cell_type": "code",
   "execution_count": null,
   "metadata": {},
   "outputs": [],
   "source": [
    "# now without the zero sentiment\n",
    "groups = [all_speakers, democrats, republicans]\n",
    "democrats_nonzero = [democrats_nonzero[democrats_nonzero[\"sentiment\"] != 0] for group in groups]\n",
    "columns_nonzero = [group[\"sentiment\"] for group in groups_nonzero]\n",
    "vertical_subplots(columns_nonzero, config)"
   ]
  },
  {
   "cell_type": "markdown",
   "metadata": {},
   "source": [
    "### 4. Readability and Understandabilty Analysis\n",
    "\n",
    "Here we conduct a readability analysis on our dataset of quotes. We load the data and use the following measures of readability to create new columns:\n",
    "- Flesch reading ease: in the Flesch reading-ease test, higher scores indicate material that is easier to read;\n",
    "lower numbers mark passages that are more difficult to read.\n",
    "- Dale Chall readability score: different from other tests, since it uses a lookup table of the most commonly used 3000 English words. It returns the grade level necessary to understand the sentence. Hence, the higher the score, the higher is the difficulty.\n",
    "- Text Standard: based upon a combination of all the library's tests, returns the estimated school grade level required to understand the text.\n",
    "- Reading time: returns the reading time of the given text. Assumes 14.69ms per character."
   ]
  },
  {
   "cell_type": "code",
   "execution_count": 14,
   "metadata": {},
   "outputs": [
    {
     "data": {
      "text/html": [
       "<div>\n",
       "<style scoped>\n",
       "    .dataframe tbody tr th:only-of-type {\n",
       "        vertical-align: middle;\n",
       "    }\n",
       "\n",
       "    .dataframe tbody tr th {\n",
       "        vertical-align: top;\n",
       "    }\n",
       "\n",
       "    .dataframe thead th {\n",
       "        text-align: right;\n",
       "    }\n",
       "</style>\n",
       "<table border=\"1\" class=\"dataframe\">\n",
       "  <thead>\n",
       "    <tr style=\"text-align: right;\">\n",
       "      <th></th>\n",
       "      <th>speaker_id</th>\n",
       "      <th>quote_id</th>\n",
       "      <th>quotation</th>\n",
       "      <th>speaker</th>\n",
       "      <th>party</th>\n",
       "      <th>Date-Time</th>\n",
       "    </tr>\n",
       "  </thead>\n",
       "  <tbody>\n",
       "    <tr>\n",
       "      <th>0</th>\n",
       "      <td>1282411</td>\n",
       "      <td>2015-06-11-000090</td>\n",
       "      <td>25-year cost estimate for the U.S. nuclear mod...</td>\n",
       "      <td>Ed Markey</td>\n",
       "      <td>29552</td>\n",
       "      <td>2015-06-11</td>\n",
       "    </tr>\n",
       "    <tr>\n",
       "      <th>1</th>\n",
       "      <td>1282411</td>\n",
       "      <td>2015-08-11-090504</td>\n",
       "      <td>The state is transitioning to a higher percent...</td>\n",
       "      <td>Ed Markey</td>\n",
       "      <td>29552</td>\n",
       "      <td>2015-08-11</td>\n",
       "    </tr>\n",
       "    <tr>\n",
       "      <th>2</th>\n",
       "      <td>1282411</td>\n",
       "      <td>2015-10-27-125840</td>\n",
       "      <td>This highly coveted TIGER grant funding would ...</td>\n",
       "      <td>Ed Markey</td>\n",
       "      <td>29552</td>\n",
       "      <td>2015-10-27</td>\n",
       "    </tr>\n",
       "    <tr>\n",
       "      <th>3</th>\n",
       "      <td>1282411</td>\n",
       "      <td>2015-01-19-008025</td>\n",
       "      <td>carefully cutting the Gordian knot that has ti...</td>\n",
       "      <td>Ed Markey</td>\n",
       "      <td>29552</td>\n",
       "      <td>2015-01-19</td>\n",
       "    </tr>\n",
       "    <tr>\n",
       "      <th>4</th>\n",
       "      <td>1282411</td>\n",
       "      <td>2015-12-09-094134</td>\n",
       "      <td>The amendments would improve the safety of agi...</td>\n",
       "      <td>Ed Markey</td>\n",
       "      <td>29552</td>\n",
       "      <td>2015-12-09</td>\n",
       "    </tr>\n",
       "  </tbody>\n",
       "</table>\n",
       "</div>"
      ],
      "text/plain": [
       "   speaker_id           quote_id  \\\n",
       "0     1282411  2015-06-11-000090   \n",
       "1     1282411  2015-08-11-090504   \n",
       "2     1282411  2015-10-27-125840   \n",
       "3     1282411  2015-01-19-008025   \n",
       "4     1282411  2015-12-09-094134   \n",
       "\n",
       "                                           quotation    speaker  party  \\\n",
       "0  25-year cost estimate for the U.S. nuclear mod...  Ed Markey  29552   \n",
       "1  The state is transitioning to a higher percent...  Ed Markey  29552   \n",
       "2  This highly coveted TIGER grant funding would ...  Ed Markey  29552   \n",
       "3  carefully cutting the Gordian knot that has ti...  Ed Markey  29552   \n",
       "4  The amendments would improve the safety of agi...  Ed Markey  29552   \n",
       "\n",
       "   Date-Time  \n",
       "0 2015-06-11  \n",
       "1 2015-08-11  \n",
       "2 2015-10-27  \n",
       "3 2015-01-19  \n",
       "4 2015-12-09  "
      ]
     },
     "execution_count": 14,
     "metadata": {},
     "output_type": "execute_result"
    }
   ],
   "source": [
    "# load pickle\n",
    "PICKLE_PATH = \"data/binary/us-politicians.pickle\"\n",
    "\n",
    "data = pd.read_pickle(PICKLE_PATH)\n",
    "data.head()\n"
   ]
  },
  {
   "cell_type": "code",
   "execution_count": 33,
   "metadata": {},
   "outputs": [
    {
     "data": {
      "text/html": [
       "<div>\n",
       "<style scoped>\n",
       "    .dataframe tbody tr th:only-of-type {\n",
       "        vertical-align: middle;\n",
       "    }\n",
       "\n",
       "    .dataframe tbody tr th {\n",
       "        vertical-align: top;\n",
       "    }\n",
       "\n",
       "    .dataframe thead th {\n",
       "        text-align: right;\n",
       "    }\n",
       "</style>\n",
       "<table border=\"1\" class=\"dataframe\">\n",
       "  <thead>\n",
       "    <tr style=\"text-align: right;\">\n",
       "      <th></th>\n",
       "      <th>speaker_id</th>\n",
       "      <th>quote_id</th>\n",
       "      <th>quotation</th>\n",
       "      <th>speaker</th>\n",
       "      <th>party</th>\n",
       "      <th>Date-Time</th>\n",
       "      <th>flesch_reading_ease</th>\n",
       "      <th>dale_chall_readability_score</th>\n",
       "      <th>text_standard</th>\n",
       "      <th>reading_time</th>\n",
       "    </tr>\n",
       "  </thead>\n",
       "  <tbody>\n",
       "    <tr>\n",
       "      <th>0</th>\n",
       "      <td>1282411</td>\n",
       "      <td>2015-06-11-000090</td>\n",
       "      <td>25-year cost estimate for the U.S. nuclear mod...</td>\n",
       "      <td>Ed Markey</td>\n",
       "      <td>29552</td>\n",
       "      <td>2015-06-11</td>\n",
       "      <td>36.96</td>\n",
       "      <td>11.10</td>\n",
       "      <td>17.0</td>\n",
       "      <td>0.84</td>\n",
       "    </tr>\n",
       "    <tr>\n",
       "      <th>1</th>\n",
       "      <td>1282411</td>\n",
       "      <td>2015-08-11-090504</td>\n",
       "      <td>The state is transitioning to a higher percent...</td>\n",
       "      <td>Ed Markey</td>\n",
       "      <td>29552</td>\n",
       "      <td>2015-08-11</td>\n",
       "      <td>41.36</td>\n",
       "      <td>10.35</td>\n",
       "      <td>11.0</td>\n",
       "      <td>1.04</td>\n",
       "    </tr>\n",
       "    <tr>\n",
       "      <th>2</th>\n",
       "      <td>1282411</td>\n",
       "      <td>2015-10-27-125840</td>\n",
       "      <td>This highly coveted TIGER grant funding would ...</td>\n",
       "      <td>Ed Markey</td>\n",
       "      <td>29552</td>\n",
       "      <td>2015-10-27</td>\n",
       "      <td>34.43</td>\n",
       "      <td>10.64</td>\n",
       "      <td>24.0</td>\n",
       "      <td>6.14</td>\n",
       "    </tr>\n",
       "    <tr>\n",
       "      <th>3</th>\n",
       "      <td>1282411</td>\n",
       "      <td>2015-01-19-008025</td>\n",
       "      <td>carefully cutting the Gordian knot that has ti...</td>\n",
       "      <td>Ed Markey</td>\n",
       "      <td>29552</td>\n",
       "      <td>2015-01-19</td>\n",
       "      <td>25.80</td>\n",
       "      <td>11.73</td>\n",
       "      <td>16.0</td>\n",
       "      <td>1.73</td>\n",
       "    </tr>\n",
       "    <tr>\n",
       "      <th>4</th>\n",
       "      <td>1282411</td>\n",
       "      <td>2015-12-09-094134</td>\n",
       "      <td>The amendments would improve the safety of agi...</td>\n",
       "      <td>Ed Markey</td>\n",
       "      <td>29552</td>\n",
       "      <td>2015-12-09</td>\n",
       "      <td>0.76</td>\n",
       "      <td>11.33</td>\n",
       "      <td>0.0</td>\n",
       "      <td>4.39</td>\n",
       "    </tr>\n",
       "  </tbody>\n",
       "</table>\n",
       "</div>"
      ],
      "text/plain": [
       "   speaker_id           quote_id  \\\n",
       "0     1282411  2015-06-11-000090   \n",
       "1     1282411  2015-08-11-090504   \n",
       "2     1282411  2015-10-27-125840   \n",
       "3     1282411  2015-01-19-008025   \n",
       "4     1282411  2015-12-09-094134   \n",
       "\n",
       "                                           quotation    speaker  party  \\\n",
       "0  25-year cost estimate for the U.S. nuclear mod...  Ed Markey  29552   \n",
       "1  The state is transitioning to a higher percent...  Ed Markey  29552   \n",
       "2  This highly coveted TIGER grant funding would ...  Ed Markey  29552   \n",
       "3  carefully cutting the Gordian knot that has ti...  Ed Markey  29552   \n",
       "4  The amendments would improve the safety of agi...  Ed Markey  29552   \n",
       "\n",
       "   Date-Time  flesch_reading_ease  dale_chall_readability_score  \\\n",
       "0 2015-06-11                36.96                         11.10   \n",
       "1 2015-08-11                41.36                         10.35   \n",
       "2 2015-10-27                34.43                         10.64   \n",
       "3 2015-01-19                25.80                         11.73   \n",
       "4 2015-12-09                 0.76                         11.33   \n",
       "\n",
       "   text_standard  reading_time  \n",
       "0           17.0          0.84  \n",
       "1           11.0          1.04  \n",
       "2           24.0          6.14  \n",
       "3           16.0          1.73  \n",
       "4            0.0          4.39  "
      ]
     },
     "execution_count": 33,
     "metadata": {},
     "output_type": "execute_result"
    }
   ],
   "source": [
    "import textstat as ts\n",
    "\n",
    "# we use the textstat library to calculate the scores for each quotation\n",
    "if not os.path.exists(\"data/binary/us-politicians-complexity.pickle\"):\n",
    "    data['flesch_reading_ease'] = data['quotation'].apply(\n",
    "        lambda x: ts.flesch_reading_ease(x))\n",
    "\n",
    "    data['dale_chall_readability_score'] = data['quotation'].apply(\n",
    "        lambda x: ts.dale_chall_readability_score_v2(x))\n",
    "\n",
    "    data['text_standard'] = data['quotation'].apply(\n",
    "        lambda x: ts.text_standard(x, True))\n",
    "\n",
    "    data['reading_time'] = data['quotation'].apply(\n",
    "        lambda x: ts.reading_time(x))\n",
    "    # save to pickle\n",
    "    data.to_pickle(\"data/binary/us-politicians-complexity.pickle\")\n",
    "else:\n",
    "    PICKLE_PATH = \"data/binary/us-politicians-complexity.pickle\"\n",
    "    data = pd.read_pickle(PICKLE_PATH)\n",
    "\n",
    "readability_features = ['flesch_reading_ease',\n",
    "                        'dale_chall_readability_score', 'text_standard', 'reading_time']\n",
    "\n",
    "data.head()\n"
   ]
  },
  {
   "cell_type": "markdown",
   "metadata": {},
   "source": [
    "We then split the DataFrame into two, one for Democrats and one for Republicans.  We take a random sample of Republicans\n",
    "quotes, since they are significantly more  than Democrats' quotes, in order to have the same amount of sentences analyzed.\n",
    "This way the representations are clearer but the result doesn't change."
   ]
  },
  {
   "cell_type": "code",
   "execution_count": 34,
   "metadata": {},
   "outputs": [],
   "source": [
    "# To have a clearer visualization we take into consideration the same amount of quotations from both parties\n",
    "democrats = data[data[\"party\"] == 29552]\n",
    "republicans = data[data[\"party\"] == 29468].sample(\n",
    "    democrats['quote_id'].count())\n"
   ]
  },
  {
   "cell_type": "markdown",
   "metadata": {},
   "source": [
    "Let's examine if our sample from the two parties is balanced across time. To do so, let's plot the distribution of the number of quotes per party across time:"
   ]
  },
  {
   "cell_type": "code",
   "execution_count": 24,
   "metadata": {},
   "outputs": [
    {
     "data": {
      "image/png": "[encoded data removed]",
      "text/plain": [
       "<Figure size 720x720 with 1 Axes>"
      ]
     },
     "metadata": {
      "needs_background": "light"
     },
     "output_type": "display_data"
    }
   ],
   "source": [
    "plot_across_time(democrats[[\"Date-Time\", \"quote_id\"]].rename(columns={\n",
    "                 'quote_id': 'count'}), republicans[[\"Date-Time\", \"quote_id\"]].rename(columns={'quote_id': 'count'}))\n"
   ]
  },
  {
   "cell_type": "markdown",
   "metadata": {},
   "source": [
    "We can see that, despite a few low values in 2016, the distribution is rather uniform, and the difference between the number of quotes of democrats and republicans across the year is not substantial enough to hinder our future analysis. Now let's analyse the difference in the distribution of quotes' length of the two parties:"
   ]
  },
  {
   "cell_type": "markdown",
   "metadata": {},
   "source": [
    "We also plot the difference between the length of quotes, to ensure a similar distribution, as the metrics we calculated are influenced by it."
   ]
  },
  {
   "cell_type": "code",
   "execution_count": 25,
   "metadata": {},
   "outputs": [
    {
     "data": {
      "image/png": "[encoded data removed]",
      "text/plain": [
       "<Figure size 720x720 with 1 Axes>"
      ]
     },
     "metadata": {
      "needs_background": "light"
     },
     "output_type": "display_data"
    }
   ],
   "source": [
    "plot_length(democrats, republicans)\n"
   ]
  },
  {
   "cell_type": "markdown",
   "metadata": {},
   "source": [
    "We see that the number of quotes decreases at a similar rate for both parties as the length of quotes increases, with a few outliers over the length 3000. Let's try removing them."
   ]
  },
  {
   "cell_type": "code",
   "execution_count": 26,
   "metadata": {},
   "outputs": [
    {
     "data": {
      "image/png": "[encoded data removed]",
      "text/plain": [
       "<Figure size 720x720 with 1 Axes>"
      ]
     },
     "metadata": {
      "needs_background": "light"
     },
     "output_type": "display_data"
    }
   ],
   "source": [
    "plot_length(democrats[democrats[\"quotation\"].str.len() < 3000],\n",
    "            republicans[republicans[\"quotation\"].str.len() < 3000])\n"
   ]
  },
  {
   "cell_type": "markdown",
   "metadata": {},
   "source": [
    "We can now plot the different metric scores across all speakers, from the two parties."
   ]
  },
  {
   "cell_type": "code",
   "execution_count": 27,
   "metadata": {},
   "outputs": [
    {
     "data": {
      "image/png": "[encoded data removed]",
      "text/plain": [
       "<Figure size 720x1080 with 4 Axes>"
      ]
     },
     "metadata": {
      "needs_background": "light"
     },
     "output_type": "display_data"
    }
   ],
   "source": [
    "plot_metrics_scores(democrats, republicans,\n",
    "                    \"Democrats vs Republicans - quotation complexity\")\n"
   ]
  },
  {
   "cell_type": "markdown",
   "metadata": {},
   "source": [
    "Let us check if there is a statistically significant difference in the values for the various metrics - "
   ]
  },
  {
   "cell_type": "code",
   "execution_count": 41,
   "metadata": {},
   "outputs": [
    {
     "name": "stdout",
     "output_type": "stream",
     "text": [
      "flesch_reading_ease            : Ttest_indResult(statistic=-121.98238305456951, pvalue=0.0)\n",
      "dale_chall_readability_score   : Ttest_indResult(statistic=110.18966079891649, pvalue=0.0)\n",
      "text_standard                  : Ttest_indResult(statistic=140.86207501996697, pvalue=0.0)\n",
      "reading_time                   : Ttest_indResult(statistic=74.71098304950733, pvalue=0.0)\n"
     ]
    }
   ],
   "source": [
    "for ft in readability_features:\n",
    "    res = ttest_ind(democrats[ft], republicans[ft])\n",
    "    print(f\"{ft:<30} : {res}\")\n"
   ]
  },
  {
   "cell_type": "markdown",
   "metadata": {},
   "source": [
    "The p-values are lower than the 0.05 threshold, i.e. the metrics do not have the same expected value for each party. Therefore there are statistically significant differences.\n",
    "\n",
    "We see that the democratic quotations on average have a higher grade score required for reading and understading the text on each of the four metrics. These features can therefore help us predict the party affilition of a politician given their quote.  "
   ]
  },
  {
   "cell_type": "markdown",
   "metadata": {},
   "source": [
    "For some futher analysis, let us plot the metrics for the two most popular speakers from each party.\n",
    "And also see if there are any variations over the years."
   ]
  },
  {
   "cell_type": "code",
   "execution_count": 44,
   "metadata": {},
   "outputs": [
    {
     "name": "stdout",
     "output_type": "stream",
     "text": [
      "Most common Democratic speaker : Barack Obama    156738\n",
      "Name: speaker, dtype: int64\n",
      "Most common Republican speaker : Donald Trump    510719\n",
      "Name: speaker, dtype: int64\n"
     ]
    }
   ],
   "source": [
    "print(\n",
    "    f\"Most common Democratic speaker : {democrats['speaker'].value_counts()[:1]}\")\n",
    "\n",
    "print(\n",
    "    f\"Most common Republican speaker : {republicans['speaker'].value_counts()[:1]}\")\n"
   ]
  },
  {
   "cell_type": "code",
   "execution_count": 47,
   "metadata": {},
   "outputs": [
    {
     "data": {
      "image/png": "[encoded data removed]",
      "text/plain": [
       "<Figure size 720x1080 with 4 Axes>"
      ]
     },
     "metadata": {
      "needs_background": "light"
     },
     "output_type": "display_data"
    },
    {
     "name": "stdout",
     "output_type": "stream",
     "text": [
      "flesch_reading_ease            : Ttest_indResult(statistic=-88.92639340819515, pvalue=0.0)\n",
      "dale_chall_readability_score   : Ttest_indResult(statistic=84.6357131303167, pvalue=0.0)\n",
      "text_standard                  : Ttest_indResult(statistic=99.81727120387039, pvalue=0.0)\n",
      "reading_time                   : Ttest_indResult(statistic=59.33947173653562, pvalue=0.0)\n"
     ]
    }
   ],
   "source": [
    "barack_obama = democrats[democrats['speaker'] == 'Barack Obama']\n",
    "donald_trump = republicans[republicans['speaker'] == 'Donald Trump']\n",
    "\n",
    "# again we take a random sample of equal number of quotes, for clearer visualizations\n",
    "donald_trump = donald_trump.sample(barack_obama['quote_id'].count())\n",
    "\n",
    "plot_metrics_scores(barack_obama, donald_trump,\n",
    "                    \"Barack Obama vs Donald Trump 's quotation complexity\")\n",
    "\n",
    "# and we check for statistical significance in the differece bw metric values\n",
    "for ft in readability_features:\n",
    "    res = ttest_ind(barack_obama[ft], donald_trump[ft])\n",
    "    print(f\"{ft:<30} : {res}\")\n"
   ]
  },
  {
   "cell_type": "markdown",
   "metadata": {},
   "source": [
    "The quotations of Barack Obama and Donald Trump show similar statistical differences in readability compared to their party's average. i.e The quotes from Democratic speakers on avg. require a higher grade for understandability."
   ]
  },
  {
   "cell_type": "markdown",
   "metadata": {},
   "source": [
    "We can also compare the difference in these metrics over the years."
   ]
  },
  {
   "cell_type": "code",
   "execution_count": 65,
   "metadata": {},
   "outputs": [
    {
     "data": {
      "image/png": "[encoded data removed]",
      "text/plain": [
       "<Figure size 720x720 with 1 Axes>"
      ]
     },
     "metadata": {
      "needs_background": "light"
     },
     "output_type": "display_data"
    }
   ],
   "source": [
    "years = list(range(2015, 2020))\n",
    "\n",
    "yearly_readability_data = {}\n",
    "for ft in readability_features:\n",
    "    yearly_readability_data[ft+'_rep'] = []\n",
    "    yearly_readability_data[ft+'_dem'] = []\n",
    "\n",
    "for year in years:\n",
    "    year_df_rep = republicans[republicans['Date-Time'] <= f\"{year}-1-31\"]\n",
    "    year_df_rep = republicans[republicans['Date-Time'] >= f\"{year}-1-1\"]\n",
    "\n",
    "    year_df_dem = democrats[democrats['Date-Time'] <= f\"{year}-1-31\"]\n",
    "    year_df_dem = democrats[democrats['Date-Time'] >= f\"{year}-1-1\"]\n",
    "\n",
    "    for ft in readability_features:\n",
    "        yearly_readability_data[ft+'_rep'].append(year_df_rep[ft].mean())\n",
    "        yearly_readability_data[ft+'_dem'].append(year_df_dem[ft].mean())\n",
    "\n",
    "\n",
    "x = np.arange(len(years))\n",
    "width = 0.1\n",
    "\n",
    "fig, ax = plt.subplots()\n",
    "for i, (ft, score) in enumerate(yearly_readability_data.items()):\n",
    "    if i < (len(yearly_readability_data.keys()) / 2):\n",
    "        x_loc = x - (width/2) - (i * width)\n",
    "    else:\n",
    "        i = i - len(yearly_readability_data.keys()) / 2\n",
    "        x_loc = x + (width/2) + (i * width)\n",
    "\n",
    "    ax.bar(x_loc, score, width, label=ft)\n",
    "\n",
    "ax.set_ylabel('Scores')\n",
    "ax.set_title(\n",
    "    'Values of readability metrics over the years, for quotes by Dem vs Rep')\n",
    "ax.set_xticks(x)\n",
    "ax.set_xticklabels(years)\n",
    "ax.legend()\n",
    "\n",
    "fig.tight_layout()\n",
    "\n",
    "plt.show()\n"
   ]
  },
  {
   "cell_type": "markdown",
   "metadata": {},
   "source": [
    "As seen in the graph above, the differences in scores for the readability metrics do not change significantly over the years.\n",
    "\n",
    "This was a simple and mostly superficial analysis of the readability metrics for quotes by speakers of both parties, however we already discovered statistically significant differences in the scores for these metrics between the two parties. And these differences are consistent between all four metrics we judged. i.e. Quotes from republican speakers have shown to be easier to understand and require a lower grade level.\n",
    "\n",
    "These scores could thus be useful features for our affiliation predicting classifier."
   ]
  },
  {
   "cell_type": "markdown",
   "metadata": {},
   "source": [
    "### 5. Political Classifier"
   ]
  },
  {
   "cell_type": "code",
   "execution_count": 66,
   "metadata": {},
   "outputs": [],
   "source": [
    "features = readability_features  # + sentiment score + ...\n",
    "\n",
    "# create table that includes all features and party affiliation\n",
    "\n",
    "\n",
    "def divide(df, x_cols=features, y_cols=['party']):\n",
    "    return df[x_cols].to_numpy(), df[y_cols].to_numpy()\n"
   ]
  },
  {
   "cell_type": "code",
   "execution_count": null,
   "metadata": {},
   "outputs": [],
   "source": [
    "from sklearn.model_selection import train_test_split\n",
    "from sklearn.ensemble import GradientBoostingRegressor\n",
    "from sklearn.metrics import r2_score\n",
    "\n",
    "# divide dataset into featues and label\n",
    "x, y = divide(data)\n",
    "\n",
    "# Splitting into train and test set\n",
    "x_train, x_test, y_train, y_test = train_test_split(\n",
    "    x, y, test_size=0.25, random_state=666)\n",
    "\n",
    "# Training the model\n",
    "boost_reg = GradientBoostingRegressor().fit(x_train, y_train.squeeze())\n",
    "\n",
    "# Generating predictions\n",
    "predictions = boost_reg.predict(x_test)\n",
    "\n",
    "# Calculating r2 score\n",
    "r2 = r2_score(y_test, predictions)\n",
    "\n",
    "print(\"The R^2 score is {r}\".format(r=np.round(r2, 4)))\n"
   ]
  },
  {
   "cell_type": "markdown",
   "metadata": {},
   "source": []
  }
 ],
 "metadata": {
  "interpreter": {
   "hash": "31f2aee4e71d21fbe5cf8b01ff0e069b9275f58929596ceb00d14d90e3e16cd6"
  },
  "kernelspec": {
   "display_name": "Python 3.8.9 64-bit",
   "language": "python",
   "name": "python3"
  },
  "language_info": {
   "codemirror_mode": {
    "name": "ipython",
    "version": 3
   },
   "file_extension": ".py",
   "mimetype": "text/x-python",
   "name": "python",
   "nbconvert_exporter": "python",
   "pygments_lexer": "ipython3",
   "version": "3.8.9"
  },
  "orig_nbformat": 4
 },
 "nbformat": 4,
 "nbformat_minor": 2
}
