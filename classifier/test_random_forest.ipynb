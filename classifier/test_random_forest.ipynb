{
 "cells": [
  {
   "cell_type": "markdown",
   "metadata": {
    "collapsed": true,
    "pycharm": {
     "name": "#%% md\n"
    }
   },
   "source": [
    "# Topic classifier test\n",
    "This notebook aims to test the classifier trained using a Random Forest technique over training data properly\n",
    "preprocessed with different NLP functions. The result is not satisfying on new data, even though after cross validation\n",
    "the model had an accuracy of over 60%. Many ideas to solve the problem are ready to be tested in the following days.\n",
    "Firstly, we will join \"topic +\" and \"topic -\" into \"topic\", removing sentiment evaluation's duty from the classifier,\n",
    "making it simpler and more effective.\n",
    "\n",
    "First sketch results:"
   ]
  },
  {
   "cell_type": "code",
   "execution_count": 5,
   "outputs": [
    {
     "data": {
      "text/plain": "'\\nimport pickle\\nimport pandas as pd\\nfrom classifier import preprocess_sentences '"
     },
     "execution_count": 5,
     "metadata": {},
     "output_type": "execute_result"
    }
   ],
   "source": [
    "\n",
    "import pickle\n",
    "import pandas as pd\n",
    "from classifier_random_forest import preprocess_sentences"
   ],
   "metadata": {
    "collapsed": false,
    "pycharm": {
     "name": "#%%\n"
    }
   }
  },
  {
   "cell_type": "code",
   "execution_count": 6,
   "metadata": {
    "collapsed": false,
    "pycharm": {
     "name": "#%%\n"
    }
   },
   "outputs": [
    {
     "data": {
      "text/plain": "'\\n# load the data\\nPATH = \"../data/binary/us-politicians.pickle\"\\ndf = pd.read_pickle(PATH)\\ndf = df.sample(10000)\\nX_test = list(df[\\'quotation\\'])\\nwith open(\\'topic_classifier\\', \\'rb\\') as training_model:\\n    model = pickle.load(training_model)\\n'"
     },
     "execution_count": 6,
     "metadata": {},
     "output_type": "execute_result"
    }
   ],
   "source": [
    "\n",
    "# load the data\n",
    "PATH = \"../data/binary/us-politicians.pickle\"\n",
    "df = pd.read_pickle(PATH)\n",
    "df = df.sample(10000)\n",
    "X_test = list(df['quotation'])\n",
    "with open('topic_classifier', 'rb') as training_model:\n",
    "    model = pickle.load(training_model)\n"
   ]
  },
  {
   "cell_type": "code",
   "execution_count": 7,
   "metadata": {
    "collapsed": false,
    "pycharm": {
     "name": "#%%\n"
    }
   },
   "outputs": [
    {
     "data": {
      "text/plain": "'\\nX_test = preprocess_sentences(X_test)\\ny = model.predict(X_test)\\n'"
     },
     "execution_count": 7,
     "metadata": {},
     "output_type": "execute_result"
    }
   ],
   "source": [
    "\n",
    "X_test = preprocess_sentences(X_test)\n",
    "y = model.predict(X_test)\n"
   ]
  },
  {
   "cell_type": "code",
   "execution_count": 8,
   "metadata": {
    "collapsed": false,
    "pycharm": {
     "name": "#%%\n"
    }
   },
   "outputs": [
    {
     "name": "stderr",
     "output_type": "stream",
     "text": [
      "***** Running Prediction *****\n",
      "  Num examples = 10000\n",
      "  Batch size = 8\n"
     ]
    },
    {
     "data": {
      "text/plain": "<IPython.core.display.HTML object>",
      "text/html": "\n    <div>\n      \n      <progress value='1' max='1250' style='width:300px; height:20px; vertical-align: middle;'></progress>\n      [   1/1250 : < :]\n    </div>\n    "
     },
     "metadata": {},
     "output_type": "display_data"
    }
   ],
   "source": [
    "\n",
    "pd.set_option('display.max_colwidth',None)\n",
    "df['topic'] = y\n",
    "topic_map = {0: \"Undefined\", 1: \"External Relations\", 2: \"Freedom and Democracy\", 3: \"Political System\", 4: \"Economy\", 5: \"Welfare and quality of life\", 6: \"Fabric of Society\", 7: \"Social Groups\"}\n",
    "df['topic'] = df['topic'].map(topic_map)\n",
    "sample = df.sample(30)\n",
    "sample\n"
   ]
  }
 ],
 "metadata": {
  "kernelspec": {
   "display_name": "PyCharm (ml-project-1-pasta_balalaika)",
   "language": "python",
   "name": "pycharm-8f20d7e5"
  },
  "language_info": {
   "codemirror_mode": {
    "name": "ipython",
    "version": 2
   },
   "file_extension": ".py",
   "mimetype": "text/x-python",
   "name": "python",
   "nbconvert_exporter": "python",
   "pygments_lexer": "ipython2",
   "version": "2.7.6"
  }
 },
 "nbformat": 4,
 "nbformat_minor": 0
}