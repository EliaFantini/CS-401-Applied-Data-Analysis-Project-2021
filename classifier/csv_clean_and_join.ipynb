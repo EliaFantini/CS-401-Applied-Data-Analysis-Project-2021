{
 "cells": [
  {
   "cell_type": "code",
   "execution_count": 18,
   "metadata": {
    "collapsed": true
   },
   "outputs": [],
   "source": [
    "import pandas as pd\n",
    "\n"
   ]
  },
  {
   "cell_type": "code",
   "execution_count": 19,
   "outputs": [],
   "source": [
    "#join together different years csv and different parties,\n",
    "# drop column with na, round label values and column renaming\n",
    "df = pd.DataFrame(columns=['sentence','label'])\n",
    "years = [2012,2016,2020]\n",
    "parties = [ 'dem','rep']\n",
    "for party in parties:\n",
    "    for year in years:\n",
    "        CSV_PATH = f\"data/{party}_{year}.csv\"\n",
    "        partial_df = pd.read_csv(CSV_PATH)\n",
    "        partial_df = partial_df.drop('eu_code',1)\n",
    "        partial_df = partial_df.dropna(axis=0)\n",
    "        partial_df = partial_df.rename(columns={\"text\":\"sentence\",\"cmp_code\":\"label\"})\n",
    "        df = pd.concat([df,partial_df])\n",
    "df= df.loc[df['label']!= 'H']\n",
    "df[\"label\"]= df[\"label\"].astype(float).astype(int)\n",
    "\n",
    "df.to_csv('data/join_result.csv', index=False)"
   ],
   "metadata": {
    "collapsed": false,
    "pycharm": {
     "name": "#%%\n"
    }
   }
  },
  {
   "cell_type": "code",
   "execution_count": 20,
   "outputs": [],
   "source": [
    "lines = open(\"data/manifestolabels.txt\").readlines()\n",
    "ids = [x[3:6] for x in lines]\n",
    "labels = [x[8:-2] for x in lines]\n",
    "df = pd.DataFrame({'id':ids, 'label':labels})\n",
    "df.to_csv('data/labels.csv', index=False)\n"
   ],
   "metadata": {
    "collapsed": false,
    "pycharm": {
     "name": "#%%\n"
    }
   }
  }
 ],
 "metadata": {
  "kernelspec": {
   "name": "pycharm-8f20d7e5",
   "language": "python",
   "display_name": "PyCharm (ml-project-1-pasta_balalaika)"
  },
  "language_info": {
   "codemirror_mode": {
    "name": "ipython",
    "version": 2
   },
   "file_extension": ".py",
   "mimetype": "text/x-python",
   "name": "python",
   "nbconvert_exporter": "python",
   "pygments_lexer": "ipython2",
   "version": "2.7.6"
  }
 },
 "nbformat": 4,
 "nbformat_minor": 0
}