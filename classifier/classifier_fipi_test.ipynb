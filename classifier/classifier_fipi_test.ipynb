{
 "cells": [
  {
   "cell_type": "code",
   "execution_count": null,
   "metadata": {},
   "outputs": [],
   "source": [
    "import pandas as pd\n",
    "\n",
    "from classifier_fipi import Classifier"
   ]
  },
  {
   "cell_type": "code",
   "execution_count": null,
   "metadata": {},
   "outputs": [],
   "source": [
    "clf = Classifier(train=False)"
   ]
  },
  {
   "cell_type": "code",
   "execution_count": null,
   "metadata": {},
   "outputs": [],
   "source": [
    "QUOTES_PATH = \"../data/binary/us-politicians.pickle\"\n",
    "df_quotes = pd.read_pickle(QUOTES_PATH)"
   ]
  },
  {
   "cell_type": "code",
   "execution_count": null,
   "metadata": {},
   "outputs": [],
   "source": [
    "test_data = df_quotes.sample(100)\n",
    "test_data['quote_id'] = test_data['quote_id'].astype(str)\n",
    "\n",
    "res = []\n",
    "for idx in test_data.index:\n",
    "  prediction = clf.predict(test_data.loc[idx, 'quotation'])\n",
    "  prediction['quote_id'] = test_data.loc[idx, 'quote_id']\n",
    "  res.append(prediction)\n",
    "\n",
    "res = pd.DataFrame(res)\n",
    "res.drop(['text'], axis=1)\n",
    "\n",
    "res = pd.merge(left=res, right=test_data)\n",
    "\n",
    "res.head(3)"
   ]
  },
  {
   "cell_type": "code",
   "execution_count": null,
   "metadata": {},
   "outputs": [],
   "source": [
    "res.sort_values(by='leftright')"
   ]
  }
 ],
 "metadata": {
  "interpreter": {
   "hash": "91eaa314925df1adec905af0102685894946a2fd2147c0b754ef56ec1d769696"
  },
  "kernelspec": {
   "display_name": "Python 3.8.11 64-bit ('ada': conda)",
   "name": "python3"
  },
  "language_info": {
   "codemirror_mode": {
    "name": "ipython",
    "version": 3
   },
   "file_extension": ".py",
   "mimetype": "text/x-python",
   "name": "python",
   "nbconvert_exporter": "python",
   "pygments_lexer": "ipython3",
   "version": "3.8.12"
  },
  "orig_nbformat": 4
 },
 "nbformat": 4,
 "nbformat_minor": 2
}
