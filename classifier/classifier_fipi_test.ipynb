{
 "cells": [
  {
   "cell_type": "code",
   "execution_count": null,
   "metadata": {},
   "outputs": [],
   "source": [
    "import pickle\n",
    "import pandas as pd\n",
    "\n",
    "from classifier_fipi import Classifier"
   ]
  },
  {
   "cell_type": "code",
   "execution_count": null,
   "metadata": {},
   "outputs": [],
   "source": [
    "SPEAKER_AFF_PATH = \"../data/binary/data-2017.pickle\"\n"
   ]
  },
  {
   "cell_type": "code",
   "execution_count": null,
   "metadata": {},
   "outputs": [],
   "source": [
    "clf = Classifier(train=True)"
   ]
  },
  {
   "cell_type": "code",
   "execution_count": null,
   "metadata": {},
   "outputs": [],
   "source": [
    "speaker_aff_df = pd.read_pickle(SPEAKER_AFF_PATH)\n",
    "\n",
    "test_data = speaker_with_affiliation.sample(10000)\n",
    "test_quotes = list(test_data['quotation'])\n",
    "\n",
    "res = []\n",
    "for qt in test_quotes:\n",
    "  res.append(clf.predict(test_quotes))\n",
    "\n",
    "res = pd.DataFrame(res)\n",
    "\n",
    "res.head()"
   ]
  }
 ],
 "metadata": {
  "interpreter": {
   "hash": "91eaa314925df1adec905af0102685894946a2fd2147c0b754ef56ec1d769696"
  },
  "kernelspec": {
   "display_name": "Python 3.8.11 64-bit ('ada': conda)",
   "name": "python3"
  },
  "language_info": {
   "codemirror_mode": {
    "name": "ipython",
    "version": 3
   },
   "file_extension": ".py",
   "mimetype": "text/x-python",
   "name": "python",
   "nbconvert_exporter": "python",
   "pygments_lexer": "ipython3",
   "version": "3.8.11"
  },
  "orig_nbformat": 4
 },
 "nbformat": 4,
 "nbformat_minor": 2
}
