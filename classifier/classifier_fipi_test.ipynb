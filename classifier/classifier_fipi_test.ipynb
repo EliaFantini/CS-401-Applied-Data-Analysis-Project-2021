{
 "cells": [
  {
   "cell_type": "code",
   "execution_count": null,
   "metadata": {},
   "outputs": [],
   "source": [
    "import pandas as pd\n",
    "\n",
    "from classifier_fipi import Classifier"
   ]
  },
  {
   "cell_type": "markdown",
   "metadata": {},
   "source": [
    "### Building the classifier\n",
    "Instantiate with `train=True` if you want to retrain the classifier or if the pickled classifier is absent.  \n",
    "Code for this model was obtained and modified from [github.com/felixbiessmann/fipi](https://github.com/felixbiessmann/fipi)."
   ]
  },
  {
   "cell_type": "code",
   "execution_count": null,
   "metadata": {},
   "outputs": [],
   "source": [
    "clf = Classifier(train=False)"
   ]
  },
  {
   "cell_type": "markdown",
   "metadata": {},
   "source": [
    "### Test classifier on preprocessed quotes dataset"
   ]
  },
  {
   "cell_type": "code",
   "execution_count": null,
   "metadata": {},
   "outputs": [],
   "source": [
    "QUOTES_PATH = \"../data/binary/us-politicians.pickle\"\n",
    "df_quotes = pd.read_pickle(QUOTES_PATH)"
   ]
  },
  {
   "cell_type": "markdown",
   "metadata": {},
   "source": [
    "For each quote, the model predicts the **manifesto-project** label and subsequently assigns the rightist or leftist label by using a pre-configured grouping of the labels into right/left topics.\n",
    "| Political leaning | Topics usually favoured (codes) |\n",
    "| --- | --- |\n",
    "| rightist | 104,201,203,305,401,402,407,414,505,601,603,605,606 |\n",
    "| leftist  | 103,105,106,107,403,404,406,412,413,504,506,701,202 |\n",
    "\n",
    "These codes can be grouped into the following general domains.\n",
    "\n",
    "| Topic domain | Code // 100 |\n",
    "| --- | --- |\n",
    "| External Relations | 1 |\n",
    "| Freedom and Democracy | 2 |\n",
    "| Political System | 3 |\n",
    "| Economy | 4 |\n",
    "| Welfare and Quality of Life | 5 |\n",
    "| Fabric of Society | 6 |\n"
   ]
  },
  {
   "cell_type": "code",
   "execution_count": null,
   "metadata": {},
   "outputs": [],
   "source": [
    "test_data = df_quotes.sample(100)\n",
    "test_data['quote_id'] = test_data['quote_id'].astype(str)\n",
    "\n",
    "res = []\n",
    "for idx in test_data.index:\n",
    "  prediction = clf.predict(test_data.loc[idx, 'quotation'])\n",
    "  prediction['quote_id'] = test_data.loc[idx, 'quote_id']\n",
    "  res.append(prediction)\n",
    "\n",
    "res = pd.DataFrame(res)\n",
    "res.drop(['text'], axis=1)\n",
    "\n",
    "res = pd.merge(left=res, right=test_data)\n",
    "\n",
    "res.head(3)"
   ]
  }
 ],
 "metadata": {
  "interpreter": {
   "hash": "91eaa314925df1adec905af0102685894946a2fd2147c0b754ef56ec1d769696"
  },
  "kernelspec": {
   "display_name": "Python 3.8.11 64-bit ('ada': conda)",
   "name": "python3"
  },
  "language_info": {
   "codemirror_mode": {
    "name": "ipython",
    "version": 3
   },
   "file_extension": ".py",
   "mimetype": "text/x-python",
   "name": "python",
   "nbconvert_exporter": "python",
   "pygments_lexer": "ipython3",
   "version": "3.8.12"
  },
  "orig_nbformat": 4
 },
 "nbformat": 4,
 "nbformat_minor": 2
}
