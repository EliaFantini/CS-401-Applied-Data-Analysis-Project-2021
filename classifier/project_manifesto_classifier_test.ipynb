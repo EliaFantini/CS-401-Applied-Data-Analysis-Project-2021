{
 "cells": [
  {
   "cell_type": "markdown",
   "metadata": {
    "collapsed": true,
    "pycharm": {
     "name": "#%% md\n"
    }
   },
   "source": [
    "# Topic classifier test\n",
    "This notebook aims to test the classifier trained using a Random Forest technique over training data properly\n",
    "preprocessed with different NLP functions. The result is not satisfying on new data, even though after cross validation\n",
    "the model had an accuracy of over 60%. Many ideas to solve the problem are ready to be tested in the following days.\n",
    "Firstly, we will join \"topic +\" and \"topic -\" into \"topic\", removing sentiment evaluation's duty from the classifier,\n",
    "making it simpler and more effective.\n",
    "\n",
    "First sketch results:"
   ]
  },
  {
   "cell_type": "code",
   "execution_count": 1,
   "outputs": [],
   "source": [
    "import pickle\n",
    "import pandas as pd\n",
    "from classifier import preprocess_sentences"
   ],
   "metadata": {
    "collapsed": false,
    "pycharm": {
     "name": "#%%\n"
    }
   }
  },
  {
   "cell_type": "code",
   "execution_count": 2,
   "metadata": {
    "collapsed": false,
    "pycharm": {
     "name": "#%%\n"
    }
   },
   "outputs": [
    {
     "name": "stderr",
     "output_type": "stream",
     "text": [
      "C:\\ProgramData\\Anaconda3\\envs\\myenv\\lib\\site-packages\\sklearn\\base.py:315: UserWarning: Trying to unpickle estimator DecisionTreeClassifier from version 0.24.1 when using version 0.24.2. This might lead to breaking code or invalid results. Use at your own risk.\n",
      "  UserWarning)\n",
      "C:\\ProgramData\\Anaconda3\\envs\\myenv\\lib\\site-packages\\sklearn\\base.py:315: UserWarning: Trying to unpickle estimator RandomForestClassifier from version 0.24.1 when using version 0.24.2. This might lead to breaking code or invalid results. Use at your own risk.\n",
      "  UserWarning)\n"
     ]
    }
   ],
   "source": [
    "# load the data\n",
    "PATH = \"../data/binary/us-politicians.pickle\"\n",
    "df = pd.read_pickle(PATH)\n",
    "df = df.sample(10000)\n",
    "X_test = list(df['quotation'])\n",
    "with open('topic_classifier', 'rb') as training_model:\n",
    "    model = pickle.load(training_model)"
   ]
  },
  {
   "cell_type": "code",
   "execution_count": 3,
   "metadata": {
    "collapsed": false,
    "pycharm": {
     "name": "#%%\n"
    }
   },
   "outputs": [],
   "source": [
    "X_test = preprocess_sentences(X_test)\n",
    "y = model.predict(X_test)"
   ]
  },
  {
   "cell_type": "code",
   "execution_count": 19,
   "metadata": {
    "collapsed": false,
    "pycharm": {
     "name": "#%%\n"
    }
   },
   "outputs": [
    {
     "data": {
      "text/plain": "         speaker_id           quote_id  \\\n1241388      215057  2015-05-20-025417   \n1054682        6294  2019-12-06-119071   \n1413169      158813  2018-10-12-070017   \n737284        22686  2019-04-19-023367   \n860881        22686  2020-02-06-104541   \n1055797        6294  2019-09-25-102993   \n242378        22686  2016-08-16-091844   \n1161552      232301  2018-06-01-059806   \n876827        22686  2020-01-16-068318   \n547966        22686  2018-07-26-006327   \n1003478        6294  2016-08-20-031436   \n1297400      434706  2019-06-15-034312   \n1466876    10853588  2020-03-05-034267   \n1419487       23685  2017-03-10-044030   \n194784        22686  2015-09-24-088625   \n970481         6294  2015-10-15-096956   \n656754        22686  2018-10-30-113316   \n980828         6294  2015-12-16-143080   \n1092308      170581  2019-12-07-014576   \n986433         6294  2015-11-17-030382   \n1497272      381157  2017-11-15-036105   \n1601215     7287916  2018-03-16-142761   \n192064        22686  2015-12-09-113318   \n1073324      170581  2017-08-21-101206   \n707000        22686  2019-09-18-007166   \n628524        22686  2018-12-24-048892   \n274240        22686  2016-08-26-053970   \n1306249      434706  2020-02-03-064831   \n636214        22686  2018-03-02-085440   \n728224        22686  2019-04-05-047494   \n\n                                                 quotation           speaker  \\\n1241388  I think there will be a clearly changed attitu...        Rick Perry   \n1054682  When I think about the American military, that...   Hillary Clinton   \n1413169  Let me begin with a recommendation: pork chop ...     Mike Huckabee   \n737284                       It's all because you recused.      Donald Trump   \n860881   This is really not a news conference, it's not...      Donald Trump   \n1055797  This latest behaviors around Ukraine, trying t...   Hillary Clinton   \n242378     personification of special interest corruption.      Donald Trump   \n1161552  I've been trying to kill myself since I was a ...     Roseanne Barr   \n876827   routinely promoted and inculcated Christian re...      Donald Trump   \n547966   and the enduring strength and spirit of the Am...      Donald Trump   \n1003478  In meeting many of his followers, I've been to...   Hillary Clinton   \n1297400                      not loans or loan guarantees,  Elizabeth Warren   \n1466876  I'm tough on agency oversight and ask tough qu...     Kamala Harris   \n1419487  I should visit home some time. They haven't se...      Jimmy Carter   \n194784   that the word shrill doesn't apply to women ex...      Donald Trump   \n970481   rein in the excesses of capitalism so that it ...   Hillary Clinton   \n656754                      They're going to be very nice.      Donald Trump   \n980828   You do not know how an act of kindness can mak...   Hillary Clinton   \n1092308         I don't think we're headed for a shutdown,      Nancy Pelosi   \n986433   Hillary Clinton is trying to have it both ways...   Hillary Clinton   \n1497272  he's in a position of real influence right now...       Orrin Hatch   \n1601215  Virginia is proud to be home to more than 100,...     Ralph Northam   \n192064   This is about security. Not religion. We can't...      Donald Trump   \n1073324  The President's announcement is low on details...      Nancy Pelosi   \n707000   arched doorways, hardwood floors, 5 bedrooms, ...      Donald Trump   \n628524   The only problem our economy has is the Fed. T...      Donald Trump   \n274240                     is not always a terrible thing.      Donald Trump   \n1306249  She's not true to it. I call her `fairy tale.'...  Elizabeth Warren   \n636214   one source suggested that a new indictment cou...      Donald Trump   \n728224   I'm going to hold a rally, because the dinner ...      Donald Trump   \n\n         party  Date-Time                   topic  \n1241388  29468 2015-05-20      internationalism +  \n1054682  29552 2019-12-06  national way of life +  \n1413169  29468 2018-10-12  political corruption -  \n737284   29468 2019-04-19       free enterprise +  \n860881   29468 2020-02-06        social justice +  \n1055797  29552 2019-09-25        infrastructure +  \n242378   29468 2016-08-16  freedom/human rights +  \n1161552  29468 2018-06-01      multiculturalism +  \n876827   29468 2020-01-16      internationalism -  \n547966   29468 2018-07-26      environmentalism +  \n1003478  29552 2016-08-20          productivity +  \n1297400  29552 2019-06-15  traditional morality +  \n1466876  29552 2020-03-05              military +  \n1419487  29552 2017-03-10   political authority +  \n194784   29468 2015-09-24          constitution +  \n970481   29552 2015-10-15              military +  \n656754   29468 2018-10-30       free enterprise +  \n980828   29552 2015-12-16              military +  \n1092308  29552 2019-12-07  freedom/human rights +  \n986433   29552 2015-11-17             democracy +  \n1497272  29468 2017-11-15              military +  \n1601215  29552 2018-03-16  freedom/human rights +  \n192064   29468 2015-12-09          productivity +  \n1073324  29552 2017-08-21      multiculturalism +  \n707000   29468 2019-09-18                labour +  \n628524   29468 2018-12-24              military +  \n274240   29468 2016-08-26      environmentalism +  \n1306249  29552 2020-02-03  traditional morality +  \n636214   29468 2018-03-02  national way of life -  \n728224   29468 2019-04-05              military +  ",
      "text/html": "<div>\n<style scoped>\n    .dataframe tbody tr th:only-of-type {\n        vertical-align: middle;\n    }\n\n    .dataframe tbody tr th {\n        vertical-align: top;\n    }\n\n    .dataframe thead th {\n        text-align: right;\n    }\n</style>\n<table border=\"1\" class=\"dataframe\">\n  <thead>\n    <tr style=\"text-align: right;\">\n      <th></th>\n      <th>speaker_id</th>\n      <th>quote_id</th>\n      <th>quotation</th>\n      <th>speaker</th>\n      <th>party</th>\n      <th>Date-Time</th>\n      <th>topic</th>\n    </tr>\n  </thead>\n  <tbody>\n    <tr>\n      <th>1241388</th>\n      <td>215057</td>\n      <td>2015-05-20-025417</td>\n      <td>I think there will be a clearly changed attitu...</td>\n      <td>Rick Perry</td>\n      <td>29468</td>\n      <td>2015-05-20</td>\n      <td>internationalism +</td>\n    </tr>\n    <tr>\n      <th>1054682</th>\n      <td>6294</td>\n      <td>2019-12-06-119071</td>\n      <td>When I think about the American military, that...</td>\n      <td>Hillary Clinton</td>\n      <td>29552</td>\n      <td>2019-12-06</td>\n      <td>national way of life +</td>\n    </tr>\n    <tr>\n      <th>1413169</th>\n      <td>158813</td>\n      <td>2018-10-12-070017</td>\n      <td>Let me begin with a recommendation: pork chop ...</td>\n      <td>Mike Huckabee</td>\n      <td>29468</td>\n      <td>2018-10-12</td>\n      <td>political corruption -</td>\n    </tr>\n    <tr>\n      <th>737284</th>\n      <td>22686</td>\n      <td>2019-04-19-023367</td>\n      <td>It's all because you recused.</td>\n      <td>Donald Trump</td>\n      <td>29468</td>\n      <td>2019-04-19</td>\n      <td>free enterprise +</td>\n    </tr>\n    <tr>\n      <th>860881</th>\n      <td>22686</td>\n      <td>2020-02-06-104541</td>\n      <td>This is really not a news conference, it's not...</td>\n      <td>Donald Trump</td>\n      <td>29468</td>\n      <td>2020-02-06</td>\n      <td>social justice +</td>\n    </tr>\n    <tr>\n      <th>1055797</th>\n      <td>6294</td>\n      <td>2019-09-25-102993</td>\n      <td>This latest behaviors around Ukraine, trying t...</td>\n      <td>Hillary Clinton</td>\n      <td>29552</td>\n      <td>2019-09-25</td>\n      <td>infrastructure +</td>\n    </tr>\n    <tr>\n      <th>242378</th>\n      <td>22686</td>\n      <td>2016-08-16-091844</td>\n      <td>personification of special interest corruption.</td>\n      <td>Donald Trump</td>\n      <td>29468</td>\n      <td>2016-08-16</td>\n      <td>freedom/human rights +</td>\n    </tr>\n    <tr>\n      <th>1161552</th>\n      <td>232301</td>\n      <td>2018-06-01-059806</td>\n      <td>I've been trying to kill myself since I was a ...</td>\n      <td>Roseanne Barr</td>\n      <td>29468</td>\n      <td>2018-06-01</td>\n      <td>multiculturalism +</td>\n    </tr>\n    <tr>\n      <th>876827</th>\n      <td>22686</td>\n      <td>2020-01-16-068318</td>\n      <td>routinely promoted and inculcated Christian re...</td>\n      <td>Donald Trump</td>\n      <td>29468</td>\n      <td>2020-01-16</td>\n      <td>internationalism -</td>\n    </tr>\n    <tr>\n      <th>547966</th>\n      <td>22686</td>\n      <td>2018-07-26-006327</td>\n      <td>and the enduring strength and spirit of the Am...</td>\n      <td>Donald Trump</td>\n      <td>29468</td>\n      <td>2018-07-26</td>\n      <td>environmentalism +</td>\n    </tr>\n    <tr>\n      <th>1003478</th>\n      <td>6294</td>\n      <td>2016-08-20-031436</td>\n      <td>In meeting many of his followers, I've been to...</td>\n      <td>Hillary Clinton</td>\n      <td>29552</td>\n      <td>2016-08-20</td>\n      <td>productivity +</td>\n    </tr>\n    <tr>\n      <th>1297400</th>\n      <td>434706</td>\n      <td>2019-06-15-034312</td>\n      <td>not loans or loan guarantees,</td>\n      <td>Elizabeth Warren</td>\n      <td>29552</td>\n      <td>2019-06-15</td>\n      <td>traditional morality +</td>\n    </tr>\n    <tr>\n      <th>1466876</th>\n      <td>10853588</td>\n      <td>2020-03-05-034267</td>\n      <td>I'm tough on agency oversight and ask tough qu...</td>\n      <td>Kamala Harris</td>\n      <td>29552</td>\n      <td>2020-03-05</td>\n      <td>military +</td>\n    </tr>\n    <tr>\n      <th>1419487</th>\n      <td>23685</td>\n      <td>2017-03-10-044030</td>\n      <td>I should visit home some time. They haven't se...</td>\n      <td>Jimmy Carter</td>\n      <td>29552</td>\n      <td>2017-03-10</td>\n      <td>political authority +</td>\n    </tr>\n    <tr>\n      <th>194784</th>\n      <td>22686</td>\n      <td>2015-09-24-088625</td>\n      <td>that the word shrill doesn't apply to women ex...</td>\n      <td>Donald Trump</td>\n      <td>29468</td>\n      <td>2015-09-24</td>\n      <td>constitution +</td>\n    </tr>\n    <tr>\n      <th>970481</th>\n      <td>6294</td>\n      <td>2015-10-15-096956</td>\n      <td>rein in the excesses of capitalism so that it ...</td>\n      <td>Hillary Clinton</td>\n      <td>29552</td>\n      <td>2015-10-15</td>\n      <td>military +</td>\n    </tr>\n    <tr>\n      <th>656754</th>\n      <td>22686</td>\n      <td>2018-10-30-113316</td>\n      <td>They're going to be very nice.</td>\n      <td>Donald Trump</td>\n      <td>29468</td>\n      <td>2018-10-30</td>\n      <td>free enterprise +</td>\n    </tr>\n    <tr>\n      <th>980828</th>\n      <td>6294</td>\n      <td>2015-12-16-143080</td>\n      <td>You do not know how an act of kindness can mak...</td>\n      <td>Hillary Clinton</td>\n      <td>29552</td>\n      <td>2015-12-16</td>\n      <td>military +</td>\n    </tr>\n    <tr>\n      <th>1092308</th>\n      <td>170581</td>\n      <td>2019-12-07-014576</td>\n      <td>I don't think we're headed for a shutdown,</td>\n      <td>Nancy Pelosi</td>\n      <td>29552</td>\n      <td>2019-12-07</td>\n      <td>freedom/human rights +</td>\n    </tr>\n    <tr>\n      <th>986433</th>\n      <td>6294</td>\n      <td>2015-11-17-030382</td>\n      <td>Hillary Clinton is trying to have it both ways...</td>\n      <td>Hillary Clinton</td>\n      <td>29552</td>\n      <td>2015-11-17</td>\n      <td>democracy +</td>\n    </tr>\n    <tr>\n      <th>1497272</th>\n      <td>381157</td>\n      <td>2017-11-15-036105</td>\n      <td>he's in a position of real influence right now...</td>\n      <td>Orrin Hatch</td>\n      <td>29468</td>\n      <td>2017-11-15</td>\n      <td>military +</td>\n    </tr>\n    <tr>\n      <th>1601215</th>\n      <td>7287916</td>\n      <td>2018-03-16-142761</td>\n      <td>Virginia is proud to be home to more than 100,...</td>\n      <td>Ralph Northam</td>\n      <td>29552</td>\n      <td>2018-03-16</td>\n      <td>freedom/human rights +</td>\n    </tr>\n    <tr>\n      <th>192064</th>\n      <td>22686</td>\n      <td>2015-12-09-113318</td>\n      <td>This is about security. Not religion. We can't...</td>\n      <td>Donald Trump</td>\n      <td>29468</td>\n      <td>2015-12-09</td>\n      <td>productivity +</td>\n    </tr>\n    <tr>\n      <th>1073324</th>\n      <td>170581</td>\n      <td>2017-08-21-101206</td>\n      <td>The President's announcement is low on details...</td>\n      <td>Nancy Pelosi</td>\n      <td>29552</td>\n      <td>2017-08-21</td>\n      <td>multiculturalism +</td>\n    </tr>\n    <tr>\n      <th>707000</th>\n      <td>22686</td>\n      <td>2019-09-18-007166</td>\n      <td>arched doorways, hardwood floors, 5 bedrooms, ...</td>\n      <td>Donald Trump</td>\n      <td>29468</td>\n      <td>2019-09-18</td>\n      <td>labour +</td>\n    </tr>\n    <tr>\n      <th>628524</th>\n      <td>22686</td>\n      <td>2018-12-24-048892</td>\n      <td>The only problem our economy has is the Fed. T...</td>\n      <td>Donald Trump</td>\n      <td>29468</td>\n      <td>2018-12-24</td>\n      <td>military +</td>\n    </tr>\n    <tr>\n      <th>274240</th>\n      <td>22686</td>\n      <td>2016-08-26-053970</td>\n      <td>is not always a terrible thing.</td>\n      <td>Donald Trump</td>\n      <td>29468</td>\n      <td>2016-08-26</td>\n      <td>environmentalism +</td>\n    </tr>\n    <tr>\n      <th>1306249</th>\n      <td>434706</td>\n      <td>2020-02-03-064831</td>\n      <td>She's not true to it. I call her `fairy tale.'...</td>\n      <td>Elizabeth Warren</td>\n      <td>29552</td>\n      <td>2020-02-03</td>\n      <td>traditional morality +</td>\n    </tr>\n    <tr>\n      <th>636214</th>\n      <td>22686</td>\n      <td>2018-03-02-085440</td>\n      <td>one source suggested that a new indictment cou...</td>\n      <td>Donald Trump</td>\n      <td>29468</td>\n      <td>2018-03-02</td>\n      <td>national way of life -</td>\n    </tr>\n    <tr>\n      <th>728224</th>\n      <td>22686</td>\n      <td>2019-04-05-047494</td>\n      <td>I'm going to hold a rally, because the dinner ...</td>\n      <td>Donald Trump</td>\n      <td>29468</td>\n      <td>2019-04-05</td>\n      <td>military +</td>\n    </tr>\n  </tbody>\n</table>\n</div>"
     },
     "execution_count": 19,
     "metadata": {},
     "output_type": "execute_result"
    }
   ],
   "source": [
    "df['topic'] = y\n",
    "lines = open(\"data/manifestolabels.txt\").readlines()\n",
    "topic_map = dict(map(lambda x: (int(x[3:6]), x[8:-2]),lines))\n",
    "df['topic'] = df['topic'].map(topic_map)\n",
    "sample = df.sample(30)\n",
    "sample"
   ]
  }
 ],
 "metadata": {
  "kernelspec": {
   "display_name": "PyCharm (ml-project-1-pasta_balalaika)",
   "language": "python",
   "name": "pycharm-8f20d7e5"
  },
  "language_info": {
   "codemirror_mode": {
    "name": "ipython",
    "version": 2
   },
   "file_extension": ".py",
   "mimetype": "text/x-python",
   "name": "python",
   "nbconvert_exporter": "python",
   "pygments_lexer": "ipython2",
   "version": "2.7.6"
  }
 },
 "nbformat": 4,
 "nbformat_minor": 0
}